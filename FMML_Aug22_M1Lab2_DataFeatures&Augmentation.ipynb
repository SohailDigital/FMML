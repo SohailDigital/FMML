{
  "nbformat": 4,
  "nbformat_minor": 0,
  "metadata": {
    "colab": {
      "provenance": [],
      "collapsed_sections": [],
      "include_colab_link": true
    },
    "kernelspec": {
      "name": "python3",
      "display_name": "Python 3"
    },
    "language_info": {
      "name": "python"
    }
  },
  "cells": [
    {
      "cell_type": "markdown",
      "metadata": {
        "id": "view-in-github",
        "colab_type": "text"
      },
      "source": [
        "<a href=\"https://colab.research.google.com/github/SohailDigital/FMML/blob/main/FMML_Aug22_M1Lab2_DataFeatures%26Augmentation.ipynb\" target=\"_parent\"><img src=\"https://colab.research.google.com/assets/colab-badge.svg\" alt=\"Open In Colab\"/></a>"
      ]
    },
    {
      "cell_type": "markdown",
      "source": [
        "# **The TASK is completed and is the cell where the task is given**"
      ],
      "metadata": {
        "id": "yI9FC4yqr5xX"
      }
    },
    {
      "cell_type": "markdown",
      "source": [
        "## FMML Module 1, Lab 2<br>\n",
        "Module Coordinator : amit.pandey@research.iiit.ac.in <br>"
      ],
      "metadata": {
        "id": "JN97BfHPX7yo"
      }
    },
    {
      "cell_type": "markdown",
      "source": [
        "### The aim of this lab is to introduce DATA and FEATURES.\n",
        "We will study: Feature extraction and Data Augmentation.\n",
        "Let's get started.\n",
        "\n"
      ],
      "metadata": {
        "id": "Q0DQhRGLo3Tr"
      }
    },
    {
      "cell_type": "markdown",
      "source": [
        "Make a copy before running the cells"
      ],
      "metadata": {
        "id": "o4AtXdwvNRGS"
      }
    },
    {
      "cell_type": "markdown",
      "source": [
        "### Data can be anything like text, image , sound signals, and even a mix of multiple types (multimodal). We need to learn how to handle raw data, and how to use them for our analysis."
      ],
      "metadata": {
        "id": "gkEBupTXa1xo"
      }
    },
    {
      "cell_type": "markdown",
      "metadata": {
        "id": "A6I1yI79fbLD"
      },
      "source": [
        "# Extracting features from data\n",
        "\n",
        "\n",
        " \n",
        "\n"
      ]
    },
    {
      "cell_type": "code",
      "metadata": {
        "id": "OimBnfcpvcNS",
        "colab": {
          "base_uri": "https://localhost:8080/"
        },
        "outputId": "f9e239b0-c55a-4767-f6a6-820ba921892b"
      },
      "source": [
        "## Standard Imports.\n",
        "\n",
        "! pip install wikipedia\n",
        "\n",
        "import wikipedia\n",
        "import nltk\n",
        "from nltk.util import ngrams \n",
        "from collections import Counter\n",
        "import matplotlib.pyplot as plt\n",
        "import numpy as np\n",
        "import re\n",
        "import unicodedata\n",
        "import plotly.express as px\n",
        "import pandas as pd\n"
      ],
      "execution_count": null,
      "outputs": [
        {
          "output_type": "stream",
          "name": "stdout",
          "text": [
            "Looking in indexes: https://pypi.org/simple, https://us-python.pkg.dev/colab-wheels/public/simple/\n",
            "Collecting wikipedia\n",
            "  Downloading wikipedia-1.4.0.tar.gz (27 kB)\n",
            "Requirement already satisfied: beautifulsoup4 in /usr/local/lib/python3.7/dist-packages (from wikipedia) (4.6.3)\n",
            "Requirement already satisfied: requests<3.0.0,>=2.0.0 in /usr/local/lib/python3.7/dist-packages (from wikipedia) (2.23.0)\n",
            "Requirement already satisfied: urllib3!=1.25.0,!=1.25.1,<1.26,>=1.21.1 in /usr/local/lib/python3.7/dist-packages (from requests<3.0.0,>=2.0.0->wikipedia) (1.24.3)\n",
            "Requirement already satisfied: idna<3,>=2.5 in /usr/local/lib/python3.7/dist-packages (from requests<3.0.0,>=2.0.0->wikipedia) (2.10)\n",
            "Requirement already satisfied: certifi>=2017.4.17 in /usr/local/lib/python3.7/dist-packages (from requests<3.0.0,>=2.0.0->wikipedia) (2022.6.15)\n",
            "Requirement already satisfied: chardet<4,>=3.0.2 in /usr/local/lib/python3.7/dist-packages (from requests<3.0.0,>=2.0.0->wikipedia) (3.0.4)\n",
            "Building wheels for collected packages: wikipedia\n",
            "  Building wheel for wikipedia (setup.py) ... \u001b[?25l\u001b[?25hdone\n",
            "  Created wheel for wikipedia: filename=wikipedia-1.4.0-py3-none-any.whl size=11695 sha256=1b905887a8b81d3339f7c2181efb5e4bb4fba1be427477e06d872e0dd0232f9c\n",
            "  Stored in directory: /root/.cache/pip/wheels/15/93/6d/5b2c68b8a64c7a7a04947b4ed6d89fb557dcc6bc27d1d7f3ba\n",
            "Successfully built wikipedia\n",
            "Installing collected packages: wikipedia\n",
            "Successfully installed wikipedia-1.4.0\n"
          ]
        }
      ]
    },
    {
      "cell_type": "markdown",
      "source": [
        "## What are features? \n",
        "### Features are individual independent variables that act like an input to your system. \n",
        "A very basic example is: In z = x + y, x and y are the features.\n",
        "We can have simple features like above or even more complex features learned by our machine learning models (we will study these later on)."
      ],
      "metadata": {
        "id": "_f74mfnO8Rd_"
      }
    },
    {
      "cell_type": "code",
      "source": [
        "import matplotlib.pyplot as plt\n",
        "from matplotlib import cm\n",
        "import numpy as np\n",
        "\n",
        "from mpl_toolkits.mplot3d.axes3d import get_test_data\n",
        "\n",
        " \n",
        "# set up a figure twice as wide as it is tall\n",
        "fig = plt.figure(figsize=plt.figaspect(1))\n",
        "\n",
        "# =============\n",
        "# First subplot\n",
        "# =============\n",
        "# set up the axes for the first plot\n",
        "ax = fig.add_subplot(1, 1, 1, projection='3d')\n",
        "\n",
        "# plot a 3D surface like in the example mplot3d/surface3d_demo\n",
        "X = np.arange(-5, 5, 0.25) # feature 1\n",
        "Y = np.arange(-5, 5, 0.25) # feature 2\n",
        "X, Y = np.meshgrid(X, Y)\n",
        "R = np.sqrt(X**2 + Y**2)\n",
        "Z = np.sin(R) #output\n",
        "surf = ax.plot_surface(X, Y, Z, rstride=1, cstride=1, cmap=cm.coolwarm,\n",
        "                       linewidth=0.8, antialiased=False)\n",
        "ax.set_zlim(-1.01, 1.01)\n",
        "ax.set_ylim(-5,3)\n",
        "fig.colorbar(surf, shrink=0.5, aspect=10)"
      ],
      "metadata": {
        "colab": {
          "base_uri": "https://localhost:8080/",
          "height": 266
        },
        "id": "n9KMUJBd8QKx",
        "outputId": "39c7ebe1-553f-4478-e6a3-e7d7907a64e7"
      },
      "execution_count": null,
      "outputs": [
        {
          "output_type": "execute_result",
          "data": {
            "text/plain": [
              "<matplotlib.colorbar.Colorbar at 0x7fe6d1d467d0>"
            ]
          },
          "metadata": {},
          "execution_count": 9
        },
        {
          "output_type": "display_data",
          "data": {
            "text/plain": [
              "<Figure size 288x288 with 2 Axes>"
            ],
            "image/png": "[encoded data removed]"
          },
          "metadata": {
            "needs_background": "light"
          }
        }
      ]
    },
    {
      "cell_type": "markdown",
      "metadata": {
        "id": "m6hGhIGiy4GP"
      },
      "source": [
        "# Part 2: Features of text\n",
        "How do we apply machine learning on text? We can't directly use the text as input to our algorithms. We need to convert them to features.They are converted into vectors (embeddings) or one hot encoded.  Let us explore a simple way of converting text to features. \n",
        "\n",
        "Let us download a few documents off Wikipedia."
      ]
    },
    {
      "cell_type": "code",
      "metadata": {
        "id": "lpUmCoEr2R3J"
      },
      "source": [
        "## set language and then download the data.\n",
        "\n",
        "topic1 = 'Giraffe'\n",
        "topic2 = 'Elephant'\n",
        "wikipedia.set_lang('en') \n",
        "eng1 = wikipedia.page(topic1).content\n",
        "eng2 = wikipedia.page(topic2).content\n",
        "wikipedia.set_lang('fr')\n",
        "fr1 = wikipedia.page(topic1).content\n",
        "fr2 = wikipedia.page(topic2).content\n",
        "\n"
      ],
      "execution_count": null,
      "outputs": []
    },
    {
      "cell_type": "markdown",
      "metadata": {
        "id": "Cj7RlhMiO5kd"
      },
      "source": [
        "This is what the text looks like:"
      ]
    },
    {
      "cell_type": "code",
      "metadata": {
        "id": "GW0G-t912UXZ",
        "colab": {
          "base_uri": "https://localhost:8080/",
          "height": 127
        },
        "outputId": "13a1f883-4f2b-4f45-a2a9-9931d0fdd531"
      },
      "source": [
        "fr2 ## the french textual data describing the second topic."
      ],
      "execution_count": null,
      "outputs": [
        {
          "output_type": "execute_result",
          "data": {
            "text/plain": [
              "'Les éléphants sont des mammifères proboscidiens de la famille des Éléphantidés. Ils correspondent aujourd\\'hui à trois espèces réparties en deux genres distincts. L\\'éléphant de savane d\\'Afrique et l\\'éléphant de forêt d\\'Afrique, autrefois regroupés sous la même espèce d\\'« éléphant d\\'Afrique », appartiennent au genre Loxodonta, tandis que l\\'éléphant d\\'Asie, anciennement appelé « éléphant indien », appartient au genre Elephas. Ils se différencient par certaines caractéristiques anatomiques, les éléphants d\\'Asie étant en général plus petits avec des oreilles plus petites, ou encore une différence du bout de la trompe. Ces espèces survivantes font localement l\\'objet de programmes ou de projets de réintroduction et de protection.\\nLe mot français « éléphant » vient du mot latin elephantus qui tire son origine du grec ἐλέφας signifiant « ivoire » ou « éléphant ».\\nL\\'éléphant apparait dans de nombreuses cultures. Il est symbole de sagesse dans la culture asiatique, connu pour sa mémoire et son intelligence, qui est comparée à celle des cétacés et hominidés. Aristote avait dit que l\\'éléphant est « la bête qui dépasse toutes les autres par l\\'intelligence et l\\'esprit ».\\n\\n\\n== Description ==\\n\\nL\\'éléphant d\\'Afrique, qui peut atteindre 7 tonnes, est le plus gros animal terrestre actuel, mais il est loin derrière la Baleine bleue (Balaenoptera musculus) qui peut peser jusqu\\'à 200 tonnes et dépasser 30 mètres de long.\\n\\n\\n=== Squelette et muscles ===\\n\\nLe squelette de l\\'éléphant présente des caractéristiques dictées par la masse qu\\'il doit soutenir : il représente environ 16,5 % de la masse totale de l\\'animal, cela signifie que pour un éléphant de 7 tonnes, le squelette pèse 1,155 tonne. Les os de l\\'éléphant sont spongieux. Sa cage thoracique, formée de vingt côtes, est arrimée le long de l\\'épine dorsale.\\nL\\'éléphant possède deux genoux à ses membres postérieurs, qui sont constitués d\\'un fémur, d\\'une rotule et de l\\'association tibia-fibula. Les membres antérieurs, quant à eux, comprennent une scapula, un humérus, et l\\'association radius-ulna.\\nL\\'éléphant marche sur le bout des doigts,. Les orteils sont insérés dans le pied, il y en a entre 2 et 5, on en voit seulement les ongles. Cependant on peut voir entre trois et cinq ongles en fonction des pieds. Les pieds antérieurs ont une forme arrondie, alors que les pieds postérieurs ont une forme ovale. Les pieds sont composés de tissus adipeux qui agissent comme des amortisseurs.\\nContrairement à la plupart des mammifères, il est impossible pour un éléphant de sauter, pour des raisons d\\'ordre biomécanique : il lui faut toujours un pied sur le sol. Cependant il peut courir à une vitesse maximale de 20 km/h (un éléphant ayant été chronométré à 24 km/h dans le cadre d\\'une étude scientifique).\\nMême si on emploie le terme « courir » pour un éléphant, il est à noter que le terme est inapproprié. Il serait plus logique de dire qu’il « marche vite ». En effet, il ne change pas son allure (sa façon de se déplacer) lorsqu’il accélère.\\nUn éléphant d\\'Afrique mâle adulte mesure 3,50 mètres au garrot et pèse 5 à 6 tonnes, une femelle adulte mesure 3 mètres de haut au garrot pour une masse de 4 tonnes environ. À la naissance, l\\'éléphant pèse environ 120 kg. Un éléphant vit en moyenne 60 ans. Le plus grand éléphant connu a été signalé en Angola en 1974 : il s’agissait d’un mâle de 12 tonnes mesurant 4,20 m au garrot, soit un mètre de plus que la moyenne des éléphants africains.\\nDes éléphants nains, de la taille d\\'un grand cochon, ont également peuplé les îles méditerranéennes au cours de la Préhistoire, ; certains sont signalés en Crète jusqu\\'en 5000 av. J.-C., voire jusqu’en 3000 av. J.-C.,.\\n\\n\\n=== Trompe ===\\nLa principale caractéristique des éléphants est leur trompe appelée proboscis. Il s\\'agit d\\'un organe nasal (avec une fonction de respiration et de perception des odeurs) allongé qui découle de la fusion de la lèvre supérieure et du nez. La trompe est un organe souple et préhensile leur servant à porter l\\'eau et la nourriture à leur bouche, à tirer ou transporter des objets et à pousser des cris.\\nLa trompe comporte entre 100 000 et 150 000 muscles ; elle est dépourvue d\\'os et pèse plus de 100 kg.\\n« La trompe se compose de deux longs tuyaux cylindriques, partant de l’ouverture antérieure des fosses nasales. Ces tubes se rétrécissent à la région de l’inter mâchoire, ce qui empêche l’eau pompée par la trompe de pénétrer dans la cavité nasale ; ils offrent ensuite une dilatation, puis se resserrent de nouveau à l’endroit où ils s’ouvrent dans les narines osseuses, et où ils sont couverts par un cartilage nasal ovale. (…) Les tubes sont entourés d’une multitude de faisceaux musculaires, les uns longitudinaux, les autres rayonnant vers la peau et servant à comprimer les premiers. Quelques-uns enfin, mais en moins grand nombre sont circulaires. Cependant il faut distinguer de ces muscles, propres à la trompe, ceux qui servent à mouvoir l’organe en entier. Ces derniers sont comparables aux muscles de la queue. On les distingue en élévateurs et abaisseurs supérieurs et latéraux, qui naissent du front, des os propres du nez et des cartilages, tant de l’os maxillaire supérieur que de l’intermaxillaire ».\\nLe bout de la trompe d\\'un éléphant d\\'Afrique est en forme d\\'amande, alors que celle d\\'un éléphant d\\'Asie est en forme de poire. L\\'excroissance à son extrémité a une fonction analogue à un doigt, leur permettant de décortiquer une cacahuète. Les éléphants ne boivent pas directement par leur trompe. L\\'effort nécessaire pour se pencher jusqu\\'au sol afin de boire l\\'eau par la bouche étant trop important et l\\'opération étant même impossible lorsque l\\'eau se trouve au-dessous du niveau du sol, ils boivent en remplissant leur trompe avec de l\\'eau qu\\'ils aspirent et gardent momentanément avant de la verser ensuite, par gravité, dans leur bouche.\\nL\\'allongement du museau des proboscidiens anciens à l\\'origine de l\\'éléphant serait lié à la croissance continue des incisives (les défenses) et leur augmentation de taille : herbivores concurrencés par les ruminants et les équidés, leur adaptation trophique se traduit alors par un régime de plantes plus fibreuses peu nutritives et une augmentation de taille corrélative, les proboscidiens fourrageant pendant des heures à la recherche aussi bien de végétaux au sol que de feuilles d\\'arbres.\\n\\n\\t\\t\\n\\t\\t\\n\\n\\n=== Denture et défenses ===\\n\\nLe plus souvent les éléphants ont des défenses, des dents très allongées utilisées par ces animaux comme outil, arme de défense et attribut sexuel. Les défenses sont des dents supérieures à croissance continue. L\\'éléphanteau possède des prémolaires de lait qui tombent lorsque les molaires apparaissent, l\\'adulte n\\'en possède pas. Chez les éléphants adultes il n\\'y a que 6 dents, 2 incisives, ce sont les défenses, et 4 molaires. La formule dentaire est i1/0 c0/0 m1/1.\\n\\n\\n==== Dents ====\\nLes dents sont essentiellement composées d’ivoire et d’émail qui forment la couronne des dents par de nombreuses crêtes transversales, qui sont plus ou moins lamellées. Les crêtes sont disjointes puis, au fur et à mesure, un cément se forme et s’intercale entre les dents pour former un tout. Un petit nombre de dents molaires sont présentes à chaque mâchoire, « parfois une paire (…), (…) une paire à l’une des mâchoires et deux à l’autre, (…) encore deux paires à chacune », de plus les dents correspondantes entre elles « n’ont ni la même apparence, ni le même nombre de lamelles ».\\n\\nSelon les études de Corse et de Blainville, « les éléphants (…) ont six paires de dents à chacune des mâchoires. Ces dents augmentent de volume depuis la première jusqu’à la dernière ou sixième, et le nombre de leurs lamelles (…) est aussi de plus en plus considérable. ». « La succession des dents molaires s’opère ainsi par flots d’une manière lente mais réglée, et l’on admet trois flots différents. Les dents se présentent deux par deux de chaque côté de l’une et de l’autre mâchoire. Le degré plus ou moins avancé de l’usure de chacune d’elles détermine les différences que l’on remarque dans le nombre total de lamelles (…) pour chaque flot ».\\nLes éléphants ont généralement 26 dents : les 2 incisives appelées défenses, 12 prémolaires déciduales et 12 molaires. Contrairement à la plupart des mammifères, qui font pousser des dents de lait, puis les remplacent par un seul ensemble permanent de dents adultes, les éléphants sont des polyphyodontes : ils ont des cycles de rotation dentaire tout au long de leur vie. Les molaires sont remplacées six fois au cours de la vie d\\'un éléphant typique. Les dents ne sont pas remplacées par de nouvelles dents émergeant des mâchoires verticalement comme chez la plupart des mammifères. Au lieu de cela, de nouvelles dents poussent à l\\'arrière de la bouche et avancent pour repousser les anciennes. La première molaire de chaque côté de la mâchoire tombe lorsque l\\'éléphant a 2 ou 3 ans. La deuxième série de molaires tombe à l\\'âge de 4 à 6 ans. La troisième série tombe entre 9 et 15 ans et la quatrième série dure jusqu\\'à 18-28 ans. La cinquième série de dents tombe vers la quarantaine. La sixième poussée — et généralement la dernière — doit durer à l\\'éléphant le reste de sa vie. Les dents d\\'éléphant ont des crêtes dentaires en forme de boucle, qui sont plus épaisses et plus en forme de losange chez les éléphants d\\'Afrique.\\n\\n\\n==== Défenses ====\\n\\nLes défenses d\\'un éléphant sont les deuxièmes incisives modifiées de la mâchoire supérieure. Elles remplacent les dents de lait à l\\'âge de 6 à 12 mois et poussent continuellement d\\'environ 17 cm par an. Une défense nouvellement développée a un capuchon en émail lisse qui finit par s\\'estomper. La dentine est connue sous le nom d\\'ivoire ; sa section transversale se compose de motifs de lignes entrecroisées qui créent des zones en forme de losange. Une grande partie des défenses est visible de l\\'extérieur ; le reste est enserré dans un logement du crâne. Au moins un tiers de la défense contient la pulpe et certains nerfs s\\'étendent jusqu\\'à la pointe. Il serait donc difficile de l\\'enlever sans nuire à l\\'animal. Une fois retiré, l\\'ivoire commence à se dessécher et à se fissurer s\\'il n\\'est pas conservé au frais et à l\\'humidité.\\nL\\'éléphant se sert de ses défenses à plusieurs fins. Il les utilise pour creuser dans l\\'eau, le sel ou parmi les racines; écorcer ou marquer les arbres ; déplacer des arbres et des branches pour dégager un chemin. Lors des combats, elles servent pour attaquer, se défendre, protéger le corps.\\n\\nComme les humains, qui sont généralement droitiers ou gauchers, les éléphants ont généralement une différenciation des défenses droite et gauche. La défense dominante, appelée défense principale, est généralement plus usée et plus courte, avec une pointe plus arrondie. Pour les éléphants d\\'Afrique, les défenses sont présentes chez les mâles et les femelles, et ont à peu près la même longueur pour les deux sexes, atteignant jusqu\\'à 3 m, mais celles des mâles ont tendance à être plus épaisses. Autrefois, les défenses d\\'éléphant pesant 100 kg et plus n\\'étaient pas rares, mais on n\\'en voit plus guère aujourd\\'hui dépassant 50 kg.\\nChez les espèces asiatiques, seuls les mâles ont de grandes défenses. Les femelles asiatiques ont de très petites défenses, voire aucune. Il existe des mâles dépourvus de défenses, particulièrement communs au Sri Lanka. Les mâles asiatiques peuvent avoir des défenses aussi longues que celles des africains, mais elles sont généralement plus minces et plus légères : les plus grandes enregistrées mesuraient 3,02 m de long et pesaient 39 kg. La chasse à l\\'ivoire d\\'éléphant en Afrique et en Asie a conduit à une sélection naturelle pour des défenses plus courtes, ou absentes,.\\n\\n\\n=== Peau ===\\nLa peau de l\\'éléphant est d\\'une épaisseur d\\'environ 2 cm. Cette peau est fragile du fait de la présence de plis où viennent se loger des parasites. Il n\\'y a pratiquement pas de poils, et il n\\'y a ni glande sudoripare, ni glande sébacée. De ce fait, leur peau est sèche, c\\'est pour cela qu\\'elle doit être souvent humectée à l\\'aide d\\'eau projetée par la trompe ou couverte de poussière ou de boue également projetée par leur trompe.\\nLa couleur de la peau est grisâtre ; cependant sa couleur apparente est liée au sol sur lequel évolue l\\'éléphant. Elle peut aussi être due aux bains de boues.\\nLa faible densité des poils (quelques centaines par mètre carré, chaque poil mesurant en moyenne 2 centimètres de longueur et 0,5 mm de diamètre) agit non plus comme une fourrure mais participe — à hauteur de 23 % — avec d\\'autres mécanismes de thermorégulation (battement des oreilles, bains, pulvérisation d\\'eau avec leurs trompes, respiration percutanée) à la thermolyse du mammifère, les poils agissant comme des ailettes qui augmentent la surface d\\'échange et donc les transferts thermiques.\\n\\n\\t\\t\\n\\t\\t\\n\\n\\n=== Oreille ===\\nLes oreilles de l\\'éléphant lui permettent de réguler sa température corporelle, grâce à une vascularisation très importante. Lorsqu\\'il mange des fruits fermentés ayant un degré d\\'alcool d\\'environ 7°, l\\'éléphant remue violemment ses oreilles, de même pour sa queue et sa trompe. Elles sont généralement plus petites chez l\\'éléphant d\\'Asie.\\n\\n\\n=== Cerveau ===\\nLe cerveau de l\\'éléphant, situé à l\\'arrière de son crâne, pèse entre 4 et 6 kg, ce qui est déjà considérable. Si l\\'on compare la taille du cerveau de l\\'éléphant à sa masse corporelle, il est alors le mammifère ayant le plus petit cerveau, alors que la souris possède le plus grand.\\n\\n\\n== Biologie et comportement ==\\n\\n\\n=== Reproduction ===\\n\\n\\n==== Maturité sexuelle ====\\nSi les fonctions reproductrices des éléphants mâles se mettent en place vers l\\'âge de 10-15 ans, ils commencent à se reproduire vers l\\'âge de 30 ans quand ils sont suffisamment imposants pour pouvoir se battre avec d\\'autres mâles pour conquérir les femelles.\\nLes fonctions reproductrices de l\\'éléphant femelle apparaissent de 9 ans jusqu\\'à 15 ans.\\nDans l\\'organisation matriarcale des éléphants, les mâles sont connus pour leur tempérament indépendant et ont tendance à vivre en solitaire, forgeant parfois une alliance provisoire avec un autre individu ou intégrant une bande de manière informelle. Tandis que les femelles entretiennent des liens familiaux étroits et solides.\\n\\n\\n==== Comportement sexuel ====\\n\\nLes mâles en rut, dont le taux sanguin de testostérone peut s\\'accroître cinquante fois, agitent les oreilles et secouent la tête, leur pénis devient vert. Il en dégouline une urine fortement odorante. Cela est dû à la libération d\\'un musc d’une phéromone, la frontaline, sécrétée sous deux formes chirales. Ces deux énantiomères (deux formes : (+)-frontaline et (-)-frontaline) ne sont pas sécrétés en mêmes proportions. Chez les jeunes mâles, la forme (+) domine. Au fur et à mesure de la maturité et de la période de rut, les deux isomères forment un racémique, qui attire les femelles en phase folliculaire et en œstrus. La frontaline est libérée par la glande temporale chez l’éléphant en période de rut, la sécrétion débute peu de temps avant la puberté, à l’âge de 15 ans. Cependant le rut ne se produit qu\\'à partir de 25 ans et ne durera que quelques jours. Puis vers 31-35 ans, celui-ci dure plusieurs semaines. Vers 36-40 ans, il dure de 1 à 2 mois. Pour finir, après 40 ans, le rut s’étend sur une période de 2 à 4 mois. La quantité de phéromones émises augmente avec l’âge de l’éléphant ainsi qu’en milieu de rut. La concentration et la proportion d’énantiomères de la frontaline constituent pour les animaux qui seront attentifs au message une source d’information sur l’âge et le stade du musth de l\\'éléphant qui émet. Une concentration de frontaline, en racémique, sera le synonyme d\\'un mâle mature ayant un statut social important.\\n\\n\\n==== Accouplement ====\\n\\nUne fois que la femelle et le mâle sont ensemble, l\\'accouplement peut commencer. L\\'éléphant mâle étant très lourd, la copulation est très rapide. En général, elle dure entre 20 et 30 secondes. La période de copulations dure environ trois jours.\\nLa jeune femelle est effrayée lors de sa première période de chaleur, le mâle peut la poursuivre. Pour avertir la femelle qu\\'il va la saillir, le mâle pose sa trompe sur son dos ; la femelle s\\'immobilise alors.\\nLes mâles passent dans les troupeaux de femelles lors de leur rut pour sentir les vulves des femelles.\\n\\n\\n==== Gestation et mise bas ====\\n\\nLa gestation d\\'une éléphante est la plus longue de tous les mammifères terrestres. Elle dure de 20 à 22 mois. La durée d\\'allaitement est comprise entre 36 et 48 mois. Les mises bas s\\'espacent d\\'environ 2 ans et demi à 5 ans. La gestation est plus longue pour un éléphanteau mâle que pour un éléphanteau femelle.\\nUne éléphante peut être en gestation jusqu\\'à l\\'âge de cinquante ans. Dans la plupart des cas, un seul éléphant est porté ; les cas de gémellité sont très rares.\\n\\n\\n=== Vie sociale ===\\n\\nLes éléphants vivent dans une société matriarcale. Cette structure matriarcale existe depuis plus de sept millions d\\'années, des empreintes d\\'une harde d\\'éléphants de cette époque ayant été découvertes sur une surface de 5 hectares sur le site de Mleisa 1 dans les Émirats arabes unis, faisant de cette piste de mammifères fossile la plus vieille de ce type et probablement la plus longue piste préservée dans le monde. Les troupeaux sont composés d\\'une dizaine d\\'éléphantes et de jeunes éléphanteaux, après la maturité sexuelle les mâles quittent le groupe. Ils errent jusqu\\'à ce qu\\'ils fassent alliance avec d\\'autres jeunes mâles.\\nUne étude, menée dans un zoo, montre que l\\'éléphant aime les fruits fermentés à un degré d\\'alcool de 7°. Lorsque l\\'éléphant est saoul, il perd de sa sociabilité (alors que sobre il est très sociable). Lorsqu\\'il est ivre, il reste à l\\'écart du troupeau. Un chercheur américain défendait l\\'idée que les animaux s\\'enivrent ou se droguent, volontairement, pour oublier les tourments de leur existence. Pour le prouver, il a fait vivre durant un mois des éléphants d\\'une réserve californienne sur un territoire plus restreint qu\\'à leur accoutumée. La surpopulation due au petit espace a angoissé les animaux qui, du coup, ont bu trois fois plus que d\\'habitude. Ils sont devenus si agressifs qu\\'il a été dangereux de les approcher.\\n\\n\\n=== Communication ===\\nLe cri de l\\'éléphant est le barrissement. De récentes études scientifiques ont montré que les éléphants, comme de nombreux animaux, sont sensibles aux infrasons. L\\'utilité de l\\'audition de ces infrasons reste cependant mystérieuse. Il semble qu\\'ils soient capables de communiquer entre eux par les ondes acoustiques de surface transmises par le sol.\\n\\n\\n=== Sommeil ===\\nLes éléphants peuvent dormir debout ou couchés. Le fait de se coucher indique qu\\'ils sont parfaitement détendus.\\n\\n\\n=== Alimentation ===\\n\\nL\\'éléphant est herbivore, il mange une grande variété d\\'éléments végétaux : herbes, plantes, feuilles, fruits, racines et tubercules, écorces et même du bois. Il apprécie par exemple le bois tendre et gorgé de sève du baobab.\\nLes besoins alimentaires de l\\'éléphant sont importants, surtout qualitativement. En fonction de son environnement, il consacre une grande partie de son temps à la recherche de nourriture (16 à 20 heures par jour), se déplaçant sur de longues distances et sélectionnant les aliments les plus riches. Il peut se dresser sur ses pattes arrière pour attraper avec sa trompe les rameaux les plus tendres jusqu\\'à cinq ou six mètres de hauteur.\\nQuotidiennement, il faut à l\\'éléphant entre 150 et 180 kilogrammes de nourriture en saison sèche, et entre 200 et 260 kilogrammes en saison des pluies. Ces quantités varient aussi en fonction des espèces et des milieux fréquentés.\\nUn éléphant adulte boit jusqu\\'à 140 L d\\'eau par jour. Il aspire dans sa trompe jusqu\\'à dix litres à la fois, puis se les verse dans la bouche. Il peut rester trois ou quatre jours sans boire. Il peut se servir de sa trompe pour reprendre de l\\'eau dans son estomac et s\\'en servir pour se rafraîchir la peau. Sa peau très épaisse est l\\'objet de soins constants : outre les aspersions, les baignades et les roulades dans la boue, le poudrage à la poussière est bienvenu pour protéger l\\'épiderme des insectes et du soleil.\\nMalgré la quarantaine de mètres d\\'intestin qu\\'il possède, sa digestion est peu efficace. Elle dure environ 12 heures après les 16 à 20 heures où il a cherché à se nourrir, 40 à 60 % de la nourriture n\\'étant pas digérée. Si son alimentation n\\'est pas suffisamment riche, son tonus, son humeur et sa santé en général sont rapidement affectés.\\nLe comportement alimentaire a en général un impact important sur le milieu. Le bilan de ces conséquences varie en fonction des espèces (Afrique, Asie), de la saison, du biotope et de la densité de la population. Ainsi, l\\'éléphant peut être considéré comme destructeur d\\'arbres en particulier dans la savane, alors qu\\'il participe ailleurs très activement à la régénération en limite des zones forestières. Certaines espèces d\\'arbres sont dépendantes de l\\'éléphant pour leur extension : celui-ci, friand de leurs fruits, en dissémine les graines avec l\\'excellent terreau que constitue son crottin, capable de contenir jusqu\\'à 35 % de graines.\\n\\n\\n=== Intelligence ===\\n\\nEn l’état actuel des connaissances, l’éléphant est, avec l\\'humain, le dauphin, le corbeau et certaines espèces de grands singes, l\\'une des rares espèces animales à réussir le test du miroir de Gallup : lorsqu’on marque d’une tache le front d’un éléphant en un point qu’il ne peut voir directement et qu’on lui présente un miroir, il passe sa trompe sur la tache ; démontrant ainsi qu’il a reconnu son image et donc qu’il a conscience de lui-même,,.\\nLes éléphants peuvent utiliser des outils de défense, telles des pierres saisies avec leur trompe et qu\\'ils lancent sur leurs ennemis. Ils peuvent également se toiletter en se grattant avec des branches ou des baguettes des parties de corps qu\\'ils ne peuvent atteindre avec leur trompe. Ils présentent ainsi un exemple d’utilisation d\\'outil par un animal.\\nLors d\\'une expérimentation de Preston Foerder, un éléphant (d\\'Asie, Elephas maximus) s\\'est montré capable d\\'un éclair de compréhension (insight). Il est allé chercher un cube pour monter dessus et atteindre de la nourriture,.\\n\\n\\n=== Perception ===\\nLes éléphants sont réputés pour leur capacité à anticiper l\\'arrivée des intempéries. il semblerait qu\\'ils soient capables d\\'entendre les sons provoqués par le déplacement des nuages.\\n\\n\\n== Systématique ==\\n\\n\\n=== Taxonomie ===\\n\\nL’éléphant d\\'Asie et l’éléphant d’Afrique ont longtemps été considérés comme les deux seules espèces représentant la famille des Éléphantidés à l’époque moderne. Depuis, de récentes études génétiques ont permis de distinguer deux sous-espèces africaines distinctes : Loxodonta africana africana (« éléphant de la savane ») et Loxodonta africana cyclotis (« éléphant des forêts »).\\nLes espèces d\\'Éléphantidés vivant à l’heure actuelle sont donc :\\n\\n\\n=== Histoire évolutive ===\\n\\nL’extinction Crétacé-Tertiaire est suivie d\\'une diversification très rapide des ongulés africains, notamment l\\'ordre des Proboscidiens dont les plus anciennes espèces découvertes à ce jour sont Eritherium azzouzorum et Phosphatherium escuilliei, datant de la fin du Paléocène il y a 60 millions d\\'années. Sans trompe mais avec une première incisive agrandie (rappelant la naissance d\\'une défense) et des orbites oculaires en position antérieure, ces premiers proboscidiens sont petits et graciles, ont un corps bas sur pattes et un mode de vie semi-aquatique, à l\\'instar de Moeritherium.\\nAprès un déclin à l\\'oligocène, les proboscidiens connaissent une diversification avec l\\'apparition des Deinotheriidae et des Mammutidae. La seconde radiation évolutive voit l\\'émergence au début du Miocène des Gomphotheriidae qui sont à l\\'origine des Elephantidae et des Stegodontidae, familles qui correspondent à la troisième radiation évolutive au miocène supérieur.\\nLes Proboscidiens présents sur le continent américain, tels Mammut americanum ou Haplomastodon, se sont éteints il y a une dizaine de milliers d\\'années.\\n\\n\\n== L\\'éléphant et l\\'homme ==\\n\\n\\n=== Menaces de disparition ===\\n\\n\\n==== Chasse et braconnage ====\\n\\nDurant des millénaires, l\\'homme chassa l\\'éléphant pour sa consommation et pour le commerce de l\\'ivoire tiré des défenses. Durant l\\'Antiquité, les éléphants de Nubie furent utilisés dans les armées des Carthaginois. Au XVe siècle av. J.-C., il y avait encore des éléphants sur les bords de l\\'Euphrate, où le pharaon Thoutmôsis Ier chassait l\\'éléphant.\\nLa population des éléphants africains et asiatiques a été décimée, passant de plusieurs millions d\\'individus au début des années 1970 à quelques centaines de milliers 30 ans plus tard. Si bien qu\\'en 1989, la CITES interdit le commerce de l\\'ivoire. Les éléphants sont désormais considérés comme des espèces protégées et la chasse aux éléphants est très réglementée.\\nLe braconnage s\\'intensifie malheureusement chaque année. En 2011, entre 25 000 et 30 000 éléphants ont été abattus sauvagement afin de récupérer leurs défenses et alimenter les commerces illégaux notamment en provenance d\\'Asie.\\nL\\'éléphant a peu de prédateurs naturels, c\\'est-à-dire d\\'autres espèces que l\\'Homme. De grands fauves tels que le lion ou le tigre du Bengale (dans le cas de l\\'éléphant d\\'Asie) peuvent exercer une prédation sur les individus jeunes ou faibles ; il est cependant peu probable que ces animaux attaquent un adulte, au vu du danger qu\\'il peut représenter.\\nSelon l’Union internationale pour la conservation de la nature (UICN), la population des éléphants d’Afrique a sensiblement diminué au cours des années 2010 : le continent compte en 2019 environ 415 000 spécimens, soit 111 000 de moins que lors de la précédente décennie.\\n\\n\\n==== L\\'éléphant des forêts africaines menacé d\\'extinction d\\'ici 2025 ====\\nAu terme de la conférence organisée à Bangkok du 3 au 14 mars 2013, par la CITES, à laquelle 178 pays ont participé, l\\'état d\\'esprit était au pessimisme concernant la protection des éléphants « victimes dans leurs pays d\\'origine d\\'un braconnage sans précédent et d\\'un commerce effréné en Asie ». Nombre d\\'ONG concernées par cette action pensent que « la communauté internationale a échoué à protéger les éléphants ». Depuis 2007 le trafic d\\'ivoire a doublé et plus que triplé par rapport à 1998. Le nombre d\\'éléphants africains, selon les enquêtes présentées à la conférence, est compris entre 420 000 et 650 000. 25 000 ont été tués en 2011 et probablement 30 000 en 2012. Publiée en mars 2013 dans la revue PLoS One, une autre étude révèle que 62 % des éléphants des forêts ont été abattus durant ces dix dernières années. Si ce rythme perdure, ils pourraient disparaitre d\\'Afrique centrale d\\'ici 2025. Les spécialistes affirment qu\\'à terme, si le braconnage ne cesse pas, tous les éléphants du continent seront menacés d\\'extinction.\\n\\nÀ Gembloux Agro-Bio Tech - Université de Liège en Belgique, plusieurs chercheurs avaient déjà fait le même constat pour la population des éléphants de l\\'Afrique de l\\'Ouest. En 40 ans, leur nombre a diminué de moitié.\\nL\\'ONG Save the Elephants estime que le commerce illégal de l\\'ivoire à Hong Kong menace la survie des éléphants, étant donné que le marché de l\\'ivoire en Chine et en Asie du Sud-Est passe en grande partie par Hong Kong.\\n\\n\\n=== Perte d\\'habitat ===\\n\\nL\\'augmentation des risques de conflits d\\'intérêt pour l\\'habitat avec des populations humaines menace la survie de l\\'éléphant. Ce conflit tue 150 éléphants et un peu plus de 100 personnes par an au Sri Lanka. Contrairement à son cousin d\\'Afrique, l\\'éléphant d\\'Asie, possède de petites défenses. La disparition de celui-ci est principalement attribuée à la perte de son habitat. De grands morceaux de forêt disparaissent, ce qui touche profondément leur écosystème. Les arbres contribuent à l\\'ancrage du sol et l\\'absorption des eaux de ruissellement. La déforestation entraine des inondations et une érosion massive. Lorsque la forêt est réduite, les éléphants deviennent une partie du problème, car ils détruisent rapidement la végétation de la zone où ils vivent et éliminent toutes les ressources en nourriture.\\n\\n\\n=== Parcs nationaux ===\\n\\nLa première réserve officielle, Parc national Kruger, est peut-être la plus connue des réserves et celle ayant obtenu le plus grand succès. Cependant, de nombreux problèmes sont apparus depuis sa création. Les clôtures de la réserve ont coupé de nombreux animaux de leur alimentation en hiver ou de leurs zones de reproduction au printemps. Certains animaux sont morts, alors que d\\'autres comme les éléphants ont démoli les clôtures, entraînant des ravages dans les champs voisins. Lorsque les éléphants sont limités à un petit territoire, les dégâts infligés au paysage peuvent être énormes.\\nDe ce fait, certaines réserves, comme le Parc national Kruger, de l\\'avis de certains gestionnaires de faune sauvage, ont souffert de la surpopulation des éléphants, au détriment d\\'autres espèces de la faune dans la réserve. Le 25 février 2008, l\\'Afrique du Sud a annoncé que l\\'abattage pour contrôler le nombre d\\'éléphants, arrêté depuis 1994, reprendrait. Les défenseurs des droits des animaux ont menacé d\\'un appel au boycott par les touristes et à d\\'autres formes d\\'oppositions.\\n\\n\\n=== Utilisation par l\\'Homme ===\\n\\nLes éléphants en captivité (en) sont utilisés ou exhibés dans les cirques, ménageries (tel Abul-Abbas, l\\'éléphant blanc de Charlemagne et Hanno, celui du pape Léon X) et zoos (tel le célèbre Jumbo). On ne peut pas parler à leur égard de domestication car le cycle de vie de l\\'éléphant est trop long pour que cela soit économiquement rentable par rapport à une capture d\\'individus sauvages, la phase précédant la maturité sexuelle de l\\'animal durant plus de 10 ans.\\n\\nUtilisé comme animal de trait par les humains, ainsi que lors de batailles en tant qu\\'éléphant de guerre, l\\'éléphant a occupé de nombreuses fonctions, notamment celle d\\'exécuteur lors d\\'exécutions par éléphant. En 1914-1918, des éléphants de cirque ont en Europe par exemple servi à débarder le bois en forêt (de Mormal, dans le Nord de la France), ou encore à labourer, ou à tirer des wagons dans les usines de munitions.\\nL\\'éléphant peut également être entrainé par anéantissement.\\nLe conducteur d\\'un éléphant est appelé cornac ou mahout.\\n\\n\\n=== Expression ===\\n“avoir une mémoire d’éléphant” veut dire que l’ont a une très bonne mémoire\\n\\n\\n=== Produits dérivés ===\\n\\nÀ l\\'origine, les éléphants étaient chassés par les hommes pour leur viande.\\nCertaines parties, comme les pieds d\\'éléphants, ou des animaux entiers étaient naturalisés. Les poils et les défenses d\\'ivoire, bien sûr, étaient aussi utilisés. On s\\'en servait pour fabriquer des objets de décoration et en bijouterie, ou bien ils étaient destinés, ainsi que les dents et les ossements, à des cabinets de curiosité ou des museums.\\nL\\'ivoire a longtemps fait l\\'objet d\\'un commerce important qui subsiste encore parfois sous forme de trafic illégal malgré le statut de protection dont bénéficient les éléphants survivants.\\n\\n\\n=== Culture ===\\n\\n\\n==== Symbolique ====\\nDans la symbolique occidentale comme orientale, l\\'éléphant est associé à la mémoire, la sagesse, la longévité, la prospérité, la bienveillance, le père. Pour beaucoup de peuples africains, l\\'éléphant tient le rôle du père, du chef des animaux, du roi.\\n\\n\\n===== Orient =====\\n\\nL\\'éléphant apparaît dans la panthéon hindouiste et bouddhiste à partir du troisième millénaire avant Jésus-Christ, époque de sa domestication.\\nDans la religion hindoue, Ganesh est un dieu à tête d’éléphant ; il est le dieu de la Sagesse et le patron des étudiants. Les rares éléphants blancs sont les plus sacrés en Inde, et les éléphants domestiqués et décorés aux couleurs des dieux bénissent les fidèles de leur trompe dans certains temples.\\nEn Inde, l’éléphant évoque la force, la puissance, l\\'orage (forme ronde et grise des nuages de pluie), et il est sacré. Chaque dieu hindou chevauche un animal : Indra, dieu des Orages et de la Bataille, et Agni, dieu du Feu, se déplacent à dos d’éléphant.\\nAu Laos, passer sous la trompe d\\'un éléphant permet d\\'acquérir ses attributs : force, longévité, fertilité et caractère sacré. Chaque année à l\\'occasion du Nouvel An bouddhique, les cornacs laotiens organisent un baci ou soukhouan, cérémonie de rappel des âmes, pour leur éléphant.\\n\\n\\n===== Islam =====\\nDans le Coran, la 105e sourate (la 19e dans l’ordre chronologique) s\\'intitule Al-Fîl (l’Éléphant). Elle comprend cinq versets révélés à la Mecque et doit son nom à l’expression « ashâb al-fîl » (les gens de l’éléphant) présente dans le tout premier verset. Cette expression désigne les Abyssins, qui occupaient le Yémen voisin, voulaient évangéliser l’Arabie tout entière, notamment en attaquant la Kaaba, à La Mecque. En raison des entraves qu’ils mettaient au pèlerinage, le « ministre du calendrier » dans le gouvernement mecquois se vengea en profanant l’église de Sana\\'a. C’est alors que le gouverneur abyssin fit venir un éléphant de taille gigantesque appelé Mahmoud et dirigea une expédition sur La Mecque.\\n\\n\\n===== Occident =====\\nDans la symbolique chrétienne, l\\'éléphant symbolise le baptême : la femelle met bas dans l\\'eau d\\'un étang à côté duquel le mâle monte la garde pour écarter le dragon, symbole de l\\'esprit du mal.[réf. nécessaire]Dans la symbolique chrétienne, il représente aussi la chasteté (de tempérament frigide, il ne peut engendrer qu\\'après avoir absorbé, en guise d\\'aphrodisiaque, une racine de mandragore), la constance, la maîtrise de soi, la bénignité des princes (il n\\'a pas de fiel), la tempérance, la circonspection et la prudence.[réf. nécessaire]En France, on dit de quelqu\\'un qui a une bonne mémoire qu\\'il a « une mémoire d\\'éléphant » ; effectivement, l\\'éléphant a une excellente mémoire pour se rappeler ses congénères ou retrouver les pistes qu\\'il emprunte chaque année pour chercher sa nourriture. Sa mémoire visuelle lui permet également de se rappeler très longtemps les visages humains[source insuffisante].\\nL\\'éléphant représente les quatre piliers du monde : il porte le monde sur son dos.\\nL\\'éléphant est le symbole de la ville de Catane, en Italie, depuis le Moyen Âge (mais le lien remonte peut-être à l\\'Antiquité). La Fontaine de l\\'éléphant s\\'y dresse sur la place de la cathédrale.\\n\\n\\n===== Afrique =====\\nL\\'éléphant est l\\'emblème de la Côte d\\'Ivoire.\\nL\\'éléphant est symbole de royauté, de puissance et de sagesse et ce en général pour les peuples de tout le continent africain.\\nSon image est utilisée dans les cérémonies et danses, pour la fabrication des masques ou encore de mobiliers, d\\'objets rituels, dans beaucoup de tribus notamment chez les Bamileke de l\\'ouest du Cameroun ou encore chez les Gurusi du Burkina Faso.\\nHors tribus, l\\'éléphant est un symbole important au même titre que le lion et son image est présente au quotidien dans le monde africain.\\n\\n\\n===== Politique =====\\nEn politique, l\\'image de l\\'éléphant a pu être utilisé dans différents pays pour caractériser des courants politiques ou des politiciens : ainsi, l\\'emblème du Parti républicain américain est un éléphant, et certains des membres les plus influents du Parti socialiste français sont surnommés les « éléphants ».\\n\\n\\n===== Art =====\\n\\nDes représentations picturales de l\\'éléphant sont retrouvées en Occident dès le XIIe siècle comme dans le quartier historique de Montferrand sur la « Maison de l\\'Éléphant » (12 rue Kléber).\\nL\\'ivoire des défenses de l\\'éléphant a longtemps servi à la réalisation d\\'œuvres d\\'art. Les œuvres en or et ivoire sont qualifiées de chryséléphantines — chrusos, or en grec. Ce nom a été déformé en olifant, pour désigner une corne (instrument de musique) en ivoire.\\n\\n\\n===== Sport =====\\nEn sport, certaines équipes nationales portent des surnoms à l\\'image de l\\'éléphant :\\n\\nLa Côte d\\'Ivoire : Les éléphants\\nLa Guinée : Le Sily national (L\\'éléphant national)\\nLa Thaïlande : Les éléphants de guerre\\n\\n\\n==== Fiction ====\\n\\nLes éléphants ont inspiré de nombreux artistes. La liste ci-après est loin d\\'être exhaustive.\\n\\nCinéma :\\nLes Racines du ciel (The Roots of Heaven) de John Huston (1958), tiré du roman de Romain Gary.\\nTusk d\\'Alejandro Jodorowsky (1980).\\nChasseur blanc, cœur noir (White Hunter Black Heart) de Clint Eastwood (1990, inspiré par John Huston, chasseur d\\'éléphant sur le tournage de the African Queen en 1950).\\nSunny et l\\'éléphant de Frédéric Lepage, 2008.\\nDe l\\'eau pour les éléphants de Francis Lawrence, 2011, tiré du roman de Sara Gruen.\\nElephant Boy de Robert J. Flaherty en 1937\\nGrimsby : Agent trop spécial de Louis Leterrier (2016), Norman \"Nobby\" Butcher (Sacha Baron Cohen) se cache dans le vagin d\\'une éléphante.\\nDocumentaire\\nL\\'Homme et l’Éléphant de Vijay Singh.\\nDessins animés :\\nDumbo.\\nWinnie l\\'ourson et l\\'Éfélant\\nBabar\\nLittérature :\\nLes Racines du ciel de Romain Gary, Prix Goncourt en 1956.\\nLes Annales du disque-monde de Terry Pratchett (le disque-monde est soutenu par quatre éléphants géants).\\nL\\'Éléphant et le Singe de Jupiter de Jean de La Fontaine.\\nLe Voyage de l\\'éléphant de José Saramago\\nLittérature jeunesse :\\nHistoires comme ça de Rudyard Kipling (L\\'Enfant d\\'éléphant)\\nPoo Lorn l\\'éléphant de Reginald Campbell\\nLe Livre de la jungle de Rudyard Kipling (personnages de Hathi et de Kala Nag).\\nBabar de Laurent de Brunhoff\\nUn éléphant ça compte énormément de Helme Heine\\nLe Mystère de l\\'éléphant bleu de Enid Blyton\\nLa Maison éléphant de Henriette Bichonnier\\n Elmer, l\\'éléphant multicolore de David McKee\\nPomelo, l\\'éléphant rose, texte de Ramona Bádescu, illustrations de Benjamin Chaud : une quinzaine de titres, depuis 2002. Plusieurs de ces titres font partie de la « Bibliothèque jeunesse idéale » du Centre national de la littérature pour la jeunesse (BnF).\\n\\t\\t\\n\\n\\n== Notes et références ==\\n\\n\\n== Annexes ==\\n\\n\\n=== Bibliographie ===\\nElephants: Majestic Creatures of the Wild, Checkmark Books, 2000 (ISBN 978-0-87596-143-9, OCLC 475147472)\\n\\n\\n=== Articles connexes ===\\nBouse d\\'éléphant\\nIntelligence animale\\nÉléphant de guerre\\nHanno\\nListe d\\'éléphants de fiction\\nOrdre de l’Éléphant\\nMammouphant\\nBraconnage\\nÉléphant rose\\n\\n\\n=== Références taxonomiques ===\\n(en) Référence Mammal Species of the World (3e éd., 2005) : Elephas maximus  \\n(fr+en) Référence ITIS : genre Loxodonta Cuvier, 1825\\n(en) Référence Animal Diversity Web : Elephas maximus\\n(en) Référence UICN : espèce Elephas maximus Linnaeus, 1758\\n(en) Référence NCBI : genre Loxodonta (taxons inclus)\\n(en) Référence Fonds documentaire ARKive : Loxodonta africana  \\n(en) Référence Fonds documentaire ARKive : Elephas maximus  \\n\\n\\n=== Liens externes ===\\n\\nAnalyse des instruments internationaux de lutte contre le trafic et le braconnage des espèces menacées en Afrique centrale : le cas de l\\'éléphant et du gorille\\n« Physiologie de l\\'éléphant », sur elephants.free.fr\\nUn dossier sur l\\'éléphant chez Futura-Sciences\\n« Chang Nam : La légende des éléphants nains aquatiques en Thaïlande », sur magiedubouddha.com\\n Portail des mammifères'"
            ],
            "application/vnd.google.colaboratory.intrinsic+json": {
              "type": "string"
            }
          },
          "metadata": {},
          "execution_count": 11
        }
      ]
    },
    {
      "cell_type": "markdown",
      "metadata": {
        "id": "EZkmNJ7XO9xX"
      },
      "source": [
        "We need to clean this up a bit. Let us remove all the special characters and keep only 26 letters and space. Note that this will remove accented characters in French also. We are also removing all the numbers and spaces. So this is not an ideal solution."
      ]
    },
    {
      "cell_type": "code",
      "metadata": {
        "id": "e5yf5P9pPI4t"
      },
      "source": [
        "def cleanup(text):\n",
        "  text = text.lower()  # make it lowercase\n",
        "  text = re.sub('[^a-z]+', '', text) # only keep characters, i.e. if not a-z then replace with space.\n",
        "  return text"
      ],
      "execution_count": null,
      "outputs": []
    },
    {
      "cell_type": "code",
      "source": [
        "text1 = re.sub('[a-z]', '*', '« éléphant d\\?Afrique »,')\n",
        "text1"
      ],
      "metadata": {
        "colab": {
          "base_uri": "https://localhost:8080/",
          "height": 36
        },
        "id": "Iawqez-f4oT5",
        "outputId": "22e19c69-0174-4c8e-e033-6eedfabfe73b"
      },
      "execution_count": null,
      "outputs": [
        {
          "output_type": "execute_result",
          "data": {
            "text/plain": [
              "'« é*é***** *\\\\?A****** »,'"
            ],
            "application/vnd.google.colaboratory.intrinsic+json": {
              "type": "string"
            }
          },
          "metadata": {},
          "execution_count": 8
        }
      ]
    },
    {
      "cell_type": "code",
      "metadata": {
        "id": "qrOjC32fRuTK"
      },
      "source": [
        "eng1 = cleanup(eng1)\n",
        "eng2 = cleanup(eng2)\n",
        "fr1 = cleanup(fr1)\n",
        "fr2 = cleanup(fr2)"
      ],
      "execution_count": null,
      "outputs": []
    },
    {
      "cell_type": "code",
      "metadata": {
        "id": "rIdqvL2G-LqL",
        "colab": {
          "base_uri": "https://localhost:8080/"
        },
        "outputId": "97dcf273-f768-4917-a96e-9032c09f0f97"
      },
      "source": [
        "print(eng1)"
      ],
      "execution_count": null,
      "outputs": [
        {
          "output_type": "stream",
          "name": "stdout",
          "text": [
            "thegiraffeisalargeafricanhoofedmammalbelongingtothegenusgiraffaitisthetallestlivingterrestrialanimalandthelargestruminantonearthtraditionallygiraffeswerethoughttobeonespeciesgiraffacamelopardaliswithninesubspeciesmostrecentlyresearchersproposeddividingthemintouptoeightextantspeciesduetonewresearchintotheirmitochondrialandnucleardnaaswellasmorphologicalmeasurementssevenotherextinctspeciesofgiraffaareknownfromthefossilrecordthegiraffeschiefdistinguishingcharacteristicsareitsextremelylongneckandlegsitshornlikeossiconesanditsspottedcoatpatternsitisclassifiedunderthefamilygiraffidaealongwithitsclosestextantrelativetheokapiitsscatteredrangeextendsfromchadinthenorthtosouthafricainthesouthandfromnigerinthewesttosomaliaintheeastgiraffesusuallyinhabitsavannahsandwoodlandstheirfoodsourceisleavesfruitsandflowersofwoodyplantsprimarilyacaciaspecieswhichtheybrowseatheightsmostotherherbivorescannotreachlionsleopardsspottedhyenasandafricanwilddogsmaypreyupongiraffesgiraffesliveinherdsofrelatedfemalesandtheiroffspringorbachelorherdsofunrelatedadultmalesbutaregregariousandmaygatherinlargeaggregationsmalesestablishsocialhierarchiesthroughneckingcombatboutswheretheneckisusedasaweapondominantmalesgainmatingaccesstofemaleswhichbearsoleresponsibilityforraisingtheyoungthegiraffehasintriguedvariousancientandmodernculturesforitspeculiarappearanceandhasoftenbeenfeaturedinpaintingsbooksandcartoonsitisclassifiedbytheinternationalunionforconservationofnatureiucnasvulnerabletoextinctionandhasbeenextirpatedfrommanypartsofitsformerrangegiraffesarestillfoundinnumerousnationalparksandgamereservesbutestimatesasofindicatethereareapproximatelymembersofgiraffainthewildmorethanwerekeptinzoosinetymologythenamegiraffehasitsearliestknownoriginsinthearabicwordzarfahperhapsborrowedfromtheanimalssomalinamegerithearabnameistranslatedasfastwalkerinearlymodernenglishthespellingsjarrafandziraphwereusedprobablydirectlyfromthearabicandinmiddleenglishorafleandgyrfauntgerfaunttheitalianformgiraffaaroseinthesthemodernenglishformdevelopedaroundfromthefrenchgirafecamelopardisanarchaicenglishnameforthegiraffeitderivesfromtheancientgreekkamloprdalisfromkmloscamelandprdalisleopardreferringtoitscamellikeshapeandleopardlikecolourationtaxonomyevolutionthegiraffeisoneofonlytwolivinggeneraofthefamilygiraffidaeintheorderartiodactylatheotherbeingtheokapithefamilywasoncemuchmoreextensivewithoverfossilgeneradescribedtheelongationoftheneckappearstohavestartedearlyinthegiraffelineagecomparisonsbetweengiraffesandtheirancientrelativessuggestvertebraeclosetotheskulllengthenedearlierfollowedbylengtheningofvertebraefurtherdownoneearlygiraffidancestorwascanthumeryxwhichhasbeendatedvariouslytohavelivedmillionyearsagomyamyaormyaandwhosedepositshavebeenfoundinlibyathisanimalresembledanantelopeandhadamediumsizedlightlybuiltbodygiraffokeryxappearedmyaontheindiansubcontinentandresembledanokapiorasmallgiraffeandhadalongerneckandsimilarossiconesgiraffokeryxmayhavesharedacladewithmoremassivelybuiltgiraffidslikesivatheriumandbramatheriumgiraffidslikepalaeotragusshansitheriumandsamotheriumappearedmyaandlivedthroughoutafricaandeurasiatheseanimalshadbroaderskullwithreducedfrontalcavitiespaleotragusresembledtheokapiandmayhavebeenitsancestorothersfindthattheokapilineagedivergedearlierbeforegiraffokeryxsamotheriumwasaparticularlyimportanttransitionalfossilinthegiraffelineageasthelengthandstructureofitscervicalvertebraewerebetweenthoseofamoderngiraffeandanokapianditsneckposturewaslikelysimilartotheformerbohliniawhichfirstappearedinsoutheasterneuropeandlivedmyawaslikelyadirectancestorofthegiraffebohliniacloselyresembledmoderngiraffeshavingalongneckandlegsandsimilarossiconesanddentitionbohliniacolonisedchinaandnorthernindiaandproducedthegiraffawhicharoundmyareachedafricaclimatechangesleadtotheextinctionoftheasiangiraffeswhiletheafricangiraffessurvivedandradiatedintonewspecieslivinggiraffesappeartohavearisenaroundmyaineasternafricaduringthepleistocenesomebiologistssuggestthemoderngiraffesdescendedfromgjumaeothersfindggracilisamorelikelycandidategjumaewaslargerandmorerobustwhileggraciliswassmallerandmoreslenderthechangesfromextensiveforeststomoreopenhabitatswhichbeganmyaarebelievedtobethemaindriverfortheevolutionofgiraffesduringthistimetropicalplantsdisappearedandwerereplacedbyaridcplantsandadrysavannahemergedacrosseasternandnorthernafricaandwesternindiasomeresearchershavehypothesisedthatthisnewhabitatcoupledwithadifferentdietincludingacaciaspeciesmayhaveexposedgiraffeancestorstotoxinsthatcausedhighermutationratesandahigherrateofevolutionthecoatpatternsofmoderngiraffesmayalsohavecoincidedwiththesehabitatchangesasiangiraffesarehypothesisedtohavehadmoreokapilikecolourationsthegiraffegenomeisaroundbillionbasepairsinlengthcomparedtothebillionbasepairsoftheokapioftheproteinsingiraffeandokapigenesareidenticalthedivergenceofgiraffeandokapilineagesdatestoaroundmyaasmallgroupofregulatorygenesinthegiraffeappeartoberesponsiblefortheanimalsheightandassociatedcirculatoryadaptationsspeciesandsubspeciestheinternationalunionforconservationofnatureiucncurrentlyrecognisesonlyonespeciesofgiraffewithninesubspeciescarllinnaeusoriginallyclassifiedlivinggiraffesasonespeciesinhegaveitthebinomialnamecervuscamelopardalismortenthranebrnnichclassifiedthegenusgiraffainthespeciesnamecamelopardalisisfromlatinduringthesvarioustaxonomieswithtwoorthreespecieswereproposedastudyonthegeneticsofgiraffesusingmitochondrialdnasuggestedatleastsixlineagescouldberecognisedasspeciesastudyusingdetailedanalysesofthemorphologyofgiraffesandapplicationofthephylogeneticspeciesconceptdescribedeightspeciesoflivinggiraffesastudyalsoconcludedthatlivinggiraffesconsistofmultiplespeciestheresearcherssuggestedtheexistenceoffourspecieswhichhavenotexchangedgeneticinformationbetweeneachotherfortomillionyearsastudyshowedthatdependingonthemethodchosendifferenttaxonomichypothesesrecognizingfromtwotosixspeciescanbeconsideredforthegenusgiraffathatstudyalsofoundthatmultispeciescoalescentmethodscanleadtotaxonomicoversplittingasthosemethodsdelimitgeographicstructuresratherthanspeciesthethreespecieshypothesiswhichrecognisesgcamelopardalisggiraffaandgtippelskirchiishighlysupportedbyphylogeneticanalysesandalsocorroboratedbymostpopulationgeneticandmultispeciescoalescentanalysesawholegenomesequencingstudysuggeststheexistenceoffourdistinctspeciesandsevensubspeciesthecladogrambelowshowsthephylogeneticrelationshipbetweenthefourproposedspeciesandsevensubspeciesbasedonthegenomeanalysisnotetheeightlineagescorrespondtoeightofthetraditionalsubspeciesintheonespecieshypothesistherothschildgiraffeissubsumedintogcamelopardaliscamelopardalisthefollowingtablecomparesthedifferenthypothesesforgiraffespeciesthedescriptioncolumnshowsthetraditionalninesubspeciesintheonespecieshypothesisthefirstextinctspeciestobedescribedwasgiraffasivalensisfalconerandcautleyareevaluationofavertebrathatwasinitiallydescribedasafossilofthelivinggiraffewhiletaxonomicopinionmaybelackingonsomenamestheextinctspeciesthathavebeenpublishedincludegiraffagracilisgiraffajumaegiraffapriscillagiraffapomeligiraffapunjabiensisgiraffapygmaeagiraffasivalensisgiraffastilleicharacteristicsfullygrowngiraffesstandmfttallwithmalestallerthanfemalestheaverageweightiskglbforanadultmaleandkglbforanadultfemaledespiteitslongneckandlegsitsbodyisrelativelyshorttheskinismostlygrayortanandcanreachathicknessofmminthecentimetresinlongtailendsinalongdarktuftofhairandisusedasadefenseagainstinsectsthecoathasdarkblotchesorpatcheswhichcanbeorangechestnutbrownornearlyblacksurroundedbylighthairusuallywhiteorcreamcolouredmalegiraffesbecomedarkerastheygrowoldthecoatpatternhasbeenclaimedtoserveascamouflageinthelightandshadepatternsofsavannahwoodlandswhenstandingamongtreesandbushestheyarehardtoseeatevenafewmetresdistancehoweveradultgiraffesmoveabouttogainthebestviewofanapproachingpredatorrelyingontheirsizeandabilitytodefendthemselvesratherthanoncamouflagewhichmaybemoreimportantforcalveseachgiraffehasauniquecoatpatterncalvesinheritsomecoatpatterntraitsfromtheirmothersandvariationinsomespottraitsiscorrelatedwithcalfsurvivaltheskinundertheblotchesmayregulatetheanimalsbodytemperaturebeingsitesforcomplexbloodvesselsystemsandlargesweatglandsthefurmaygivetheanimalchemicaldefenseasitsparasiterepellentsgiveitacharacteristicscentatleastmainaromaticchemicalsareinthefuralthoughindoleandmethylindoleareresponsibleformostofthesmellbecausemaleshaveastrongerodourthanfemalesitmayalsohaveasexualfunctionheadbothsexeshaveprominenthornlikestructurescalledossiconeswhichcanreachcmintheyareformedfromossifiedcartilagecoveredinskinandfusedtotheskullattheparietalbonesbeingvascularisedtheossiconesmayhavearoleinthermoregulationandareusedincombatbetweenmalesappearanceisareliableguidetothesexorageofagiraffetheossiconesoffemalesandyoungarethinanddisplaytuftsofhairontopwhereasthoseofadultmalestendtobebaldandknobedontopalumpwhichismoreprominentinmalesemergesinthemiddleoftheskullmalesdevelopcalciumdepositsthatformbumpsontheirskullsastheyagemultiplesinuseslightenagiraffesskullhoweverasmalesagetheirskullsbecomeheavierandmoreclublikehelpingthembecomemoredominantincombattheoccipitalcondylesbonesatthebottomoftheskullallowtheanimaltotipitsheadoverdegreesandgrabfoodonthebranchesdirectlyabovethemwiththetonguelocatedonthesidesoftheheadthegiraffehasabroadvisualfieldfromitsgreatheightcomparedtootherungulatesgiraffevisionismorebinocularandtheeyesarelargerwithagreaterretinalsurfaceareagiraffesmayseeincolourandtheirsensesofhearingandsmellaresharptheearsaremovableandthenostrilsareslitshapedpossiblytowithstandblowingsandthegiraffestongueisaboutcminlongitisblackperhapstoprotectagainstsunburnandcangraspfoliageanddelicatelypickoffleavestheupperlipisflexibleandhairytoprotectagainstsharppricklestheupperjawhasahardpalateinsteadoffrontteeththemolarsandpremolarsarewidewithlowcrownsonthesurfaceneckthegiraffehasanextremelyelongatedneckwhichcanbeuptomftinlengthalongtheneckisamanemadeofshorterecthairsthenecktypicallyrestsatanangleofdegreesthoughjuvenilesareclosertodegreesthelongneckresultsfromadisproportionatelengtheningofthecervicalvertebraenotfromtheadditionofmorevertebraeeachcervicalvertebraisovercminlongtheycomprisepercentofthelengthofthegiraffesvertebralcolumncomparedwiththepercenttypicalofsimilarlargeungulatesincludingthegiraffesclosestlivingrelativetheokapithiselongationlargelytakesplaceafterbirthperhapsbecausegiraffemotherswouldhaveadifficulttimegivingbirthtoyoungwiththesameneckproportionsasadultsthegiraffesheadandneckareheldupbylargemusclesandanuchalligamentwhichareanchoredbylongthoracicvertebraespinesgivingthemahumpthegiraffesneckvertebraehaveballandsocketjointsthepointofarticulationbetweenthecervicalandthoracicvertebraeofgiraffesisshiftedtoliebetweenthefirstandsecondthoracicvertebraetandtunlikemostotherruminantswherethearticulationisbetweentheseventhcervicalvertebracandtthisallowsctocontributedirectlytoincreasednecklengthandhasgivenrisetothesuggestionthattisactuallycandthatgiraffeshaveaddedanextracervicalvertebrahoweverthispropositionisnotgenerallyacceptedasthasothermorphologicalfeaturessuchasanarticulatingribdeemeddiagnosticofthoracicvertebraeandbecauseexceptionstothemammalianlimitofsevencervicalvertebraearegenerallycharacterisedbyincreasedneurologicalanomaliesandmaladiesthereareseveralhypothesesregardingtheevolutionaryoriginandmaintenanceofelongationingiraffeneckscharlesdarwinoriginallysuggestedthecompetingbrowsershypothesiswhichhasbeenchallengedonlyrecentlyitsuggeststhatcompetitivepressurefromsmallerbrowserslikekudusteenbokandimpalaencouragedtheelongationoftheneckasitenabledgiraffestoreachfoodthatcompetitorscouldnotthisadvantageisrealasgiraffescananddofeeduptomfthighwhileevenquitelargecompetitorssuchaskuducanfeeduptoonlyaboutmftinhighthereisalsoresearchsuggestingthatbrowsingcompetitionisintenseatlowerlevelsandgiraffesfeedmoreefficientlygainingmoreleafbiomasswitheachmouthfulhighinthecanopyhoweverscientistsdisagreeaboutjusthowmuchtimegiraffesspendfeedingatlevelsbeyondthereachofotherbrowsersandastudyfoundthatadultgiraffeswithlongernecksactuallysufferedhighermortalityratesunderdroughtconditionsthantheirshorterneckedcounterpartsthisstudysuggeststhatmaintainingalongerneckrequiresmorenutrientswhichputslongerneckedgiraffesatriskduringafoodshortageanothertheorythesexualselectionhypothesisproposesthelongnecksevolvedasasecondarysexualcharacteristicgivingmalesanadvantageinneckingcontestsseebelowtoestablishdominanceandobtainaccesstosexuallyreceptivefemalesinsupportofthistheorynecksarelongerandheavierformalesthanfemalesofthesameageandmalesdonotemployotherformsofcombathoweveroneobjectionisitfailstoexplainwhyfemalegiraffesalsohavelongnecksithasalsobeenproposedthattheneckservestogivetheanimalgreatervigilancelegslocomotionandpostureagiraffesfrontandbacklegsareaboutthesamelengththeradiusandulnaofthefrontlegsarearticulatedbythecarpuswhichwhilestructurallyequivalenttothehumanwristfunctionsasakneeitappearsthatasuspensoryligamentallowsthelankylegstosupporttheanimalsgreatweightthehoovesoflargemalegiraffesreachcmcmininindiameterthefetlockofthelegislowtothegroundallowingthehooftobettersupporttheanimalsweightgiraffeslackdewclawsandinterdigitalglandswhilethepelvisisrelativelyshorttheiliumhasstretchedoutcrestsagiraffehasonlytwogaitswalkingandgallopingwalkingisdonebymovingthelegsononesideofthebodythendoingthesameontheothersidewhengallopingthehindlegsmovearoundthefrontlegsbeforethelattermoveforwardandthetailwillcurlupthemovementsoftheheadandneckprovidebalanceandcontrolmomentumwhilegallopingthegiraffecanreachasprintspeedofuptokmhmphandcansustainkmhmphforseveralkilometresgiraffeswouldprobablynotbecompetentswimmersastheirlonglegswouldbehighlycumbersomeinthewateralthoughtheymightbeabletofloatwhenswimmingthethoraxwouldbeweigheddownbythefrontlegsmakingitdifficultfortheanimaltomoveitsneckandlegsinharmonyorkeepitsheadabovethewaterssurfaceagirafferestsbylyingwithitsbodyontopofitsfoldedlegstoliedowntheanimalkneelsonitsfrontlegsandthenlowerstherestofitsbodytogetbackupitfirstgetsonitsfrontkneesandpositionsitsbacksideontopofitshindlegsitthenpullsupthebacksideupwardsandthefrontlegsstandstraightupagainateachstagetheanimalswingsitsheadforbalanceifthegiraffewantstoreachdowntodrinkiteitherspreadsitsfrontlegsorbendsitskneesstudiesincaptivityfoundthegiraffesleepsintermittentlyaroundhoursperdaymostlyatnightitusuallysleepslyingdownhoweverstandingsleepshavebeenrecordedparticularlyinolderindividualsintermittentshortdeepsleepphaseswhilelyingarecharacterisedbythegiraffebendingitsneckbackwardsandrestingitsheadonthehiporthighapositionbelievedtoindicateparadoxicalsleepinternalsystemsinmammalstheleftrecurrentlaryngealnerveislongerthantherightinthegiraffeitisovercminlongerthesenervesarelongerinthegiraffethaninanyotherlivinganimaltheleftnerveisovermftinlongeachnervecellinthispathbeginsinthebrainstemandpassesdowntheneckalongthevagusnervethenbranchesoffintotherecurrentlaryngealnervewhichpassesbackupthenecktothelarynxthusthesenervecellshavealengthofnearlymftinthelargestgiraffesdespiteitslongneckandlargeskullthebrainofthegiraffeistypicalforanungulateevaporativeheatlossinthenasalpassageskeepthegiraffesbraincooltheshapeoftheskeletongivesthegiraffeasmalllungvolumerelativetoitsmassitslongneckgivesitalargeamountofdeadspaceinspiteofitsnarrowwindpipethegiraffealsohasahightidalvolumesothebalanceofdeadspaceandtidalvolumeismuchthesameasothermammalstheanimalcanstillprovideenoughoxygenforitstissuesanditcanincreaseitsrespiratoryrateandoxygendiffusionwhenrunningthecirculatorysystemofthegiraffehasseveraladaptationsforitsgreatheightitskglbandcmftheartmustgenerateapproximatelydoublethebloodpressurerequiredforahumantomaintainbloodflowtothebrainassuchthewalloftheheartcanbeasthickascmingiraffeshaverelativelyhighheartratesfortheirsizeatbeatsperminutewhentheanimallowersitsheadthebloodrushesdownfairlyunopposedandaretemirabileintheupperneckwithitslargecrosssectionalareapreventsexcessbloodflowtothebrainwhenitraisesagainthebloodvesselsconstrictandpushbloodintothebrainsotheanimaldoesnotfaintthejugularveinscontainseveralmostcommonlysevenvalvestopreventbloodflowingbackintotheheadfromtheinferiorvenacavaandrightatriumwhiletheheadisloweredconverselythebloodvesselsinthelowerlegsareundergreatpressurebecauseoftheweightoffluidpressingdownonthemtosolvethisproblemtheskinofthelowerlegsisthickandtightpreventingtoomuchbloodfrompouringintothemgiraffeshaveoesophagealmusclesthatarestrongenoughtoallowregurgitationoffoodfromthestomachuptheneckandintothemouthforruminationtheyhavefourchamberedstomachswhichareadaptedtotheirspecializeddiettheintestinesofanadultgiraffemeasuremorethanmftinlengthandhavearelativelysmallratioofsmalltolargeintestinethegiraffehasasmallcompactliverfetusesmaybeasmallgallbladderthatvanishesbeforebirthbehaviourandecologyhabitatandfeedinggiraffesusuallyinhabitsavannahsandopenwoodlandstheypreferbyareasdominatedbyacacieaecommiphoracombretumandterminaliatreeoverbrachystegiawhicharemoredenselyspacedtheangolangiraffecanbefoundindesertenvironmentsgiraffesbrowseonthetwigsoftreespreferringthoseofthesubfamilyacacieaeandthegeneracommiphoraandterminaliawhichareimportantsourcesofcalciumandproteintosustainthegiraffesgrowthratetheyalsofeedonshrubsgrassandfruitagiraffeeatsaroundkglbofplantmatterdailywhenstressedgiraffesmaychewonlargebranchesstrippingthemofbarkgiraffesarealsorecordedtochewoldbonesduringthewetseasonfoodisabundantandgiraffesaremorespreadoutwhileduringthedryseasontheygatheraroundtheremainingevergreentreesandbushesmotherstendtofeedinopenareaspresumablytomakeiteasiertodetectpredatorsalthoughthismayreducetheirfeedingefficiencyasaruminantthegiraffefirstchewsitsfoodthenswallowsitforprocessingandthenvisiblypassesthehalfdigestedcuduptheneckandbackintothemouthtochewagainthegirafferequireslessfoodthanmanyotherherbivoresbecausethefoliageiteatshasmoreconcentratednutrientsandithasamoreefficientdigestivesystemtheanimalsfaecescomeintheformofsmallpelletswhenithasaccesstowateragiraffewillgonomorethanthreedayswithoutdrinkinggiraffeshaveagreateffectonthetreesthattheyfeedondelayingthegrowthofyoungtreesforsomeyearsandgivingwaistlinestotootalltreesfeedingisatitshighestduringthefirstandlasthoursofdaytimebetweenthesehoursgiraffesmostlystandandruminateruminationisthedominantactivityduringthenightwhenitismostlydonelyingdownsociallifegiraffesareusuallyfoundingroupsthatvaryinsizeandcompositionaccordingtoecologicalanthropogenictemporalandsocialfactorstraditionallythecompositionofthesegroupshadbeendescribedasopenandeverchangingforresearchpurposesagrouphasbeendefinedasacollectionofindividualsthatarelessthanakilometreapartandmovinginthesamegeneraldirectionmorerecentstudieshavefoundthatgiraffeshavelonglastingsocialgroupsorcliquesbasedonkinshipsexorotherfactorsandthesegroupsregularlyassociatewithothergroupsinlargercommunitiesorsubcommunitieswithinafissionfusionsocietyproximitytohumanscandisruptsocialarrangementsmasaigiraffesintanzaniahavedifferentsubpopulationswithoverlappingrangeseachofwhichdifferinreproductiveratesandcalfmortalitythenumberofgiraffesinagroupcanrangefromoneuptoindividualsgiraffegroupstendtobesexsegregatedalthoughmixedsexgroupsmadeofadultfemalesandyoungmalesalsooccurfemalegroupsmaybematrilineallyrelatedgenerallyfemalesaremoreselectivethanmalesinwhotheyassociatewithregardingindividualsofthesamesexparticularlystablegiraffegroupsarethosemadeofmothersandtheiryoungwhichcanlastweeksormonthsyoungmalesalsoformgroupsandwillengageinplayfightshoweverastheygetoldermalesbecomemoresolitarybutmayalsoassociateinpairsorwithfemalegroupsgiraffesarenotterritorialbuttheyhavehomerangesthatvaryaccordingtorainfallandproximitytohumansettlementsmalegiraffesoccasionallyroamfarfromareasthattheynormallyfrequentearlybiologistssuggestedgiraffesweremuteandunabletocreateenoughairflowtovibratetheirvocalfoldstothecontrarytheyhavebeenrecordedtocommunicateusingsnortssneezescoughssnoreshissesburstsmoansgruntsgrowlsandflutelikesoundsduringcourtshipmalesemitloudcoughsfemalescalltheiryoungbybellowingcalveswillemitbleatsmooingandmewingsoundssnortingandhissingisassociatedwithvigilanceduringnighttimegiraffesappeartohumtoeachotherabovetheinfrasoundrangethepurposeisuncleardominantmalesdisplaytoothermaleswithanerectpostureholdingthechinandheadupwhilewalkingstifflyanddisplayingtheirsidethelessdominantshowsubmissivenessbydroppingtheheadandearsloweringthechinandfleeingreproductionandparentalcarereproductioningiraffesisbroadlypolygamousafewoldermalesmatewiththefertilefemalesfemalescanreproducethroughouttheyearandexperienceoestruscyclingapproximatelyeverydaysfemalegiraffesinoestrousaredispersedoverspaceandtimesoreproductiveadultmalesadoptastrategyofroamingamongfemalegroupstoseekmatingopportunitieswithperiodichormoneinducedruttingbehaviourapproximatelyeverytwoweeksmalespreferyoungadultfemalesoverjuvenilesandolderadultsmalegiraffesassessfemalefertilitybytastingthefemalesurinetodetectoestrusinamultistepprocessknownastheflehmenresponseonceanoestrousfemaleisdetectedthemalewillattempttocourtherwhencourtingdominantmaleswillkeepsubordinateonesatbayacourtingmalemaylickafemalestaillayhisheadandneckonherbodyornudgeherwithhisossiconesduringcopulationthemalestandsonhishindlegswithhisheadheldupandhisfrontlegsrestingonthefemalessidesgiraffegestationlastsdaysafterwhichasinglecalfisnormallybornalthoughtwinsoccuronrareoccasionsthemothergivesbirthstandingupthecalfemergesheadandfrontlegsfirsthavingbrokenthroughthefetalmembranesandfallstothegroundseveringtheumbilicalcordanewborngiraffeismfttallwithinafewhoursofbirththecalfcanrunaroundandisalmostindistinguishablefromaoneweekoldhoweverforthefirstonetothreeweeksitspendsmostofitstimehidingitscoatpatternprovidingcamouflagetheossiconeswhichhavelainflatwhileitwasinthewombraiseupinafewdaysmotherswithcalveswillgatherinnurseryherdsmovingorbrowsingtogethermothersinsuchagroupmaysometimesleavetheircalveswithonefemalewhiletheyforageanddrinkelsewherethisisknownasacalvingpoolcalvesareatriskofpredationandamothergiraffewillstandoverthemandkickatanapproachingpredatorfemaleswatchingcalvingpoolswillonlyalerttheirownyoungiftheydetectadisturbancealthoughtheotherswilltakenoticeandfollowcalvesfirstruminateatfourtosixmonthsandstopnursingatsixtoeightmonthsyoungmaynotreachindependenceuntiltheyaremonthsoldfemalesbecomesexuallymaturewhentheyarefouryearsoldwhilemalesbecomematureatfourorfiveyearsspermatogenesisinmalegiraffesbeginsatthreetofouryearsofagemalesmustwaituntiltheyareatleastsevenyearsoldtogaintheopportunitytomateneckingmalegiraffesusetheirnecksasweaponsincombatabehaviourknownasneckingneckingisusedtoestablishdominanceandmalesthatwinneckingboutshavegreaterreproductivesuccessthisbehaviouroccursatloworhighintensityinlowintensityneckingthecombatantsrubandleanoneachotherthemalethatcankeepitselfmoreuprightwinstheboutinhighintensityneckingthecombatantswillspreadtheirfrontlegsandswingtheirnecksateachotherattemptingtolandblowswiththeirossiconesthecontestantswilltrytododgeeachothersblowsandthenpreparetocounterthepowerofablowdependsontheweightoftheskullandthearcoftheswinganeckingduelcanlastmorethanhalfanhourdependingonhowwellmatchedthecombatantsarealthoughmostfightsdonotleadtoseriousinjurytherehavebeenrecordsofbrokenjawsbrokennecksandevendeathsafteraduelitiscommonfortwomalegiraffestocaressandcourteachothersuchinteractionsbetweenmaleshavebeenfoundtobemorefrequentthanheterosexualcouplinginonestudyuptopercentofobservedmountingincidentstookplacebetweenmalestheproportionofsamesexactivitiesvariedfromtopercentonlyonepercentofsamesexmountingincidentsoccurredbetweenfemalesmortalityandhealthgiraffeshavehighadultsurvivalprobabilityandanunusuallylonglifespancomparedtootherruminantsuptoyearsbecauseoftheirsizeeyesightandpowerfulkicksadultgiraffesareusuallynotsubjecttopredationalthoughlionsmayregularlypreyonindividualsuptokglbgiraffesarethemostcommonfoodsourceforthebigcatsinkrugernationalparkcomprisingnearlyathirdofthemeatconsumedalthoughonlyasmallportionofthegiraffeswereprobablykilledbypredatorsasamajorityoftheconsumedgiraffesappearedtobescavengedadultfemalesurvivalissignificantlycorrelatedwiththenumberofsocialassociationscalvesaremuchmorevulnerablethanadultsandarealsopreyedonbyleopardscheetahsnilecrocodilesspottedhyenasandwilddogsaquartertoahalfofgiraffecalvesreachadulthoodcalfsurvivalvariesaccordingtotheseasonofbirthwithcalvesbornduringthedryseasonhavinghighersurvivalratesthelocalseasonalpresenceoflargeherdsofmigratorywildebeestsandzebrasreducespredationpressureongiraffecalvesandincreasestheirsurvivalprobabilityinturnithasbeensuggestedthatotherungulatesmaybenefitfromassociatingwithgiraffesastheirheightallowsthemtospotpredatorsfromfurtherawayzebraswerefoundtoaccesspredationriskbywatchinggiraffesandspendlesstimelookingaroundwhengiraffesarepresentsomeparasitesfeedongiraffestheyareoftenhostsforticksespeciallyintheareaaroundthegenitalswhichhavethinnerskinthanotherareastickspeciesthatcommonlyfeedongiraffesarethoseofgenerahyalommaamblyommaandrhipicephalusgiraffesmayrelyonredbilledandyellowbilledoxpeckerstocleanthemofticksandalertthemtodangergiraffeshostnumerousspeciesofinternalparasitesandaresusceptibletovariousdiseasestheywerevictimsofthenoweradicatedviralillnessrinderpestgiraffescanalsosufferfromaskindisorderwhichcomesintheformofwrinkleslesionsorrawfissuresasmuchasofgiraffeshavesymptomsofthediseaseinruahanationalparkbutitdidnotcausemortalityintarangireandislessprevalentinareaswithfertilesoilsrelationshipwithhumansculturalsignificancewithitslankybuildandspottedcoatthegiraffehasbeenasourceoffascinationthroughouthumanhistoryanditsimageiswidespreadincultureithasrepresentedflexibilityfarsightednessfemininityfragilitypassivitygracebeautyandthecontinentofafricaitselfgiraffesweredepictedinartthroughouttheafricancontinentincludingthatofthekiffiansegyptiansandkushitesthekiffianswereresponsibleforalifesizerockengravingoftwogiraffesdatedyearsagothathasbeencalledtheworldslargestrockartpetroglyphhowthegiraffegotitsheighthasbeenthesubjectofvariousafricanfolktalesthetugenpeopleofmodernkenyausedthegiraffetodepicttheirgodmdatheegyptiansgavethegiraffeitsownhieroglyphsrinoldegyptianandmmyinlaterperiodsgiraffeshaveapresenceinmodernwesternculturesalvadordaldepictedthemwithburningmanesinsomeofhissurrealistpaintingsdaliconsideredthegiraffetobeamasculinesymbolandaflaminggiraffewasmeanttobeamasculinecosmicapocalypticmonsterseveralchildrensbooksfeaturethegiraffeincludingdavidaufersthegiraffewhowasafraidofheightsgilesandreaesgiraffescantdanceandroalddahlsthegiraffeandthepellyandmegiraffeshaveappearedinanimatedfilmsasminorcharactersindisneysthelionkinganddumboandinmoreprominentrolesinthewildandthemadagascarfilmssophiethegiraffehasbeenapopularteethersinceanotherfamousfictionalgiraffeisthetoysrusmascotgeoffreythegiraffethegiraffehasalsobeenusedforsomescientificexperimentsanddiscoveriesscientistshaveusedthepropertiesofgiraffeskinasamodelforastronautandfighterpilotsuitsbecausethepeopleintheseprofessionsareindangerofpassingoutifbloodrushestotheirlegscomputerscientistshavemodeledthecoatpatternsofseveralsubspeciesusingreactiondiffusionmechanismstheconstellationofcamelopardalisintroducedintheseventeenthcenturydepictsagiraffethetswanapeopleofbotswanatraditionallyseetheconstellationcruxastwogiraffesacruxandmimosaformingamaleandgacruxanddeltacrucisformingthefemalecaptivitytheegyptianswereamongtheearliestpeopletokeepgiraffesincaptivityshippedthemaroundthemediterraneanthegiraffewasamongthemanyanimalscollectedanddisplayedbytheromansthefirstoneinromewasbroughtinbyjuliuscaesarinbcwiththefallofthewesternromanempirethehousingofgiraffesineuropedeclinedduringthemiddleagesgiraffeswereknowntoeuropeansthroughcontactwiththearabswhoreveredthegiraffeforitspeculiarappearanceindividualcaptivegiraffesweregivencelebritystatusthroughouthistoryinagiraffefrommalindiwastakentochinabyexplorerzhengheandplacedinamingdynastyzootheanimalwasasourceoffascinationforthechinesepeoplewhoassociateditwiththemythicalqilinthemedicigiraffewasagiraffepresentedtolorenzodemediciinitcausedagreatstironitsarrivalinflorencezarafaanotherfamousgiraffewasbroughtfromegypttoparisintheearlythcenturyasagiftforcharlesxoffranceasensationthegiraffewasthesubjectofnumerousmemorabiliaorgiraffanaliagiraffeshavebecomepopularattractionsinmodernzoosthoughkeepingthemhealthyisdifficultastheyrequirevastareasandneedtoeatlargeamountsofbrowsecaptivegiraffesinnorthamericaandeuropeappeartohaveahighermortalityratethaninthewildthemostcommoncausesbeingpoorhusbandrynutritionandmanagementgiraffesinzoosdisplaystereotypicalbehavioursparticularlythelickingofinanimateobjectsandpacingzookeepersmayoffervariousactivitiestostimulategiraffesincludingtrainingthemtotakefoodfromvisitorsstablesforgiraffesarebuiltparticularlyhightoaccommodatetheirheightexploitationgiraffeswereprobablycommontargetsforhuntersthroughoutafricadifferentpartsoftheirbodieswereusedfordifferentpurposestheirmeatwasusedforfoodthetailhairsservedasflyswattersbraceletsnecklacesandthreadsshieldssandalsanddrumsweremadeusingtheskinandthestringsofmusicalinstrumentswerefromthetendonsinbugandathesmokeofburninggiraffeskinwastraditionallyusedtotreatnosebleedsthehumrpeopleofkordofanconsumethedrinkummnyolokhwhichispreparedfromtheliverandbonemarrowofgiraffesrichardrudgleyhypothesisedthatummnyolokhmightcontaindmtthedrinkissaidtocausehallucinationsofgiraffesbelievedtobethegiraffesghostsbythehumrconservationstatusingiraffeswereassessedasvulnerablefromaconservationperspectivebytheiucninitwasestimatedthereweregiraffesinthewildthisdeclinedtooverinestimatesasofindicatethereareapproximatelymembersofgiraffainthewildthemasaiandreticulatedsubspeciesareendangeredandtherothschildsubspeciesisnearthreatenedthenubiansubspeciesiscriticallyendangeredtheprimarycausesforgiraffepopulationdeclinesarehabitatlossanddirectkillingforbushmeatmarketsgiraffeshavebeenextirpatedfrommuchoftheirhistoricrangeincludingeritreaguineamauritaniaandsenegaltheymayalsohavedisappearedfromangolamaliandnigeriabuthavebeenintroducedtorwandaandeswatiniasofthereweremorethanincaptivityatspeciesregisteredzooshabitatdestructionhashurtthegiraffeinthesaheltheneedforfirewoodandgrazingroomforlivestockhasledtodeforestationnormallygiraffescancoexistwithlivestocksincetheyavoiddirectcompetitionbyfeedingabovetheminseveredroughtsinnorthernkenyaledtoincreasedtensionsoverlandandthekillingofwildlifebyherderswithgiraffepopulationsbeingparticularlyhitprotectedareaslikenationalparksprovideimportanthabitatandantipoachingprotectiontogiraffepopulationscommunitybasedconservationeffortsoutsidenationalparksarealsoeffectiveatprotectinggiraffesandtheirhabitatsprivategamereserveshavecontributedtothepreservationofgiraffepopulationsineasternandsouthernafricathegiraffeisaprotectedspeciesinmostofitsrangeitisthenationalanimaloftanzaniaandisprotectedbylawandunauthorisedkillingcanresultinimprisonmenttheunbackedconventionofmigratoryspeciesselectedgiraffesforprotectioniningiraffeswerelistedunderappendixiioftheconventiononinternationaltradeinendangeredspeciesciteswhichmeansinternationaltradeincludinginpartsderivativesisregulatedtranslocationsaresometimesusedtoaugmentorreestablishdiminishedorextirpatedpopulationsbuttheseactivitiesareriskyanddifficulttoundertakeusingthebestpracticesofextensivepreandposttranslocationstudiesandensuringaviablefoundingpopulationaerialsurveyisthemostcommonmethodofmonitoringgiraffepopulationtrendsinthevastroadlesstractsofafricanlandscapesbutaerialmethodsareknowntoundercountgiraffesgroundbasedsurveymethodsaremoreaccurateandcanbeusedinconjunctionwithaerialsurveystomakeaccurateestimatesofpopulationsizesandtrendsseealsofaunaofafricagiraffecentregiraffemanorhotelinnairobiwithgiraffesreferencesexternallinksgiraffeconservationfoundation\n"
          ]
        }
      ]
    },
    {
      "cell_type": "markdown",
      "source": [
        "Instead of directly using characters as the features, to understand a text better, we may consider group of tokens i.e. ngrams as features.\n",
        " \n",
        "For this example let us consider that each character is one word, and let us see how n-grams work."
      ],
      "metadata": {
        "id": "XAJNs7PD_cVM"
      }
    },
    {
      "cell_type": "markdown",
      "source": [
        "\n",
        "## nltk library provides many tools for text processing, please explore them."
      ],
      "metadata": {
        "id": "E1pXE4sK_0kl"
      }
    },
    {
      "cell_type": "markdown",
      "metadata": {
        "id": "jXFTWwd0rk63"
      },
      "source": [
        "Now let us calculate the frequency of the character n-grams. N-grams are groups of characters of size n. A unigram is a single character and a bigram is a group of two characters and so on. \n",
        "\n",
        "Let us count the frequency of each character in a text and plot it in a histogram."
      ]
    },
    {
      "cell_type": "code",
      "metadata": {
        "id": "g3Lz3YUjN0L5"
      },
      "source": [
        "## Dont worry if you do not understand these functions right away, you can revisit them and follow step-by-step.\n",
        "\n",
        "# convert a tuple of characters to a string\n",
        "def tuple2string(tup):\n",
        "  st = ''\n",
        "  for ii in tup:\n",
        "    st = st + ii\n",
        "  return st\n",
        "\n",
        "# convert a tuple of tuples to a list of strings\n",
        "def key2string(keys):\n",
        "  return [tuple2string(i) for i in keys]\n",
        "\n",
        "# plot the histogram\n",
        "def plothistogram(ngram):\n",
        "  keys = key2string(ngram.keys()) \n",
        "  values = list(ngram.values())\n",
        "  \n",
        "  # sort the keys in alphabetic order\n",
        "  combined = zip(keys, values) ## keys i.e. characters on x axis and their count in the given doc as values.\n",
        "  zipped_sorted = sorted(combined, key=lambda x: x[0]) ## sorting based on keys, to get a to z order.\n",
        "  keys, values = map(list, zip(*zipped_sorted))\n",
        "  plt.bar(keys, values)"
      ],
      "execution_count": null,
      "outputs": []
    },
    {
      "cell_type": "markdown",
      "metadata": {
        "id": "zHD62zbZcwAB"
      },
      "source": [
        "Let us compare the histograms of English pages and French pages. Can you spot a difference?"
      ]
    },
    {
      "cell_type": "code",
      "metadata": {
        "id": "LKcGRgH6b0KP",
        "colab": {
          "base_uri": "https://localhost:8080/",
          "height": 545
        },
        "outputId": "e000589a-46b5-481e-decd-4ef17e4b9fe3"
      },
      "source": [
        "## we passed ngrams 'n' as 1 to get unigrams. Unigram is nothing but single token (in this case character).\n",
        "## ngrams imported from nltk, it returns ngrams from given string. Counter returns dictionary with keys as elements and counts as values.\n",
        "unigram_eng1 = Counter(ngrams(eng1,1)) ##just to get count of each element. \n",
        "plothistogram(unigram_eng1)\n",
        "plt.title('English 1')\n",
        "plt.show()\n",
        "unigram_eng2 = Counter(ngrams(eng2,1))\n",
        "plothistogram(unigram_eng2)\n",
        "plt.title('English 2')\n",
        "plt.show()"
      ],
      "execution_count": null,
      "outputs": [
        {
          "output_type": "display_data",
          "data": {
            "text/plain": [
              "<Figure size 432x288 with 1 Axes>"
            ],
            "image/png": "[encoded data removed]"
          },
          "metadata": {
            "needs_background": "light"
          }
        },
        {
          "output_type": "display_data",
          "data": {
            "text/plain": [
              "<Figure size 432x288 with 1 Axes>"
            ],
            "image/png": "[encoded data removed]"
          },
          "metadata": {
            "needs_background": "light"
          }
        }
      ]
    },
    {
      "cell_type": "code",
      "metadata": {
        "id": "fDM_UhCL2QLt",
        "colab": {
          "base_uri": "https://localhost:8080/",
          "height": 545
        },
        "outputId": "0e564536-3ce0-40f4-f061-2ef1cabd0644"
      },
      "source": [
        "unigram_fr1 = Counter(ngrams(fr1,1))\n",
        "plothistogram(unigram_eng1)\n",
        "plt.title('French 1')\n",
        "plt.show()\n",
        "unigram_fr2 = Counter(ngrams(fr2,1))\n",
        "plothistogram(unigram_fr2)\n",
        "plt.title('French 2')\n",
        "plt.show()"
      ],
      "execution_count": null,
      "outputs": [
        {
          "output_type": "display_data",
          "data": {
            "text/plain": [
              "<Figure size 432x288 with 1 Axes>"
            ],
            "image/png": "[encoded data removed]"
          },
          "metadata": {
            "needs_background": "light"
          }
        },
        {
          "output_type": "display_data",
          "data": {
            "text/plain": [
              "<Figure size 432x288 with 1 Axes>"
            ],
            "image/png": "[encoded data removed]"
          },
          "metadata": {
            "needs_background": "light"
          }
        }
      ]
    },
    {
      "cell_type": "markdown",
      "source": [
        "## A good feature is one that helps in easy prediction and classification. \n",
        "## for ex : if you wish to differentiate between grapes and apples, size can be one of the useful features."
      ],
      "metadata": {
        "id": "VUEys9KoA0L0"
      }
    },
    {
      "cell_type": "markdown",
      "metadata": {
        "id": "kxgrdZLKdkAB"
      },
      "source": [
        "We can see that the unigrams for French and English are very similar. So this is not a good feature if we want to distinguish between English and French. Let us look at bigrams."
      ]
    },
    {
      "cell_type": "code",
      "metadata": {
        "id": "OmRCxItx2T9W",
        "colab": {
          "base_uri": "https://localhost:8080/",
          "height": 1000
        },
        "outputId": "818d56c2-b885-4435-fa08-2d3b537dd11e"
      },
      "source": [
        "## Now instead of unigram, we will use bigrams as features, and see how useful bigrams are as features.\n",
        "\n",
        "bigram_eng1 = Counter(ngrams(eng1,2)) # bigrams\n",
        "plothistogram(bigram_eng1)\n",
        "plt.title('English 1')\n",
        "plt.show()\n",
        "\n",
        "bigram_eng2 = Counter(ngrams(eng2,2))\n",
        "plothistogram(bigram_eng2)\n",
        "plt.title('English 2')\n",
        "plt.show()\n",
        "\n",
        "bigram_fr1 = Counter(ngrams(fr1,2))\n",
        "plothistogram(bigram_eng1)\n",
        "plt.title('French 1')\n",
        "plt.show()\n",
        "\n",
        "bigram_fr2 = Counter(ngrams(fr2,2))\n",
        "plothistogram(bigram_fr2)\n",
        "plt.title('French 2')\n",
        "plt.show()"
      ],
      "execution_count": null,
      "outputs": [
        {
          "output_type": "display_data",
          "data": {
            "text/plain": [
              "<Figure size 432x288 with 1 Axes>"
            ],
            "image/png": "[encoded data removed]"
          },
          "metadata": {
            "needs_background": "light"
          }
        },
        {
          "output_type": "display_data",
          "data": {
            "text/plain": [
              "<Figure size 432x288 with 1 Axes>"
            ],
            "image/png": "[encoded data removed]"
          },
          "metadata": {
            "needs_background": "light"
          }
        },
        {
          "output_type": "display_data",
          "data": {
            "text/plain": [
              "<Figure size 432x288 with 1 Axes>"
            ],
            "image/png": "[encoded data removed]"
          },
          "metadata": {
            "needs_background": "light"
          }
        },
        {
          "output_type": "display_data",
          "data": {
            "text/plain": [
              "<Figure size 432x288 with 1 Axes>"
            ],
            "image/png": "[encoded data removed]"
          },
          "metadata": {
            "needs_background": "light"
          }
        }
      ]
    },
    {
      "cell_type": "markdown",
      "metadata": {
        "id": "O-egsHMIg5Rp"
      },
      "source": [
        "Another way to visualize bigrams is to use a 2-dimensional graph."
      ]
    },
    {
      "cell_type": "code",
      "source": [
        "## lets have a lot at bigrams.\n",
        "\n",
        "bigram_eng1\n"
      ],
      "metadata": {
        "colab": {
          "base_uri": "https://localhost:8080/"
        },
        "id": "7LYSVe02dG59",
        "outputId": "c8ea1afd-78ec-4926-e3d5-299427cbec41"
      },
      "execution_count": null,
      "outputs": [
        {
          "output_type": "execute_result",
          "data": {
            "text/plain": [
              "Counter({('t', 'h'): 837,\n",
              "         ('h', 'e'): 695,\n",
              "         ('e', 'g'): 164,\n",
              "         ('g', 'i'): 279,\n",
              "         ('i', 'r'): 314,\n",
              "         ('r', 'a'): 441,\n",
              "         ('a', 'f'): 258,\n",
              "         ('f', 'f'): 262,\n",
              "         ('f', 'e'): 286,\n",
              "         ('e', 'i'): 145,\n",
              "         ('i', 's'): 213,\n",
              "         ('s', 'a'): 240,\n",
              "         ('a', 'l'): 399,\n",
              "         ('l', 'a'): 182,\n",
              "         ('a', 'r'): 323,\n",
              "         ('r', 'g'): 39,\n",
              "         ('g', 'e'): 151,\n",
              "         ('e', 'a'): 348,\n",
              "         ('f', 'r'): 78,\n",
              "         ('r', 'i'): 159,\n",
              "         ('i', 'c'): 162,\n",
              "         ('c', 'a'): 169,\n",
              "         ('a', 'n'): 524,\n",
              "         ('n', 'h'): 25,\n",
              "         ('h', 'o'): 111,\n",
              "         ('o', 'o'): 58,\n",
              "         ('o', 'f'): 194,\n",
              "         ('e', 'd'): 280,\n",
              "         ('d', 'm'): 35,\n",
              "         ('m', 'a'): 242,\n",
              "         ('a', 'm'): 79,\n",
              "         ('m', 'm'): 29,\n",
              "         ('l', 'b'): 11,\n",
              "         ('b', 'e'): 121,\n",
              "         ('e', 'l'): 156,\n",
              "         ('l', 'o'): 148,\n",
              "         ('o', 'n'): 367,\n",
              "         ('n', 'g'): 329,\n",
              "         ('i', 'n'): 586,\n",
              "         ('g', 't'): 75,\n",
              "         ('t', 'o'): 246,\n",
              "         ('o', 't'): 138,\n",
              "         ('e', 'n'): 323,\n",
              "         ('n', 'u'): 25,\n",
              "         ('u', 's'): 101,\n",
              "         ('s', 'g'): 42,\n",
              "         ('f', 'a'): 65,\n",
              "         ('a', 'i'): 79,\n",
              "         ('i', 't'): 262,\n",
              "         ('t', 'i'): 318,\n",
              "         ('s', 't'): 365,\n",
              "         ('e', 't'): 175,\n",
              "         ('t', 'a'): 145,\n",
              "         ('l', 'l'): 134,\n",
              "         ('l', 'e'): 267,\n",
              "         ('e', 's'): 660,\n",
              "         ('t', 'l'): 45,\n",
              "         ('l', 'i'): 162,\n",
              "         ('i', 'v'): 92,\n",
              "         ('v', 'i'): 78,\n",
              "         ('t', 'e'): 284,\n",
              "         ('e', 'r'): 467,\n",
              "         ('r', 'r'): 33,\n",
              "         ('r', 'e'): 450,\n",
              "         ('t', 'r'): 91,\n",
              "         ('i', 'a'): 70,\n",
              "         ('n', 'i'): 113,\n",
              "         ('i', 'm'): 70,\n",
              "         ('n', 'd'): 384,\n",
              "         ('d', 't'): 125,\n",
              "         ('r', 'u'): 39,\n",
              "         ('u', 'm'): 58,\n",
              "         ('m', 'i'): 83,\n",
              "         ('n', 'a'): 170,\n",
              "         ('n', 't'): 306,\n",
              "         ('n', 'e'): 193,\n",
              "         ('r', 't'): 140,\n",
              "         ('h', 't'): 74,\n",
              "         ('a', 'd'): 96,\n",
              "         ('d', 'i'): 158,\n",
              "         ('i', 'o'): 162,\n",
              "         ('l', 'y'): 127,\n",
              "         ('y', 'g'): 20,\n",
              "         ('s', 'w'): 81,\n",
              "         ('w', 'e'): 77,\n",
              "         ('o', 'u'): 190,\n",
              "         ('u', 'g'): 47,\n",
              "         ('g', 'h'): 89,\n",
              "         ('t', 't'): 84,\n",
              "         ('o', 'b'): 29,\n",
              "         ('e', 'o'): 86,\n",
              "         ('s', 'p'): 116,\n",
              "         ('p', 'e'): 137,\n",
              "         ('e', 'c'): 240,\n",
              "         ('c', 'i'): 102,\n",
              "         ('i', 'e'): 108,\n",
              "         ('a', 'c'): 126,\n",
              "         ('m', 'e'): 136,\n",
              "         ('o', 'p'): 80,\n",
              "         ('p', 'a'): 81,\n",
              "         ('r', 'd'): 54,\n",
              "         ('d', 'a'): 132,\n",
              "         ('w', 'i'): 92,\n",
              "         ('h', 'n'): 5,\n",
              "         ('s', 'u'): 106,\n",
              "         ('u', 'b'): 27,\n",
              "         ('b', 's'): 15,\n",
              "         ('s', 'm'): 68,\n",
              "         ('m', 'o'): 142,\n",
              "         ('o', 's'): 100,\n",
              "         ('c', 'e'): 108,\n",
              "         ('y', 'r'): 17,\n",
              "         ('s', 'e'): 232,\n",
              "         ('r', 'c'): 38,\n",
              "         ('c', 'h'): 135,\n",
              "         ('r', 's'): 113,\n",
              "         ('p', 'r'): 106,\n",
              "         ('r', 'o'): 237,\n",
              "         ('p', 'o'): 92,\n",
              "         ('d', 'd'): 28,\n",
              "         ('i', 'd'): 47,\n",
              "         ('e', 'm'): 149,\n",
              "         ('u', 'p'): 50,\n",
              "         ('p', 't'): 45,\n",
              "         ('o', 'e'): 19,\n",
              "         ('i', 'g'): 80,\n",
              "         ('e', 'x'): 47,\n",
              "         ('x', 't'): 20,\n",
              "         ('t', 's'): 177,\n",
              "         ('s', 'd'): 33,\n",
              "         ('d', 'u'): 66,\n",
              "         ('u', 'e'): 12,\n",
              "         ('e', 'w'): 70,\n",
              "         ('w', 'r'): 4,\n",
              "         ('h', 'i'): 146,\n",
              "         ('r', 'm'): 44,\n",
              "         ('o', 'c'): 55,\n",
              "         ('d', 'r'): 33,\n",
              "         ('d', 'n'): 17,\n",
              "         ('u', 'c'): 39,\n",
              "         ('c', 'l'): 34,\n",
              "         ('a', 'a'): 22,\n",
              "         ('a', 's'): 232,\n",
              "         ('o', 'r'): 260,\n",
              "         ('r', 'p'): 21,\n",
              "         ('p', 'h'): 19,\n",
              "         ('o', 'l'): 72,\n",
              "         ('o', 'g'): 34,\n",
              "         ('l', 'm'): 11,\n",
              "         ('u', 'r'): 128,\n",
              "         ('s', 's'): 129,\n",
              "         ('e', 'v'): 57,\n",
              "         ('v', 'e'): 228,\n",
              "         ('n', 'o'): 99,\n",
              "         ('n', 'c'): 102,\n",
              "         ('c', 't'): 87,\n",
              "         ('s', 'o'): 167,\n",
              "         ('f', 'g'): 19,\n",
              "         ('e', 'k'): 14,\n",
              "         ('k', 'n'): 13,\n",
              "         ('o', 'w'): 92,\n",
              "         ('w', 'n'): 21,\n",
              "         ('n', 'f'): 27,\n",
              "         ('o', 'm'): 157,\n",
              "         ('m', 't'): 21,\n",
              "         ('e', 'f'): 82,\n",
              "         ('f', 'o'): 118,\n",
              "         ('s', 'i'): 217,\n",
              "         ('i', 'l'): 115,\n",
              "         ('l', 'r'): 4,\n",
              "         ('c', 'o'): 168,\n",
              "         ('s', 'c'): 82,\n",
              "         ('f', 'd'): 6,\n",
              "         ('g', 'u'): 23,\n",
              "         ('u', 'i'): 18,\n",
              "         ('s', 'h'): 98,\n",
              "         ('g', 'c'): 13,\n",
              "         ('h', 'a'): 237,\n",
              "         ('c', 's'): 6,\n",
              "         ('y', 'l'): 18,\n",
              "         ('g', 'n'): 18,\n",
              "         ('c', 'k'): 82,\n",
              "         ('k', 'a'): 30,\n",
              "         ('d', 'l'): 28,\n",
              "         ('g', 's'): 41,\n",
              "         ('r', 'n'): 57,\n",
              "         ('n', 'l'): 35,\n",
              "         ('i', 'k'): 15,\n",
              "         ('k', 'e'): 50,\n",
              "         ('d', 'c'): 25,\n",
              "         ('o', 'a'): 32,\n",
              "         ('a', 't'): 339,\n",
              "         ('t', 'p'): 22,\n",
              "         ('n', 's'): 140,\n",
              "         ('i', 'f'): 33,\n",
              "         ('f', 'i'): 62,\n",
              "         ('u', 'n'): 94,\n",
              "         ('d', 'e'): 137,\n",
              "         ('a', 'e'): 28,\n",
              "         ('g', 'w'): 7,\n",
              "         ('o', 'k'): 29,\n",
              "         ('a', 'p'): 71,\n",
              "         ('p', 'i'): 47,\n",
              "         ('i', 'i'): 4,\n",
              "         ('e', 'e'): 142,\n",
              "         ('d', 's'): 71,\n",
              "         ('s', 'f'): 51,\n",
              "         ('m', 'c'): 3,\n",
              "         ('u', 't'): 55,\n",
              "         ('d', 'f'): 41,\n",
              "         ('m', 'n'): 5,\n",
              "         ('t', 'g'): 21,\n",
              "         ('u', 'a'): 25,\n",
              "         ('y', 'i'): 24,\n",
              "         ('a', 'b'): 58,\n",
              "         ('b', 'i'): 41,\n",
              "         ('a', 'v'): 77,\n",
              "         ('v', 'a'): 49,\n",
              "         ('n', 'n'): 18,\n",
              "         ('a', 'h'): 19,\n",
              "         ('h', 's'): 20,\n",
              "         ('d', 'w'): 15,\n",
              "         ('w', 'o'): 27,\n",
              "         ('o', 'd'): 81,\n",
              "         ('r', 'f'): 30,\n",
              "         ('s', 'l'): 44,\n",
              "         ('f', 'l'): 25,\n",
              "         ('f', 'w'): 4,\n",
              "         ('d', 'y'): 23,\n",
              "         ('y', 'p'): 35,\n",
              "         ('p', 'l'): 32,\n",
              "         ('y', 'a'): 60,\n",
              "         ('w', 'h'): 70,\n",
              "         ('e', 'y'): 44,\n",
              "         ('y', 'b'): 16,\n",
              "         ('b', 'r'): 53,\n",
              "         ('w', 's'): 22,\n",
              "         ('r', 'h'): 15,\n",
              "         ('r', 'b'): 18,\n",
              "         ('v', 'o'): 12,\n",
              "         ('h', 'l'): 11,\n",
              "         ('d', 'h'): 20,\n",
              "         ('h', 'y'): 21,\n",
              "         ('y', 'e'): 24,\n",
              "         ('n', 'w'): 11,\n",
              "         ('l', 'd'): 45,\n",
              "         ('d', 'o'): 69,\n",
              "         ('a', 'y'): 43,\n",
              "         ('y', 'u'): 5,\n",
              "         ('f', 's'): 13,\n",
              "         ('g', 'o'): 22,\n",
              "         ('b', 'a'): 41,\n",
              "         ('f', 'u'): 15,\n",
              "         ('n', 'r'): 22,\n",
              "         ('u', 'l'): 101,\n",
              "         ('l', 't'): 65,\n",
              "         ('t', 'm'): 19,\n",
              "         ('s', 'b'): 64,\n",
              "         ('b', 'u'): 25,\n",
              "         ('g', 'r'): 63,\n",
              "         ('g', 'a'): 67,\n",
              "         ('a', 'g'): 70,\n",
              "         ('g', 'g'): 29,\n",
              "         ('b', 'l'): 60,\n",
              "         ('l', 'h'): 5,\n",
              "         ('h', 'r'): 23,\n",
              "         ('k', 'i'): 45,\n",
              "         ('m', 'b'): 28,\n",
              "         ('t', 'b'): 12,\n",
              "         ('b', 'o'): 42,\n",
              "         ('a', 'w'): 13,\n",
              "         ('n', 'm'): 22,\n",
              "         ('c', 'c'): 20,\n",
              "         ('h', 'b'): 7,\n",
              "         ('i', 'b'): 19,\n",
              "         ('t', 'y'): 37,\n",
              "         ('y', 'f'): 15,\n",
              "         ('y', 'o'): 32,\n",
              "         ('e', 'h'): 54,\n",
              "         ('d', 'v'): 10,\n",
              "         ('c', 'u'): 39,\n",
              "         ('t', 'u'): 52,\n",
              "         ('p', 'p'): 43,\n",
              "         ('f', 't'): 75,\n",
              "         ('n', 'b'): 24,\n",
              "         ('n', 'p'): 12,\n",
              "         ('k', 's'): 26,\n",
              "         ('d', 'b'): 34,\n",
              "         ('b', 'y'): 31,\n",
              "         ('y', 't'): 40,\n",
              "         ('l', 'u'): 29,\n",
              "         ('r', 'v'): 43,\n",
              "         ('f', 'n'): 4,\n",
              "         ('i', 'u'): 15,\n",
              "         ('c', 'n'): 3,\n",
              "         ('s', 'v'): 5,\n",
              "         ('v', 'u'): 4,\n",
              "         ('l', 'n'): 9,\n",
              "         ('n', 'y'): 13,\n",
              "         ('l', 'f'): 20,\n",
              "         ('s', 'n'): 22,\n",
              "         ('l', 'p'): 15,\n",
              "         ('r', 'k'): 12,\n",
              "         ('d', 'g'): 24,\n",
              "         ('o', 'x'): 12,\n",
              "         ('x', 'i'): 15,\n",
              "         ('y', 'm'): 14,\n",
              "         ('e', 'p'): 84,\n",
              "         ('n', 'z'): 6,\n",
              "         ('z', 'o'): 7,\n",
              "         ('g', 'y'): 10,\n",
              "         ('r', 'l'): 37,\n",
              "         ('t', 'k'): 3,\n",
              "         ('c', 'w'): 2,\n",
              "         ('d', 'z'): 4,\n",
              "         ('z', 'a'): 4,\n",
              "         ('h', 'p'): 6,\n",
              "         ('p', 's'): 22,\n",
              "         ('l', 's'): 70,\n",
              "         ('b', 'n'): 1,\n",
              "         ('t', 'w'): 41,\n",
              "         ('w', 'a'): 47,\n",
              "         ('l', 'k'): 9,\n",
              "         ('g', 'l'): 19,\n",
              "         ('s', 'j'): 1,\n",
              "         ('j', 'a'): 4,\n",
              "         ('z', 'i'): 3,\n",
              "         ('h', 'w'): 6,\n",
              "         ('e', 'u'): 30,\n",
              "         ('d', 'p'): 23,\n",
              "         ('y', 'd'): 9,\n",
              "         ('a', 'u'): 25,\n",
              "         ('m', 'g'): 5,\n",
              "         ('h', 'f'): 8,\n",
              "         ('m', 'd'): 3,\n",
              "         ('h', 'g'): 6,\n",
              "         ('t', 'd'): 12,\n",
              "         ('k', 'k'): 1,\n",
              "         ('m', 'l'): 3,\n",
              "         ('m', 'k'): 1,\n",
              "         ('k', 'm'): 4,\n",
              "         ('o', 'i'): 14,\n",
              "         ('a', 'x'): 6,\n",
              "         ('x', 'o'): 8,\n",
              "         ('m', 'y'): 13,\n",
              "         ('a', 'o'): 7,\n",
              "         ('y', 'w'): 6,\n",
              "         ('m', 'u'): 24,\n",
              "         ('h', 'm'): 14,\n",
              "         ('o', 'v'): 35,\n",
              "         ('l', 'g'): 10,\n",
              "         ('c', 'r'): 25,\n",
              "         ('o', 'h'): 16,\n",
              "         ('m', 'p'): 39,\n",
              "         ('t', 'v'): 5,\n",
              "         ('e', 'b'): 75,\n",
              "         ('s', 'k'): 32,\n",
              "         ('k', 'u'): 16,\n",
              "         ('f', 'v'): 2,\n",
              "         ('r', 'w'): 10,\n",
              "         ('h', 'u'): 16,\n",
              "         ('r', 'y'): 42,\n",
              "         ('y', 'x'): 4,\n",
              "         ('x', 'w'): 2,\n",
              "         ('h', 'h'): 10,\n",
              "         ('m', 's'): 12,\n",
              "         ('i', 'z'): 9,\n",
              "         ('z', 'e'): 11,\n",
              "         ('x', 'a'): 5,\n",
              "         ('b', 'c'): 3,\n",
              "         ('x', 'm'): 3,\n",
              "         ('y', 'h'): 16,\n",
              "         ('l', 'w'): 5,\n",
              "         ('l', 'c'): 18,\n",
              "         ('s', 'r'): 26,\n",
              "         ('x', 's'): 3,\n",
              "         ('m', 'w'): 5,\n",
              "         ('l', 'v'): 28,\n",
              "         ('k', 'p'): 5,\n",
              "         ('y', 's'): 44,\n",
              "         ('g', 'j'): 2,\n",
              "         ('j', 'u'): 10,\n",
              "         ('y', 'c'): 11,\n",
              "         ('c', 'p'): 1,\n",
              "         ('t', 'c'): 30,\n",
              "         ('u', 'd'): 27,\n",
              "         ('x', 'p'): 8,\n",
              "         ('f', 'm'): 12,\n",
              "         ('h', 'c'): 17,\n",
              "         ('g', 'm'): 11,\n",
              "         ('i', 'x'): 6,\n",
              "         ('x', 'l'): 1,\n",
              "         ('g', 'd'): 9,\n",
              "         ('i', 'p'): 19,\n",
              "         ('x', 'c'): 3,\n",
              "         ('g', 'f'): 4,\n",
              "         ('p', 'u'): 23,\n",
              "         ('e', 'q'): 8,\n",
              "         ('q', 'u'): 12,\n",
              "         ('p', 'b'): 2,\n",
              "         ('a', 'j'): 2,\n",
              "         ('n', 'j'): 4,\n",
              "         ('p', 'y'): 2,\n",
              "         ('m', 'f'): 12,\n",
              "         ('k', 'g'): 7,\n",
              "         ('b', 'f'): 4,\n",
              "         ('d', 'k'): 6,\n",
              "         ('t', 'f'): 19,\n",
              "         ('k', 't'): 5,\n",
              "         ('u', 'f'): 8,\n",
              "         ('f', 'h'): 5,\n",
              "         ('k', 'b'): 4,\n",
              "         ('t', 'n'): 5,\n",
              "         ('w', 'm'): 2,\n",
              "         ('g', 'p'): 8,\n",
              "         ('i', 'q'): 2,\n",
              "         ('x', 'b'): 1,\n",
              "         ('s', 'y'): 8,\n",
              "         ('x', 'u'): 6,\n",
              "         ('x', 'e'): 2,\n",
              "         ('c', 'm'): 9,\n",
              "         ('g', 'v'): 2,\n",
              "         ('p', 'w'): 5,\n",
              "         ('p', 'c'): 2,\n",
              "         ('w', 't'): 9,\n",
              "         ('p', 'f'): 1,\n",
              "         ('k', 'o'): 6,\n",
              "         ('k', 'l'): 5,\n",
              "         ('r', 'j'): 2,\n",
              "         ('w', 'c'): 3,\n",
              "         ('k', 'w'): 3,\n",
              "         ('h', 'j'): 1,\n",
              "         ('u', 'v'): 2,\n",
              "         ('k', 'r'): 3,\n",
              "         ('a', 'k'): 10,\n",
              "         ('g', 'b'): 7,\n",
              "         ('o', 'y'): 4,\n",
              "         ('c', 'v'): 4,\n",
              "         ('k', 'v'): 1,\n",
              "         ('t', 'j'): 2,\n",
              "         ('j', 'o'): 2,\n",
              "         ('b', 'd'): 1,\n",
              "         ('n', 'q'): 1,\n",
              "         ('f', 'b'): 9,\n",
              "         ('k', 'd'): 2,\n",
              "         ('c', 'g'): 1,\n",
              "         ('h', 'd'): 5,\n",
              "         ('b', 't'): 1,\n",
              "         ('y', 'n'): 12,\n",
              "         ('f', 'c'): 4,\n",
              "         ('b', 'j'): 5,\n",
              "         ('j', 'e'): 5,\n",
              "         ('n', 'k'): 16,\n",
              "         ('k', 'y'): 3,\n",
              "         ('m', 'h'): 4,\n",
              "         ('n', 'x'): 1,\n",
              "         ('w', 'w'): 2,\n",
              "         ('x', 'y'): 2,\n",
              "         ('e', 'j'): 1,\n",
              "         ('n', 'v'): 6,\n",
              "         ('f', 'p'): 4,\n",
              "         ('c', 'y'): 2,\n",
              "         ('f', 'y'): 1,\n",
              "         ('b', 'p'): 1,\n",
              "         ('x', 'g'): 1,\n",
              "         ('e', 'z'): 2,\n",
              "         ('w', 'l'): 1,\n",
              "         ('p', 'm'): 2,\n",
              "         ('h', 'v'): 1,\n",
              "         ('b', 'm'): 1,\n",
              "         ('w', 'b'): 2,\n",
              "         ('w', 'd'): 2,\n",
              "         ('p', 'n'): 1,\n",
              "         ('b', 'g'): 1,\n",
              "         ('k', 'c'): 1,\n",
              "         ('y', 'k'): 1,\n",
              "         ('a', 'q'): 1,\n",
              "         ('y', 'z'): 2,\n",
              "         ('w', 'f'): 1,\n",
              "         ('u', 'x'): 3,\n",
              "         ('p', 'g'): 1,\n",
              "         ('y', 'j'): 1,\n",
              "         ('i', 'w'): 2,\n",
              "         ('r', 'z'): 1,\n",
              "         ('z', 'h'): 1,\n",
              "         ('l', 'q'): 1,\n",
              "         ('q', 'i'): 1,\n",
              "         ('s', 'x'): 1,\n",
              "         ('h', 'k'): 1,\n",
              "         ('g', 'z'): 1,\n",
              "         ('m', 'v'): 1,\n",
              "         ('m', 'r'): 2,\n",
              "         ('f', 'k'): 1,\n",
              "         ('k', 'h'): 3,\n",
              "         ('a', 'z'): 1})"
            ]
          },
          "metadata": {},
          "execution_count": 21
        }
      ]
    },
    {
      "cell_type": "code",
      "metadata": {
        "id": "3EaPJgtaVxZM"
      },
      "source": [
        "## a function to plot 2-D histogram. The values are color mapped. \n",
        "\n",
        "def plotbihistogram(ngram):\n",
        "  freq = np.zeros((26,26))\n",
        "  for ii in range(26):\n",
        "    for jj in range(26):\n",
        "      freq[ii,jj] = ngram[(chr(ord('a')+ii), chr(ord('a')+jj))] #ord converts char to code\n",
        "  plt.imshow(freq, cmap = 'jet')\n",
        "  plt.colorbar()\n",
        "  return freq"
      ],
      "execution_count": null,
      "outputs": []
    },
    {
      "cell_type": "code",
      "source": [
        "ord"
      ],
      "metadata": {
        "colab": {
          "base_uri": "https://localhost:8080/"
        },
        "id": "4IFVtO8q8TJB",
        "outputId": "2c3f49e6-fca0-4dc4-9b12-49238d472410"
      },
      "execution_count": null,
      "outputs": [
        {
          "output_type": "execute_result",
          "data": {
            "text/plain": [
              "<function ord(c, /)>"
            ]
          },
          "metadata": {},
          "execution_count": 23
        }
      ]
    },
    {
      "cell_type": "code",
      "metadata": {
        "id": "M7jq3AwnVzQT",
        "colab": {
          "base_uri": "https://localhost:8080/",
          "height": 513
        },
        "outputId": "9cd71cba-66c2-4ed5-8aac-72eb551335d2"
      },
      "source": [
        "bieng1 = plotbihistogram(bigram_eng1)\n",
        "plt.show()\n",
        "bieng2 = plotbihistogram(bigram_eng2)"
      ],
      "execution_count": null,
      "outputs": [
        {
          "output_type": "display_data",
          "data": {
            "text/plain": [
              "<Figure size 432x288 with 2 Axes>"
            ],
            "image/png": "[encoded data removed]"
          },
          "metadata": {
            "needs_background": "light"
          }
        },
        {
          "output_type": "display_data",
          "data": {
            "text/plain": [
              "<Figure size 432x288 with 2 Axes>"
            ],
            "image/png": "[encoded data removed]"
          },
          "metadata": {
            "needs_background": "light"
          }
        }
      ]
    },
    {
      "cell_type": "code",
      "metadata": {
        "id": "UXPTOj67WsPT",
        "colab": {
          "base_uri": "https://localhost:8080/",
          "height": 513
        },
        "outputId": "abf40337-5af1-42b4-ec22-1d324d5512af"
      },
      "source": [
        "bifr1 = plotbihistogram(bigram_fr1)\n",
        "plt.show()\n",
        "bifr2 = plotbihistogram(bigram_fr2)"
      ],
      "execution_count": null,
      "outputs": [
        {
          "output_type": "display_data",
          "data": {
            "text/plain": [
              "<Figure size 432x288 with 2 Axes>"
            ],
            "image/png": "[encoded data removed]"
          },
          "metadata": {
            "needs_background": "light"
          }
        },
        {
          "output_type": "display_data",
          "data": {
            "text/plain": [
              "<Figure size 432x288 with 2 Axes>"
            ],
            "image/png": "[encoded data removed]"
          },
          "metadata": {
            "needs_background": "light"
          }
        }
      ]
    },
    {
      "cell_type": "markdown",
      "metadata": {
        "id": "rGOEHcyGokD0"
      },
      "source": [
        "Let us look at the top 10 ngrams for each text. "
      ]
    },
    {
      "cell_type": "code",
      "metadata": {
        "id": "dk2TkzTno8vb"
      },
      "source": [
        "from IPython.core.debugger import set_trace\n",
        "\n",
        "def ind2tup(ind):\n",
        "  ind = int(ind)\n",
        "  i = int(ind/26)\n",
        "  j = int(ind%26)\n",
        "  return (chr(ord('a')+i), chr(ord('a')+j))\n",
        "\n",
        "def ShowTopN(bifreq, n=10):\n",
        "  f = bifreq.flatten()\n",
        "  arg = np.argsort(-f)\n",
        "  for ii in range(n):\n",
        "    print(f'{ind2tup(arg[ii])} : {f[arg[ii]]}')\n"
      ],
      "execution_count": null,
      "outputs": []
    },
    {
      "cell_type": "code",
      "metadata": {
        "id": "_HeWNh_q0QZ1",
        "colab": {
          "base_uri": "https://localhost:8080/"
        },
        "outputId": "d0ca7318-d544-472a-f023-53e7992ba8d0"
      },
      "source": [
        "print('\\nEnglish 1:')\n",
        "ShowTopN(bieng1)\n",
        "print('\\nEnglish 2:')\n",
        "ShowTopN(bieng2)\n",
        "print('\\nFrench 1:')\n",
        "ShowTopN(bifr1)\n",
        "print('\\nFrench 2:')\n",
        "ShowTopN(bifr2)"
      ],
      "execution_count": null,
      "outputs": [
        {
          "output_type": "stream",
          "name": "stdout",
          "text": [
            "\n",
            "English 1:\n",
            "('t', 'h') : 849.0\n",
            "('h', 'e') : 703.0\n",
            "('e', 's') : 661.0\n",
            "('i', 'n') : 592.0\n",
            "('a', 'n') : 535.0\n",
            "('e', 'r') : 475.0\n",
            "('r', 'e') : 449.0\n",
            "('r', 'a') : 446.0\n",
            "('a', 'l') : 403.0\n",
            "('n', 'd') : 391.0\n",
            "\n",
            "English 2:\n",
            "('t', 'h') : 1475.0\n",
            "('a', 'n') : 1361.0\n",
            "('h', 'e') : 1188.0\n",
            "('i', 'n') : 1008.0\n",
            "('n', 't') : 826.0\n",
            "('e', 'r') : 800.0\n",
            "('e', 's') : 756.0\n",
            "('r', 'e') : 752.0\n",
            "('l', 'e') : 718.0\n",
            "('h', 'a') : 712.0\n",
            "\n",
            "French 1:\n",
            "('e', 's') : 645.0\n",
            "('l', 'e') : 393.0\n",
            "('e', 'n') : 367.0\n",
            "('d', 'e') : 349.0\n",
            "('o', 'n') : 308.0\n",
            "('n', 't') : 289.0\n",
            "('r', 'e') : 289.0\n",
            "('e', 'l') : 277.0\n",
            "('r', 'a') : 230.0\n",
            "('l', 'a') : 227.0\n",
            "\n",
            "French 2:\n",
            "('e', 's') : 1034.0\n",
            "('n', 't') : 796.0\n",
            "('d', 'e') : 657.0\n",
            "('e', 'n') : 650.0\n",
            "('l', 'e') : 626.0\n",
            "('a', 'n') : 555.0\n",
            "('o', 'n') : 484.0\n",
            "('r', 'e') : 484.0\n",
            "('e', 'l') : 439.0\n",
            "('s', 'e') : 391.0\n"
          ]
        }
      ]
    },
    {
      "cell_type": "markdown",
      "source": [
        "## At times, we need to reduce the number of features. We will discuss this more in the upcoming sessions, but a small example has been discussed here. Instead of using each unique token (a word) as a feature, we reduced the number of features by using 1-gram and 2-gram of characters as features."
      ],
      "metadata": {
        "id": "RfwwQj_4CyBA"
      }
    },
    {
      "cell_type": "markdown",
      "metadata": {
        "id": "6kDovOP4l98z"
      },
      "source": [
        "We observe that the bigrams are similar across different topics but different across languages. Thus, the bigram frequency is a good feature for distinguishing languages, but not for distinguishing topics. \n",
        "\n",
        "Thus, we were able to convert a many-dimensional input (the text) to 26 dimesions (unigrams) or 26*26 dimensions (bigrams).\n",
        "\n",
        "\n",
        "A few ways to explore:\n",
        "1. Try with different languages.\n",
        "2. The topics we used are quite similar, wikipedia articles of 'elephant' and 'giraffe'. What happens if we use very different topics? What if we use text from another source than Wikipedia?\n",
        "3. How can we use and visualize trigrams and higher n-grams?"
      ]
    },
    {
      "cell_type": "markdown",
      "source": [
        "## Features of Images. \n",
        "### Images in digital format are stored as numeric values, and hence we can use these values as features. for ex : a black and white (binary) image is stored as an array of 0  and 255 or 0 and 1."
      ],
      "metadata": {
        "id": "CpA1eKZiDjTm"
      }
    },
    {
      "cell_type": "markdown",
      "metadata": {
        "id": "2ZJfjIHk-oHV"
      },
      "source": [
        "# Part 2: Written numbers\n",
        "\n",
        "We will use a subset of the MNIST dataset. Each input character is represented in a 28*28 array. Let us see if we can extract some simple features from these images which can help us distinguish between the digits.\n",
        "\n",
        "Load the dataset:"
      ]
    },
    {
      "cell_type": "code",
      "metadata": {
        "id": "yNsLJSr6wGY0",
        "colab": {
          "base_uri": "https://localhost:8080/"
        },
        "outputId": "7d385c55-c89a-41a5-f1ed-6ea756d4a3c4"
      },
      "source": [
        "from keras.datasets import mnist\n",
        " \n",
        "#loading the dataset\n",
        "(train_X, train_y), (test_X, test_y) = mnist.load_data()\n",
        "\n"
      ],
      "execution_count": null,
      "outputs": [
        {
          "output_type": "stream",
          "name": "stdout",
          "text": [
            "Downloading data from https://storage.googleapis.com/tensorflow/tf-keras-datasets/mnist.npz\n",
            "11493376/11490434 [==============================] - 0s 0us/step\n",
            "11501568/11490434 [==============================] - 0s 0us/step\n"
          ]
        }
      ]
    },
    {
      "cell_type": "markdown",
      "metadata": {
        "id": "jVNr144WAUZO"
      },
      "source": [
        "Extract a subset of the data for our experiment:"
      ]
    },
    {
      "cell_type": "code",
      "metadata": {
        "id": "P3MN8ddxAASZ"
      },
      "source": [
        "no1 = train_X[train_y==1,:,:] ## dataset corresponding to number = 1.\n",
        "no0 = train_X[train_y==0,:,:] ## dataset corresponding to number = 0."
      ],
      "execution_count": null,
      "outputs": []
    },
    {
      "cell_type": "markdown",
      "metadata": {
        "id": "ePXCs0qyCLpc"
      },
      "source": [
        "Let us visualize a few images here:"
      ]
    },
    {
      "cell_type": "code",
      "metadata": {
        "id": "BQeyZSh-Arpc",
        "colab": {
          "base_uri": "https://localhost:8080/",
          "height": 201
        },
        "outputId": "16210b28-b535-410b-bae9-d290826f6b3b"
      },
      "source": [
        "for ii in range(5):\n",
        "  plt.subplot(1, 5, ii+1)\n",
        "  plt.imshow(no1[ii,:,:])\n",
        "plt.show()\n",
        "for ii in range(5):\n",
        "  plt.subplot(1, 5, ii+1)\n",
        "  plt.imshow(no0[ii,:,:])\n",
        "plt.show()"
      ],
      "execution_count": null,
      "outputs": [
        {
          "output_type": "display_data",
          "data": {
            "text/plain": [
              "<Figure size 432x288 with 5 Axes>"
            ],
            "image/png": "[encoded data removed]"
          },
          "metadata": {
            "needs_background": "light"
          }
        },
        {
          "output_type": "display_data",
          "data": {
            "text/plain": [
              "<Figure size 432x288 with 5 Axes>"
            ],
            "image/png": "[encoded data removed]"
          },
          "metadata": {
            "needs_background": "light"
          }
        }
      ]
    },
    {
      "cell_type": "code",
      "source": [
        "a = no1>0\n",
        "a.shape, no1.shape"
      ],
      "metadata": {
        "colab": {
          "base_uri": "https://localhost:8080/"
        },
        "id": "n2UFfFWhCYzT",
        "outputId": "7b9fc9ac-a02f-4de3-87c2-4271b24a72dc"
      },
      "execution_count": null,
      "outputs": [
        {
          "output_type": "execute_result",
          "data": {
            "text/plain": [
              "((6742, 28, 28), (6742, 28, 28))"
            ]
          },
          "metadata": {},
          "execution_count": 11
        }
      ]
    },
    {
      "cell_type": "code",
      "source": [
        "## to help you understand how the np.sum is working to find count of pixels that are not zero.\n",
        "\n",
        "mtx = np.arange(8).reshape(2,2,2)\n",
        "a = mtx>1\n",
        "a[0][0][0]\n",
        "type(a[0][0][0])\n"
      ],
      "metadata": {
        "colab": {
          "base_uri": "https://localhost:8080/"
        },
        "id": "LHjttKNkDK29",
        "outputId": "a5895417-20b4-48da-b5d4-b04f471d3d16"
      },
      "execution_count": null,
      "outputs": [
        {
          "output_type": "execute_result",
          "data": {
            "text/plain": [
              "numpy.bool_"
            ]
          },
          "metadata": {},
          "execution_count": 12
        }
      ]
    },
    {
      "cell_type": "markdown",
      "source": [
        "## We can even use value of each pixel as a feature. But let us see how to derive other features."
      ],
      "metadata": {
        "id": "2_1n_KXkE3zg"
      }
    },
    {
      "cell_type": "markdown",
      "metadata": {
        "id": "1g-Tg7EKDz96"
      },
      "source": [
        "Now, let us start with a simple feature: the sum of all pixels and see how good this feature is."
      ]
    },
    {
      "cell_type": "code",
      "metadata": {
        "id": "I8SztDk7CyZc"
      },
      "source": [
        "## sum of pixel values.\n",
        "\n",
        "sum1 = np.sum(no1>0, (1,2)) # threshold before adding up\n",
        "sum0 = np.sum(no0>0, (1,2))"
      ],
      "execution_count": null,
      "outputs": []
    },
    {
      "cell_type": "markdown",
      "metadata": {
        "id": "8oW3XCOCE7Zv"
      },
      "source": [
        "Let us visualize how good this feature is: (X-axis is mean, y-axis is the digit)"
      ]
    },
    {
      "cell_type": "code",
      "source": [
        "sum1.shape"
      ],
      "metadata": {
        "colab": {
          "base_uri": "https://localhost:8080/"
        },
        "id": "LDz2vOp_GAZr",
        "outputId": "33d5c3f2-67f3-42ab-d07f-7ec7ebc8b8a2"
      },
      "execution_count": null,
      "outputs": [
        {
          "output_type": "execute_result",
          "data": {
            "text/plain": [
              "(6742,)"
            ]
          },
          "metadata": {},
          "execution_count": 83
        }
      ]
    },
    {
      "cell_type": "code",
      "metadata": {
        "id": "i8PIe8o_DPpU",
        "colab": {
          "base_uri": "https://localhost:8080/",
          "height": 265
        },
        "outputId": "8176810e-3ede-4298-8278-89a603a89b6b"
      },
      "source": [
        "plt.hist(sum1, alpha=0.7);\n",
        "plt.hist(sum0, alpha=0.7);\n",
        "\n"
      ],
      "execution_count": null,
      "outputs": [
        {
          "output_type": "display_data",
          "data": {
            "text/plain": [
              "<Figure size 432x288 with 1 Axes>"
            ],
            "image/png": "[encoded data removed]"
          },
          "metadata": {
            "needs_background": "light"
          }
        }
      ]
    },
    {
      "cell_type": "markdown",
      "metadata": {
        "id": "7_hToEepFtl2"
      },
      "source": [
        "We can already see that this feature separates the two classes quite well.\n",
        "\n",
        "Let us look at another, more complicated feature. We will count the number black pixels that are surrounded on four sides by non-black pixels, or \"hole pixels\"."
      ]
    },
    {
      "cell_type": "code",
      "metadata": {
        "id": "HwEnlm6RFFej"
      },
      "source": [
        "def cumArray(img):\n",
        "  img2 = img.copy()\n",
        "  for ii in range(1, img2.shape[1]):\n",
        "    img2[ii,:] = img2[ii,:] + img2[ii-1,:]  # for every row, add up all the rows above it.\n",
        "  #print(img2)\n",
        "  img2 = img2>0\n",
        "  #print(img2)\n",
        "  return img2\n",
        "\n",
        "def getHolePixels(img):\n",
        "  im1 = cumArray(img)\n",
        "  im2 = np.rot90(cumArray(np.rot90(img)), 3) # rotate and cumulate it again for differnt direction\n",
        "  im3 = np.rot90(cumArray(np.rot90(img, 2)), 2)\n",
        "  im4 = np.rot90(cumArray(np.rot90(img, 3)), 1)\n",
        "  hull =  im1 & im2 & im3 & im4 # this will create a binary image with all the holes filled in.\n",
        "  hole = hull & ~ (img>0) # remove the original digit to leave behind the holes\n",
        "  return hole\n",
        "\n",
        "\n"
      ],
      "execution_count": null,
      "outputs": []
    },
    {
      "cell_type": "markdown",
      "metadata": {
        "id": "iw3HjgnupUEI"
      },
      "source": [
        "Visualize a few:"
      ]
    },
    {
      "cell_type": "code",
      "metadata": {
        "id": "H0sjr23NYEFe",
        "colab": {
          "base_uri": "https://localhost:8080/",
          "height": 385
        },
        "outputId": "9bc34475-3466-42df-9e89-6e1b730a0ba2"
      },
      "source": [
        "imgs = [no1[456,:,:],  no0[456,:,:]]\n",
        "for img in imgs:\n",
        "  plt.subplot(1,2,1)\n",
        "  plt.imshow(getHolePixels(img))\n",
        "  plt.subplot(1,2,2)\n",
        "  plt.imshow(img)\n",
        "  plt.show()"
      ],
      "execution_count": null,
      "outputs": [
        {
          "output_type": "display_data",
          "data": {
            "text/plain": [
              "<Figure size 432x288 with 2 Axes>"
            ],
            "image/png": "[encoded data removed]"
          },
          "metadata": {
            "needs_background": "light"
          }
        },
        {
          "output_type": "display_data",
          "data": {
            "text/plain": [
              "<Figure size 432x288 with 2 Axes>"
            ],
            "image/png": "[encoded data removed]"
          },
          "metadata": {
            "needs_background": "light"
          }
        }
      ]
    },
    {
      "cell_type": "markdown",
      "metadata": {
        "id": "vS-4erNXtxMi"
      },
      "source": [
        "Now let us plot the number of hole pixels and see how this feature behaves"
      ]
    },
    {
      "cell_type": "code",
      "metadata": {
        "id": "Dpm1dRgsety8",
        "colab": {
          "base_uri": "https://localhost:8080/",
          "height": 265
        },
        "outputId": "47d1b32c-2081-46bd-bc88-f4e91a999777"
      },
      "source": [
        "hole1 = np.array([getHolePixels(i).sum() for i in no1])\n",
        "hole0 = np.array([getHolePixels(i).sum() for i in no0])\n",
        "  \n",
        "plt.hist(hole1, alpha=0.7);\n",
        "plt.hist(hole0, alpha=0.7);"
      ],
      "execution_count": null,
      "outputs": [
        {
          "output_type": "display_data",
          "data": {
            "text/plain": [
              "<Figure size 432x288 with 1 Axes>"
            ],
            "image/png": "[encoded data removed]"
          },
          "metadata": {
            "needs_background": "light"
          }
        }
      ]
    },
    {
      "cell_type": "markdown",
      "metadata": {
        "id": "8UjCBHpJ31yq"
      },
      "source": [
        "This feature works even better to distinguish between one and zero. \n",
        "\n",
        "\n",
        "Now let us try the number of pixels in the 'hull' or the number with the holes filled in:"
      ]
    },
    {
      "cell_type": "markdown",
      "metadata": {
        "id": "OSzH26ElXNri"
      },
      "source": [
        "Let us try one more feature, where we look at the number of boundary pixels in each image."
      ]
    },
    {
      "cell_type": "code",
      "metadata": {
        "id": "h-2czBypXMwT"
      },
      "source": [
        "def minus(a, b):\n",
        "  return a & ~ b\n",
        "\n",
        "def getBoundaryPixels(img):\n",
        "  img = img.copy()>0  # binarize the image\n",
        "  rshift = np.roll(img, 1, 1)\n",
        "  lshift = np.roll(img, -1 ,1)\n",
        "  ushift = np.roll(img, -1, 0)\n",
        "  dshift = np.roll(img, 1, 0)\n",
        "  boundary = minus(img, rshift) | minus(img, lshift) | minus(img, ushift) | minus(img, dshift)\n",
        "  return boundary"
      ],
      "execution_count": null,
      "outputs": []
    },
    {
      "cell_type": "code",
      "metadata": {
        "id": "u-V688jFerXh",
        "colab": {
          "base_uri": "https://localhost:8080/",
          "height": 385
        },
        "outputId": "64c799af-b14b-438e-8582-87927564fc03"
      },
      "source": [
        "imgs = [no1[456,:,:],  no0[456,:,:]]\n",
        "for img in imgs:\n",
        "  plt.subplot(1,2,1)\n",
        "  plt.imshow(getBoundaryPixels(img))\n",
        "  plt.subplot(1,2,2)\n",
        "  plt.imshow(img)\n",
        "  plt.show()"
      ],
      "execution_count": null,
      "outputs": [
        {
          "output_type": "display_data",
          "data": {
            "text/plain": [
              "<Figure size 432x288 with 2 Axes>"
            ],
            "image/png": "[encoded data removed]"
          },
          "metadata": {
            "needs_background": "light"
          }
        },
        {
          "output_type": "display_data",
          "data": {
            "text/plain": [
              "<Figure size 432x288 with 2 Axes>"
            ],
            "image/png": "[encoded data removed]"
          },
          "metadata": {
            "needs_background": "light"
          }
        }
      ]
    },
    {
      "cell_type": "code",
      "metadata": {
        "id": "kSsxsbCNXcNh",
        "colab": {
          "base_uri": "https://localhost:8080/",
          "height": 265
        },
        "outputId": "c644cf7b-9ed2-431a-f2e5-90ad1b95f168"
      },
      "source": [
        "bound1 = np.array([getBoundaryPixels(i).sum() for i in no1])\n",
        "bound0= np.array([getBoundaryPixels(i).sum() for i in no0])\n",
        "\n",
        "plt.hist(bound1, alpha=0.7);\n",
        "plt.hist(bound0, alpha=0.7);"
      ],
      "execution_count": null,
      "outputs": [
        {
          "output_type": "display_data",
          "data": {
            "text/plain": [
              "<Figure size 432x288 with 1 Axes>"
            ],
            "image/png": "[encoded data removed]"
          },
          "metadata": {
            "needs_background": "light"
          }
        }
      ]
    },
    {
      "cell_type": "markdown",
      "metadata": {
        "id": "WuP04Ao_R0Yz"
      },
      "source": [
        "What will happen if we plot two features together? "
      ]
    },
    {
      "cell_type": "markdown",
      "metadata": {
        "id": "paDGHlFSd5Fu"
      },
      "source": [
        "Feel free to explore the above graph with your mouse. \n",
        "\n",
        "\n",
        "We have seen that we extracted four features from a 28*28 dimensional image.\n",
        "\n",
        "\n",
        "Some questions to explore:\n",
        "1. Which is the best combination of features?\n",
        "2. How would you test or visualize four or more features?\n",
        "3. Can you come up with your own features?\n",
        "4. Will these features work for different classes other than 0 and 1?\n",
        "5. What will happen if we take more that two classes at a time?"
      ]
    },
    {
      "cell_type": "markdown",
      "source": [
        "## Features from CSV file"
      ],
      "metadata": {
        "id": "gIJdT3tYIMyN"
      }
    },
    {
      "cell_type": "code",
      "source": [
        "import pandas as pd\n",
        "\n",
        "df = pd.read_csv('/content/sample_data/california_housing_train.csv')"
      ],
      "metadata": {
        "id": "SfR0jKjRI9fx"
      },
      "execution_count": null,
      "outputs": []
    },
    {
      "cell_type": "code",
      "source": [
        "df.head()\n"
      ],
      "metadata": {
        "colab": {
          "base_uri": "https://localhost:8080/",
          "height": 206
        },
        "id": "9VU02WsOJLs_",
        "outputId": "68bf431a-842d-4d10-8d9e-b407e9a79ce6"
      },
      "execution_count": null,
      "outputs": [
        {
          "output_type": "execute_result",
          "data": {
            "text/plain": [
              "   longitude  latitude  housing_median_age  total_rooms  total_bedrooms  \\\n",
              "0    -114.31     34.19                15.0       5612.0          1283.0   \n",
              "1    -114.47     34.40                19.0       7650.0          1901.0   \n",
              "2    -114.56     33.69                17.0        720.0           174.0   \n",
              "3    -114.57     33.64                14.0       1501.0           337.0   \n",
              "4    -114.57     33.57                20.0       1454.0           326.0   \n",
              "\n",
              "   population  households  median_income  median_house_value  \n",
              "0      1015.0       472.0         1.4936             66900.0  \n",
              "1      1129.0       463.0         1.8200             80100.0  \n",
              "2       333.0       117.0         1.6509             85700.0  \n",
              "3       515.0       226.0         3.1917             73400.0  \n",
              "4       624.0       262.0         1.9250             65500.0  "
            ],
            "text/html": [
              "\n",
              "  <div id=\"df-f14d2a44-f8f2-4677-933e-f4d80ab25e59\">\n",
              "    <div class=\"colab-df-container\">\n",
              "      <div>\n",
              "<style scoped>\n",
              "    .dataframe tbody tr th:only-of-type {\n",
              "        vertical-align: middle;\n",
              "    }\n",
              "\n",
              "    .dataframe tbody tr th {\n",
              "        vertical-align: top;\n",
              "    }\n",
              "\n",
              "    .dataframe thead th {\n",
              "        text-align: right;\n",
              "    }\n",
              "</style>\n",
              "<table border=\"1\" class=\"dataframe\">\n",
              "  <thead>\n",
              "    <tr style=\"text-align: right;\">\n",
              "      <th></th>\n",
              "      <th>longitude</th>\n",
              "      <th>latitude</th>\n",
              "      <th>housing_median_age</th>\n",
              "      <th>total_rooms</th>\n",
              "      <th>total_bedrooms</th>\n",
              "      <th>population</th>\n",
              "      <th>households</th>\n",
              "      <th>median_income</th>\n",
              "      <th>median_house_value</th>\n",
              "    </tr>\n",
              "  </thead>\n",
              "  <tbody>\n",
              "    <tr>\n",
              "      <th>0</th>\n",
              "      <td>-114.31</td>\n",
              "      <td>34.19</td>\n",
              "      <td>15.0</td>\n",
              "      <td>5612.0</td>\n",
              "      <td>1283.0</td>\n",
              "      <td>1015.0</td>\n",
              "      <td>472.0</td>\n",
              "      <td>1.4936</td>\n",
              "      <td>66900.0</td>\n",
              "    </tr>\n",
              "    <tr>\n",
              "      <th>1</th>\n",
              "      <td>-114.47</td>\n",
              "      <td>34.40</td>\n",
              "      <td>19.0</td>\n",
              "      <td>7650.0</td>\n",
              "      <td>1901.0</td>\n",
              "      <td>1129.0</td>\n",
              "      <td>463.0</td>\n",
              "      <td>1.8200</td>\n",
              "      <td>80100.0</td>\n",
              "    </tr>\n",
              "    <tr>\n",
              "      <th>2</th>\n",
              "      <td>-114.56</td>\n",
              "      <td>33.69</td>\n",
              "      <td>17.0</td>\n",
              "      <td>720.0</td>\n",
              "      <td>174.0</td>\n",
              "      <td>333.0</td>\n",
              "      <td>117.0</td>\n",
              "      <td>1.6509</td>\n",
              "      <td>85700.0</td>\n",
              "    </tr>\n",
              "    <tr>\n",
              "      <th>3</th>\n",
              "      <td>-114.57</td>\n",
              "      <td>33.64</td>\n",
              "      <td>14.0</td>\n",
              "      <td>1501.0</td>\n",
              "      <td>337.0</td>\n",
              "      <td>515.0</td>\n",
              "      <td>226.0</td>\n",
              "      <td>3.1917</td>\n",
              "      <td>73400.0</td>\n",
              "    </tr>\n",
              "    <tr>\n",
              "      <th>4</th>\n",
              "      <td>-114.57</td>\n",
              "      <td>33.57</td>\n",
              "      <td>20.0</td>\n",
              "      <td>1454.0</td>\n",
              "      <td>326.0</td>\n",
              "      <td>624.0</td>\n",
              "      <td>262.0</td>\n",
              "      <td>1.9250</td>\n",
              "      <td>65500.0</td>\n",
              "    </tr>\n",
              "  </tbody>\n",
              "</table>\n",
              "</div>\n",
              "      <button class=\"colab-df-convert\" onclick=\"convertToInteractive('df-f14d2a44-f8f2-4677-933e-f4d80ab25e59')\"\n",
              "              title=\"Convert this dataframe to an interactive table.\"\n",
              "              style=\"display:none;\">\n",
              "        \n",
              "  <svg xmlns=\"http://www.w3.org/2000/svg\" height=\"24px\"viewBox=\"0 0 24 24\"\n",
              "       width=\"24px\">\n",
              "    <path d=\"M0 0h24v24H0V0z\" fill=\"none\"/>\n",
              "    <path d=\"M18.56 5.44l.94 2.06.94-2.06 2.06-.94-2.06-.94-.94-2.06-.94 2.06-2.06.94zm-11 1L8.5 8.5l.94-2.06 2.06-.94-2.06-.94L8.5 2.5l-.94 2.06-2.06.94zm10 10l.94 2.06.94-2.06 2.06-.94-2.06-.94-.94-2.06-.94 2.06-2.06.94z\"/><path d=\"M17.41 7.96l-1.37-1.37c-.4-.4-.92-.59-1.43-.59-.52 0-1.04.2-1.43.59L10.3 9.45l-7.72 7.72c-.78.78-.78 2.05 0 2.83L4 21.41c.39.39.9.59 1.41.59.51 0 1.02-.2 1.41-.59l7.78-7.78 2.81-2.81c.8-.78.8-2.07 0-2.86zM5.41 20L4 18.59l7.72-7.72 1.47 1.35L5.41 20z\"/>\n",
              "  </svg>\n",
              "      </button>\n",
              "      \n",
              "  <style>\n",
              "    .colab-df-container {\n",
              "      display:flex;\n",
              "      flex-wrap:wrap;\n",
              "      gap: 12px;\n",
              "    }\n",
              "\n",
              "    .colab-df-convert {\n",
              "      background-color: #E8F0FE;\n",
              "      border: none;\n",
              "      border-radius: 50%;\n",
              "      cursor: pointer;\n",
              "      display: none;\n",
              "      fill: #1967D2;\n",
              "      height: 32px;\n",
              "      padding: 0 0 0 0;\n",
              "      width: 32px;\n",
              "    }\n",
              "\n",
              "    .colab-df-convert:hover {\n",
              "      background-color: #E2EBFA;\n",
              "      box-shadow: 0px 1px 2px rgba(60, 64, 67, 0.3), 0px 1px 3px 1px rgba(60, 64, 67, 0.15);\n",
              "      fill: #174EA6;\n",
              "    }\n",
              "\n",
              "    [theme=dark] .colab-df-convert {\n",
              "      background-color: #3B4455;\n",
              "      fill: #D2E3FC;\n",
              "    }\n",
              "\n",
              "    [theme=dark] .colab-df-convert:hover {\n",
              "      background-color: #434B5C;\n",
              "      box-shadow: 0px 1px 3px 1px rgba(0, 0, 0, 0.15);\n",
              "      filter: drop-shadow(0px 1px 2px rgba(0, 0, 0, 0.3));\n",
              "      fill: #FFFFFF;\n",
              "    }\n",
              "  </style>\n",
              "\n",
              "      <script>\n",
              "        const buttonEl =\n",
              "          document.querySelector('#df-f14d2a44-f8f2-4677-933e-f4d80ab25e59 button.colab-df-convert');\n",
              "        buttonEl.style.display =\n",
              "          google.colab.kernel.accessAllowed ? 'block' : 'none';\n",
              "\n",
              "        async function convertToInteractive(key) {\n",
              "          const element = document.querySelector('#df-f14d2a44-f8f2-4677-933e-f4d80ab25e59');\n",
              "          const dataTable =\n",
              "            await google.colab.kernel.invokeFunction('convertToInteractive',\n",
              "                                                     [key], {});\n",
              "          if (!dataTable) return;\n",
              "\n",
              "          const docLinkHtml = 'Like what you see? Visit the ' +\n",
              "            '<a target=\"_blank\" href=https://colab.research.google.com/notebooks/data_table.ipynb>data table notebook</a>'\n",
              "            + ' to learn more about interactive tables.';\n",
              "          element.innerHTML = '';\n",
              "          dataTable['output_type'] = 'display_data';\n",
              "          await google.colab.output.renderOutput(dataTable, element);\n",
              "          const docLink = document.createElement('div');\n",
              "          docLink.innerHTML = docLinkHtml;\n",
              "          element.appendChild(docLink);\n",
              "        }\n",
              "      </script>\n",
              "    </div>\n",
              "  </div>\n",
              "  "
            ]
          },
          "metadata": {},
          "execution_count": 28
        }
      ]
    },
    {
      "cell_type": "code",
      "source": [
        "df.columns\n"
      ],
      "metadata": {
        "colab": {
          "base_uri": "https://localhost:8080/"
        },
        "id": "XCeIl4kMJc59",
        "outputId": "c6ea2fd2-6129-4d29-e7be-3df5764d6e17"
      },
      "execution_count": null,
      "outputs": [
        {
          "output_type": "execute_result",
          "data": {
            "text/plain": [
              "Index(['longitude', 'latitude', 'housing_median_age', 'total_rooms',\n",
              "       'total_bedrooms', 'population', 'households', 'median_income',\n",
              "       'median_house_value'],\n",
              "      dtype='object')"
            ]
          },
          "metadata": {},
          "execution_count": 29
        }
      ]
    },
    {
      "cell_type": "code",
      "source": [
        "df = df.rename(columns={'longitude': 'newName1', 'oldName2': 'newName2'})\n",
        "df.columns"
      ],
      "metadata": {
        "id": "foQSY_tvJOua",
        "colab": {
          "base_uri": "https://localhost:8080/"
        },
        "outputId": "13f04876-fbc0-4816-f0c2-2ff48e56d5f3"
      },
      "execution_count": null,
      "outputs": [
        {
          "output_type": "execute_result",
          "data": {
            "text/plain": [
              "Index(['newName1', 'latitude', 'housing_median_age', 'total_rooms',\n",
              "       'total_bedrooms', 'population', 'households', 'median_income',\n",
              "       'median_house_value'],\n",
              "      dtype='object')"
            ]
          },
          "metadata": {},
          "execution_count": 31
        }
      ]
    },
    {
      "cell_type": "code",
      "source": [
        "import matplotlib.pyplot as plt\n",
        "import pandas as pd\n",
        "import seaborn as sns\n",
        "from mpl_toolkits.mplot3d import Axes3D\n",
        "\n",
        "\n",
        "sns.set(style = \"darkgrid\")\n",
        "\n",
        "fig = plt.figure()\n",
        "ax = fig.add_subplot(111, projection = '3d')\n",
        "\n",
        "x = df['total_bedrooms'][:50]\n",
        "y = df['housing_median_age'][:50]\n",
        "z = df['median_house_value'][:50]\n",
        "\n",
        "ax.set_xlabel(\"total_bedrooms\")\n",
        "ax.set_ylabel(\"housing_median_age\")\n",
        "ax.set_zlabel(\"median_house_value\")\n",
        "\n",
        "ax.scatter(x, y, z)\n",
        "\n",
        "plt.show()"
      ],
      "metadata": {
        "colab": {
          "base_uri": "https://localhost:8080/",
          "height": 248
        },
        "id": "LaSdj2-HItaG",
        "outputId": "bb4d8e15-0b0e-412b-ed56-ec2a8b5fe036"
      },
      "execution_count": null,
      "outputs": [
        {
          "output_type": "display_data",
          "data": {
            "text/plain": [
              "<Figure size 432x288 with 1 Axes>"
            ],
            "image/png": "[encoded data removed]"
          },
          "metadata": {}
        }
      ]
    },
    {
      "cell_type": "code",
      "source": [
        "## Task :\n",
        "## Download a CSV file from the internet, upload it to your google drive.\n",
        "## Read the CSV file and plot graphs using different combination of features and write your analysis\n",
        "## Ex : IRIS flower datasaet\n",
        "from google.colab import drive\n",
        "\n",
        "drive.mount('/content/gdrive')\n",
        "import pandas as pd\n",
        "\n",
        "ndf = pd.read_csv('/content/gdrive/MyDrive/appsheet/business-financial-data-june-2022-quarter-csv.csv')\n",
        "\n"
      ],
      "metadata": {
        "id": "vGGbRUz3J8Ju",
        "colab": {
          "base_uri": "https://localhost:8080/"
        },
        "outputId": "e125fbdf-fa4a-4912-c10d-ff657d74962f"
      },
      "execution_count": null,
      "outputs": [
        {
          "output_type": "stream",
          "name": "stdout",
          "text": [
            "Drive already mounted at /content/gdrive; to attempt to forcibly remount, call drive.mount(\"/content/gdrive\", force_remount=True).\n"
          ]
        }
      ]
    },
    {
      "cell_type": "code",
      "source": [
        "ndf.head()"
      ],
      "metadata": {
        "colab": {
          "base_uri": "https://localhost:8080/",
          "height": 704
        },
        "id": "qESWU7HtmI9m",
        "outputId": "25def383-65a5-479d-fccb-9bae5e237469"
      },
      "execution_count": null,
      "outputs": [
        {
          "output_type": "execute_result",
          "data": {
            "text/plain": [
              "  Series_reference   Period  Data_value Suppressed STATUS    UNITS  Magnitude  \\\n",
              "0    BDCQ.SF1AA2CA  2016.06    1116.386        NaN      F  Dollars          6   \n",
              "1    BDCQ.SF1AA2CA  2016.09    1070.874        NaN      F  Dollars          6   \n",
              "2    BDCQ.SF1AA2CA  2016.12    1054.408        NaN      F  Dollars          6   \n",
              "3    BDCQ.SF1AA2CA  2017.03    1010.665        NaN      F  Dollars          6   \n",
              "4    BDCQ.SF1AA2CA  2017.06    1233.700        NaN      F  Dollars          6   \n",
              "\n",
              "                          Subject  \\\n",
              "0  Business Data Collection - BDC   \n",
              "1  Business Data Collection - BDC   \n",
              "2  Business Data Collection - BDC   \n",
              "3  Business Data Collection - BDC   \n",
              "4  Business Data Collection - BDC   \n",
              "\n",
              "                                             Group            Series_title_1  \\\n",
              "0  Industry by financial variable (NZSIOC Level 2)  Sales (operating income)   \n",
              "1  Industry by financial variable (NZSIOC Level 2)  Sales (operating income)   \n",
              "2  Industry by financial variable (NZSIOC Level 2)  Sales (operating income)   \n",
              "3  Industry by financial variable (NZSIOC Level 2)  Sales (operating income)   \n",
              "4  Industry by financial variable (NZSIOC Level 2)  Sales (operating income)   \n",
              "\n",
              "         Series_title_2  Series_title_3 Series_title_4  Series_title_5  \n",
              "0  Forestry and Logging  Current prices     Unadjusted             NaN  \n",
              "1  Forestry and Logging  Current prices     Unadjusted             NaN  \n",
              "2  Forestry and Logging  Current prices     Unadjusted             NaN  \n",
              "3  Forestry and Logging  Current prices     Unadjusted             NaN  \n",
              "4  Forestry and Logging  Current prices     Unadjusted             NaN  "
            ],
            "text/html": [
              "\n",
              "  <div id=\"df-4dc96f5d-76d7-4b1e-bcaf-9b0761b6ca41\">\n",
              "    <div class=\"colab-df-container\">\n",
              "      <div>\n",
              "<style scoped>\n",
              "    .dataframe tbody tr th:only-of-type {\n",
              "        vertical-align: middle;\n",
              "    }\n",
              "\n",
              "    .dataframe tbody tr th {\n",
              "        vertical-align: top;\n",
              "    }\n",
              "\n",
              "    .dataframe thead th {\n",
              "        text-align: right;\n",
              "    }\n",
              "</style>\n",
              "<table border=\"1\" class=\"dataframe\">\n",
              "  <thead>\n",
              "    <tr style=\"text-align: right;\">\n",
              "      <th></th>\n",
              "      <th>Series_reference</th>\n",
              "      <th>Period</th>\n",
              "      <th>Data_value</th>\n",
              "      <th>Suppressed</th>\n",
              "      <th>STATUS</th>\n",
              "      <th>UNITS</th>\n",
              "      <th>Magnitude</th>\n",
              "      <th>Subject</th>\n",
              "      <th>Group</th>\n",
              "      <th>Series_title_1</th>\n",
              "      <th>Series_title_2</th>\n",
              "      <th>Series_title_3</th>\n",
              "      <th>Series_title_4</th>\n",
              "      <th>Series_title_5</th>\n",
              "    </tr>\n",
              "  </thead>\n",
              "  <tbody>\n",
              "    <tr>\n",
              "      <th>0</th>\n",
              "      <td>BDCQ.SF1AA2CA</td>\n",
              "      <td>2016.06</td>\n",
              "      <td>1116.386</td>\n",
              "      <td>NaN</td>\n",
              "      <td>F</td>\n",
              "      <td>Dollars</td>\n",
              "      <td>6</td>\n",
              "      <td>Business Data Collection - BDC</td>\n",
              "      <td>Industry by financial variable (NZSIOC Level 2)</td>\n",
              "      <td>Sales (operating income)</td>\n",
              "      <td>Forestry and Logging</td>\n",
              "      <td>Current prices</td>\n",
              "      <td>Unadjusted</td>\n",
              "      <td>NaN</td>\n",
              "    </tr>\n",
              "    <tr>\n",
              "      <th>1</th>\n",
              "      <td>BDCQ.SF1AA2CA</td>\n",
              "      <td>2016.09</td>\n",
              "      <td>1070.874</td>\n",
              "      <td>NaN</td>\n",
              "      <td>F</td>\n",
              "      <td>Dollars</td>\n",
              "      <td>6</td>\n",
              "      <td>Business Data Collection - BDC</td>\n",
              "      <td>Industry by financial variable (NZSIOC Level 2)</td>\n",
              "      <td>Sales (operating income)</td>\n",
              "      <td>Forestry and Logging</td>\n",
              "      <td>Current prices</td>\n",
              "      <td>Unadjusted</td>\n",
              "      <td>NaN</td>\n",
              "    </tr>\n",
              "    <tr>\n",
              "      <th>2</th>\n",
              "      <td>BDCQ.SF1AA2CA</td>\n",
              "      <td>2016.12</td>\n",
              "      <td>1054.408</td>\n",
              "      <td>NaN</td>\n",
              "      <td>F</td>\n",
              "      <td>Dollars</td>\n",
              "      <td>6</td>\n",
              "      <td>Business Data Collection - BDC</td>\n",
              "      <td>Industry by financial variable (NZSIOC Level 2)</td>\n",
              "      <td>Sales (operating income)</td>\n",
              "      <td>Forestry and Logging</td>\n",
              "      <td>Current prices</td>\n",
              "      <td>Unadjusted</td>\n",
              "      <td>NaN</td>\n",
              "    </tr>\n",
              "    <tr>\n",
              "      <th>3</th>\n",
              "      <td>BDCQ.SF1AA2CA</td>\n",
              "      <td>2017.03</td>\n",
              "      <td>1010.665</td>\n",
              "      <td>NaN</td>\n",
              "      <td>F</td>\n",
              "      <td>Dollars</td>\n",
              "      <td>6</td>\n",
              "      <td>Business Data Collection - BDC</td>\n",
              "      <td>Industry by financial variable (NZSIOC Level 2)</td>\n",
              "      <td>Sales (operating income)</td>\n",
              "      <td>Forestry and Logging</td>\n",
              "      <td>Current prices</td>\n",
              "      <td>Unadjusted</td>\n",
              "      <td>NaN</td>\n",
              "    </tr>\n",
              "    <tr>\n",
              "      <th>4</th>\n",
              "      <td>BDCQ.SF1AA2CA</td>\n",
              "      <td>2017.06</td>\n",
              "      <td>1233.700</td>\n",
              "      <td>NaN</td>\n",
              "      <td>F</td>\n",
              "      <td>Dollars</td>\n",
              "      <td>6</td>\n",
              "      <td>Business Data Collection - BDC</td>\n",
              "      <td>Industry by financial variable (NZSIOC Level 2)</td>\n",
              "      <td>Sales (operating income)</td>\n",
              "      <td>Forestry and Logging</td>\n",
              "      <td>Current prices</td>\n",
              "      <td>Unadjusted</td>\n",
              "      <td>NaN</td>\n",
              "    </tr>\n",
              "  </tbody>\n",
              "</table>\n",
              "</div>\n",
              "      <button class=\"colab-df-convert\" onclick=\"convertToInteractive('df-4dc96f5d-76d7-4b1e-bcaf-9b0761b6ca41')\"\n",
              "              title=\"Convert this dataframe to an interactive table.\"\n",
              "              style=\"display:none;\">\n",
              "        \n",
              "  <svg xmlns=\"http://www.w3.org/2000/svg\" height=\"24px\"viewBox=\"0 0 24 24\"\n",
              "       width=\"24px\">\n",
              "    <path d=\"M0 0h24v24H0V0z\" fill=\"none\"/>\n",
              "    <path d=\"M18.56 5.44l.94 2.06.94-2.06 2.06-.94-2.06-.94-.94-2.06-.94 2.06-2.06.94zm-11 1L8.5 8.5l.94-2.06 2.06-.94-2.06-.94L8.5 2.5l-.94 2.06-2.06.94zm10 10l.94 2.06.94-2.06 2.06-.94-2.06-.94-.94-2.06-.94 2.06-2.06.94z\"/><path d=\"M17.41 7.96l-1.37-1.37c-.4-.4-.92-.59-1.43-.59-.52 0-1.04.2-1.43.59L10.3 9.45l-7.72 7.72c-.78.78-.78 2.05 0 2.83L4 21.41c.39.39.9.59 1.41.59.51 0 1.02-.2 1.41-.59l7.78-7.78 2.81-2.81c.8-.78.8-2.07 0-2.86zM5.41 20L4 18.59l7.72-7.72 1.47 1.35L5.41 20z\"/>\n",
              "  </svg>\n",
              "      </button>\n",
              "      \n",
              "  <style>\n",
              "    .colab-df-container {\n",
              "      display:flex;\n",
              "      flex-wrap:wrap;\n",
              "      gap: 12px;\n",
              "    }\n",
              "\n",
              "    .colab-df-convert {\n",
              "      background-color: #E8F0FE;\n",
              "      border: none;\n",
              "      border-radius: 50%;\n",
              "      cursor: pointer;\n",
              "      display: none;\n",
              "      fill: #1967D2;\n",
              "      height: 32px;\n",
              "      padding: 0 0 0 0;\n",
              "      width: 32px;\n",
              "    }\n",
              "\n",
              "    .colab-df-convert:hover {\n",
              "      background-color: #E2EBFA;\n",
              "      box-shadow: 0px 1px 2px rgba(60, 64, 67, 0.3), 0px 1px 3px 1px rgba(60, 64, 67, 0.15);\n",
              "      fill: #174EA6;\n",
              "    }\n",
              "\n",
              "    [theme=dark] .colab-df-convert {\n",
              "      background-color: #3B4455;\n",
              "      fill: #D2E3FC;\n",
              "    }\n",
              "\n",
              "    [theme=dark] .colab-df-convert:hover {\n",
              "      background-color: #434B5C;\n",
              "      box-shadow: 0px 1px 3px 1px rgba(0, 0, 0, 0.15);\n",
              "      filter: drop-shadow(0px 1px 2px rgba(0, 0, 0, 0.3));\n",
              "      fill: #FFFFFF;\n",
              "    }\n",
              "  </style>\n",
              "\n",
              "      <script>\n",
              "        const buttonEl =\n",
              "          document.querySelector('#df-4dc96f5d-76d7-4b1e-bcaf-9b0761b6ca41 button.colab-df-convert');\n",
              "        buttonEl.style.display =\n",
              "          google.colab.kernel.accessAllowed ? 'block' : 'none';\n",
              "\n",
              "        async function convertToInteractive(key) {\n",
              "          const element = document.querySelector('#df-4dc96f5d-76d7-4b1e-bcaf-9b0761b6ca41');\n",
              "          const dataTable =\n",
              "            await google.colab.kernel.invokeFunction('convertToInteractive',\n",
              "                                                     [key], {});\n",
              "          if (!dataTable) return;\n",
              "\n",
              "          const docLinkHtml = 'Like what you see? Visit the ' +\n",
              "            '<a target=\"_blank\" href=https://colab.research.google.com/notebooks/data_table.ipynb>data table notebook</a>'\n",
              "            + ' to learn more about interactive tables.';\n",
              "          element.innerHTML = '';\n",
              "          dataTable['output_type'] = 'display_data';\n",
              "          await google.colab.output.renderOutput(dataTable, element);\n",
              "          const docLink = document.createElement('div');\n",
              "          docLink.innerHTML = docLinkHtml;\n",
              "          element.appendChild(docLink);\n",
              "        }\n",
              "      </script>\n",
              "    </div>\n",
              "  </div>\n",
              "  "
            ]
          },
          "metadata": {},
          "execution_count": 37
        }
      ]
    },
    {
      "cell_type": "code",
      "source": [
        "ndf.columns\n",
        "ndf=ndf.rename(columns={'Period':'PRD','Data_value':'DVL','Magnitude':'MGN'})\n",
        "ndf.head()"
      ],
      "metadata": {
        "colab": {
          "base_uri": "https://localhost:8080/",
          "height": 704
        },
        "id": "17BCR55qmSMp",
        "outputId": "7c03e887-4f6b-46c9-a24e-eef628c5a381"
      },
      "execution_count": null,
      "outputs": [
        {
          "output_type": "execute_result",
          "data": {
            "text/plain": [
              "  Series_reference      PRD       DVL Suppressed STATUS    UNITS  MGN  \\\n",
              "0    BDCQ.SF1AA2CA  2016.06  1116.386        NaN      F  Dollars    6   \n",
              "1    BDCQ.SF1AA2CA  2016.09  1070.874        NaN      F  Dollars    6   \n",
              "2    BDCQ.SF1AA2CA  2016.12  1054.408        NaN      F  Dollars    6   \n",
              "3    BDCQ.SF1AA2CA  2017.03  1010.665        NaN      F  Dollars    6   \n",
              "4    BDCQ.SF1AA2CA  2017.06  1233.700        NaN      F  Dollars    6   \n",
              "\n",
              "                          Subject  \\\n",
              "0  Business Data Collection - BDC   \n",
              "1  Business Data Collection - BDC   \n",
              "2  Business Data Collection - BDC   \n",
              "3  Business Data Collection - BDC   \n",
              "4  Business Data Collection - BDC   \n",
              "\n",
              "                                             Group            Series_title_1  \\\n",
              "0  Industry by financial variable (NZSIOC Level 2)  Sales (operating income)   \n",
              "1  Industry by financial variable (NZSIOC Level 2)  Sales (operating income)   \n",
              "2  Industry by financial variable (NZSIOC Level 2)  Sales (operating income)   \n",
              "3  Industry by financial variable (NZSIOC Level 2)  Sales (operating income)   \n",
              "4  Industry by financial variable (NZSIOC Level 2)  Sales (operating income)   \n",
              "\n",
              "         Series_title_2  Series_title_3 Series_title_4  Series_title_5  \n",
              "0  Forestry and Logging  Current prices     Unadjusted             NaN  \n",
              "1  Forestry and Logging  Current prices     Unadjusted             NaN  \n",
              "2  Forestry and Logging  Current prices     Unadjusted             NaN  \n",
              "3  Forestry and Logging  Current prices     Unadjusted             NaN  \n",
              "4  Forestry and Logging  Current prices     Unadjusted             NaN  "
            ],
            "text/html": [
              "\n",
              "  <div id=\"df-a183519a-e64e-4c21-99b8-be21d50cb580\">\n",
              "    <div class=\"colab-df-container\">\n",
              "      <div>\n",
              "<style scoped>\n",
              "    .dataframe tbody tr th:only-of-type {\n",
              "        vertical-align: middle;\n",
              "    }\n",
              "\n",
              "    .dataframe tbody tr th {\n",
              "        vertical-align: top;\n",
              "    }\n",
              "\n",
              "    .dataframe thead th {\n",
              "        text-align: right;\n",
              "    }\n",
              "</style>\n",
              "<table border=\"1\" class=\"dataframe\">\n",
              "  <thead>\n",
              "    <tr style=\"text-align: right;\">\n",
              "      <th></th>\n",
              "      <th>Series_reference</th>\n",
              "      <th>PRD</th>\n",
              "      <th>DVL</th>\n",
              "      <th>Suppressed</th>\n",
              "      <th>STATUS</th>\n",
              "      <th>UNITS</th>\n",
              "      <th>MGN</th>\n",
              "      <th>Subject</th>\n",
              "      <th>Group</th>\n",
              "      <th>Series_title_1</th>\n",
              "      <th>Series_title_2</th>\n",
              "      <th>Series_title_3</th>\n",
              "      <th>Series_title_4</th>\n",
              "      <th>Series_title_5</th>\n",
              "    </tr>\n",
              "  </thead>\n",
              "  <tbody>\n",
              "    <tr>\n",
              "      <th>0</th>\n",
              "      <td>BDCQ.SF1AA2CA</td>\n",
              "      <td>2016.06</td>\n",
              "      <td>1116.386</td>\n",
              "      <td>NaN</td>\n",
              "      <td>F</td>\n",
              "      <td>Dollars</td>\n",
              "      <td>6</td>\n",
              "      <td>Business Data Collection - BDC</td>\n",
              "      <td>Industry by financial variable (NZSIOC Level 2)</td>\n",
              "      <td>Sales (operating income)</td>\n",
              "      <td>Forestry and Logging</td>\n",
              "      <td>Current prices</td>\n",
              "      <td>Unadjusted</td>\n",
              "      <td>NaN</td>\n",
              "    </tr>\n",
              "    <tr>\n",
              "      <th>1</th>\n",
              "      <td>BDCQ.SF1AA2CA</td>\n",
              "      <td>2016.09</td>\n",
              "      <td>1070.874</td>\n",
              "      <td>NaN</td>\n",
              "      <td>F</td>\n",
              "      <td>Dollars</td>\n",
              "      <td>6</td>\n",
              "      <td>Business Data Collection - BDC</td>\n",
              "      <td>Industry by financial variable (NZSIOC Level 2)</td>\n",
              "      <td>Sales (operating income)</td>\n",
              "      <td>Forestry and Logging</td>\n",
              "      <td>Current prices</td>\n",
              "      <td>Unadjusted</td>\n",
              "      <td>NaN</td>\n",
              "    </tr>\n",
              "    <tr>\n",
              "      <th>2</th>\n",
              "      <td>BDCQ.SF1AA2CA</td>\n",
              "      <td>2016.12</td>\n",
              "      <td>1054.408</td>\n",
              "      <td>NaN</td>\n",
              "      <td>F</td>\n",
              "      <td>Dollars</td>\n",
              "      <td>6</td>\n",
              "      <td>Business Data Collection - BDC</td>\n",
              "      <td>Industry by financial variable (NZSIOC Level 2)</td>\n",
              "      <td>Sales (operating income)</td>\n",
              "      <td>Forestry and Logging</td>\n",
              "      <td>Current prices</td>\n",
              "      <td>Unadjusted</td>\n",
              "      <td>NaN</td>\n",
              "    </tr>\n",
              "    <tr>\n",
              "      <th>3</th>\n",
              "      <td>BDCQ.SF1AA2CA</td>\n",
              "      <td>2017.03</td>\n",
              "      <td>1010.665</td>\n",
              "      <td>NaN</td>\n",
              "      <td>F</td>\n",
              "      <td>Dollars</td>\n",
              "      <td>6</td>\n",
              "      <td>Business Data Collection - BDC</td>\n",
              "      <td>Industry by financial variable (NZSIOC Level 2)</td>\n",
              "      <td>Sales (operating income)</td>\n",
              "      <td>Forestry and Logging</td>\n",
              "      <td>Current prices</td>\n",
              "      <td>Unadjusted</td>\n",
              "      <td>NaN</td>\n",
              "    </tr>\n",
              "    <tr>\n",
              "      <th>4</th>\n",
              "      <td>BDCQ.SF1AA2CA</td>\n",
              "      <td>2017.06</td>\n",
              "      <td>1233.700</td>\n",
              "      <td>NaN</td>\n",
              "      <td>F</td>\n",
              "      <td>Dollars</td>\n",
              "      <td>6</td>\n",
              "      <td>Business Data Collection - BDC</td>\n",
              "      <td>Industry by financial variable (NZSIOC Level 2)</td>\n",
              "      <td>Sales (operating income)</td>\n",
              "      <td>Forestry and Logging</td>\n",
              "      <td>Current prices</td>\n",
              "      <td>Unadjusted</td>\n",
              "      <td>NaN</td>\n",
              "    </tr>\n",
              "  </tbody>\n",
              "</table>\n",
              "</div>\n",
              "      <button class=\"colab-df-convert\" onclick=\"convertToInteractive('df-a183519a-e64e-4c21-99b8-be21d50cb580')\"\n",
              "              title=\"Convert this dataframe to an interactive table.\"\n",
              "              style=\"display:none;\">\n",
              "        \n",
              "  <svg xmlns=\"http://www.w3.org/2000/svg\" height=\"24px\"viewBox=\"0 0 24 24\"\n",
              "       width=\"24px\">\n",
              "    <path d=\"M0 0h24v24H0V0z\" fill=\"none\"/>\n",
              "    <path d=\"M18.56 5.44l.94 2.06.94-2.06 2.06-.94-2.06-.94-.94-2.06-.94 2.06-2.06.94zm-11 1L8.5 8.5l.94-2.06 2.06-.94-2.06-.94L8.5 2.5l-.94 2.06-2.06.94zm10 10l.94 2.06.94-2.06 2.06-.94-2.06-.94-.94-2.06-.94 2.06-2.06.94z\"/><path d=\"M17.41 7.96l-1.37-1.37c-.4-.4-.92-.59-1.43-.59-.52 0-1.04.2-1.43.59L10.3 9.45l-7.72 7.72c-.78.78-.78 2.05 0 2.83L4 21.41c.39.39.9.59 1.41.59.51 0 1.02-.2 1.41-.59l7.78-7.78 2.81-2.81c.8-.78.8-2.07 0-2.86zM5.41 20L4 18.59l7.72-7.72 1.47 1.35L5.41 20z\"/>\n",
              "  </svg>\n",
              "      </button>\n",
              "      \n",
              "  <style>\n",
              "    .colab-df-container {\n",
              "      display:flex;\n",
              "      flex-wrap:wrap;\n",
              "      gap: 12px;\n",
              "    }\n",
              "\n",
              "    .colab-df-convert {\n",
              "      background-color: #E8F0FE;\n",
              "      border: none;\n",
              "      border-radius: 50%;\n",
              "      cursor: pointer;\n",
              "      display: none;\n",
              "      fill: #1967D2;\n",
              "      height: 32px;\n",
              "      padding: 0 0 0 0;\n",
              "      width: 32px;\n",
              "    }\n",
              "\n",
              "    .colab-df-convert:hover {\n",
              "      background-color: #E2EBFA;\n",
              "      box-shadow: 0px 1px 2px rgba(60, 64, 67, 0.3), 0px 1px 3px 1px rgba(60, 64, 67, 0.15);\n",
              "      fill: #174EA6;\n",
              "    }\n",
              "\n",
              "    [theme=dark] .colab-df-convert {\n",
              "      background-color: #3B4455;\n",
              "      fill: #D2E3FC;\n",
              "    }\n",
              "\n",
              "    [theme=dark] .colab-df-convert:hover {\n",
              "      background-color: #434B5C;\n",
              "      box-shadow: 0px 1px 3px 1px rgba(0, 0, 0, 0.15);\n",
              "      filter: drop-shadow(0px 1px 2px rgba(0, 0, 0, 0.3));\n",
              "      fill: #FFFFFF;\n",
              "    }\n",
              "  </style>\n",
              "\n",
              "      <script>\n",
              "        const buttonEl =\n",
              "          document.querySelector('#df-a183519a-e64e-4c21-99b8-be21d50cb580 button.colab-df-convert');\n",
              "        buttonEl.style.display =\n",
              "          google.colab.kernel.accessAllowed ? 'block' : 'none';\n",
              "\n",
              "        async function convertToInteractive(key) {\n",
              "          const element = document.querySelector('#df-a183519a-e64e-4c21-99b8-be21d50cb580');\n",
              "          const dataTable =\n",
              "            await google.colab.kernel.invokeFunction('convertToInteractive',\n",
              "                                                     [key], {});\n",
              "          if (!dataTable) return;\n",
              "\n",
              "          const docLinkHtml = 'Like what you see? Visit the ' +\n",
              "            '<a target=\"_blank\" href=https://colab.research.google.com/notebooks/data_table.ipynb>data table notebook</a>'\n",
              "            + ' to learn more about interactive tables.';\n",
              "          element.innerHTML = '';\n",
              "          dataTable['output_type'] = 'display_data';\n",
              "          await google.colab.output.renderOutput(dataTable, element);\n",
              "          const docLink = document.createElement('div');\n",
              "          docLink.innerHTML = docLinkHtml;\n",
              "          element.appendChild(docLink);\n",
              "        }\n",
              "      </script>\n",
              "    </div>\n",
              "  </div>\n",
              "  "
            ]
          },
          "metadata": {},
          "execution_count": 38
        }
      ]
    },
    {
      "cell_type": "code",
      "source": [
        "import matplotlib.pyplot as plt\n",
        "import pandas as pd\n",
        "import seaborn as sns\n",
        "from mpl_toolkits.mplot3d import Axes3D\n",
        "\n",
        "\n",
        "sns.set(style = \"ticks\")\n",
        "\n",
        "fig = plt.figure()\n",
        "ax = fig.add_subplot(1,2,1, projection = '3d')\n",
        "\n",
        "x = ndf['PRD'][:25]\n",
        "y = ndf['DVL'][:25]\n",
        "z = ndf['MGN'][:25]\n",
        "\n",
        "ax.set_xlabel(\"Total Period\")\n",
        "ax.set_ylabel(\"Data Value\")\n",
        "ax.set_zlabel(\"Magnitude\")\n",
        "\n",
        "ax.scatter(x, y, z)\n",
        "\n",
        "\n",
        "ax = fig.add_subplot(1,2,2, projection = '3d')\n",
        "x = ndf['PRD'][26:50]\n",
        "y = ndf['DVL'][26:50]\n",
        "z = ndf['MGN'][26:50]\n",
        "\n",
        "ax.set_xlabel(\"Total Period\")\n",
        "ax.set_ylabel(\"Data Value\")\n",
        "ax.set_zlabel(\"Magnitude\")\n",
        "\n",
        "ax.scatter(x, y, z)\n",
        "\n",
        "\n",
        "plt.show()"
      ],
      "metadata": {
        "colab": {
          "base_uri": "https://localhost:8080/",
          "height": 248
        },
        "id": "5VlcZWbxn_Sc",
        "outputId": "897ec455-c4fb-46cd-88ee-40cef765a5c4"
      },
      "execution_count": null,
      "outputs": [
        {
          "output_type": "display_data",
          "data": {
            "text/plain": [
              "<Figure size 432x288 with 2 Axes>"
            ],
            "image/png": "[encoded data removed]"
          },
          "metadata": {}
        }
      ]
    },
    {
      "cell_type": "markdown",
      "source": [
        "# IRIS dataset "
      ],
      "metadata": {
        "id": "HhXaPwIYGMkh"
      }
    },
    {
      "cell_type": "code",
      "source": [
        "from google.colab import drive\n",
        "\n",
        "drive.mount('/content/gdrive')\n",
        "import pandas as pd\n",
        "nndf = pd.read_csv('/content/gdrive/MyDrive/appsheet/Iris.csv')\n"
      ],
      "metadata": {
        "colab": {
          "base_uri": "https://localhost:8080/"
        },
        "id": "3rbxT0uXGLiI",
        "outputId": "9856bd8d-4636-4c24-bf2a-926858052943"
      },
      "execution_count": 11,
      "outputs": [
        {
          "output_type": "stream",
          "name": "stdout",
          "text": [
            "Drive already mounted at /content/gdrive; to attempt to forcibly remount, call drive.mount(\"/content/gdrive\", force_remount=True).\n"
          ]
        }
      ]
    },
    {
      "cell_type": "code",
      "source": [
        "nndf.head()"
      ],
      "metadata": {
        "colab": {
          "base_uri": "https://localhost:8080/",
          "height": 206
        },
        "id": "8wjhIiwRHCua",
        "outputId": "fa1415f0-c2b7-4aa8-a786-252bd23e7a41"
      },
      "execution_count": 12,
      "outputs": [
        {
          "output_type": "execute_result",
          "data": {
            "text/plain": [
              "   Id  SepalLengthCm  SepalWidthCm  PetalLengthCm  PetalWidthCm      Species\n",
              "0   1            5.1           3.5            1.4           0.2  Iris-setosa\n",
              "1   2            4.9           3.0            1.4           0.2  Iris-setosa\n",
              "2   3            4.7           3.2            1.3           0.2  Iris-setosa\n",
              "3   4            4.6           3.1            1.5           0.2  Iris-setosa\n",
              "4   5            5.0           3.6            1.4           0.2  Iris-setosa"
            ],
            "text/html": [
              "\n",
              "  <div id=\"df-e25679b3-0693-440c-a419-4041365afe11\">\n",
              "    <div class=\"colab-df-container\">\n",
              "      <div>\n",
              "<style scoped>\n",
              "    .dataframe tbody tr th:only-of-type {\n",
              "        vertical-align: middle;\n",
              "    }\n",
              "\n",
              "    .dataframe tbody tr th {\n",
              "        vertical-align: top;\n",
              "    }\n",
              "\n",
              "    .dataframe thead th {\n",
              "        text-align: right;\n",
              "    }\n",
              "</style>\n",
              "<table border=\"1\" class=\"dataframe\">\n",
              "  <thead>\n",
              "    <tr style=\"text-align: right;\">\n",
              "      <th></th>\n",
              "      <th>Id</th>\n",
              "      <th>SepalLengthCm</th>\n",
              "      <th>SepalWidthCm</th>\n",
              "      <th>PetalLengthCm</th>\n",
              "      <th>PetalWidthCm</th>\n",
              "      <th>Species</th>\n",
              "    </tr>\n",
              "  </thead>\n",
              "  <tbody>\n",
              "    <tr>\n",
              "      <th>0</th>\n",
              "      <td>1</td>\n",
              "      <td>5.1</td>\n",
              "      <td>3.5</td>\n",
              "      <td>1.4</td>\n",
              "      <td>0.2</td>\n",
              "      <td>Iris-setosa</td>\n",
              "    </tr>\n",
              "    <tr>\n",
              "      <th>1</th>\n",
              "      <td>2</td>\n",
              "      <td>4.9</td>\n",
              "      <td>3.0</td>\n",
              "      <td>1.4</td>\n",
              "      <td>0.2</td>\n",
              "      <td>Iris-setosa</td>\n",
              "    </tr>\n",
              "    <tr>\n",
              "      <th>2</th>\n",
              "      <td>3</td>\n",
              "      <td>4.7</td>\n",
              "      <td>3.2</td>\n",
              "      <td>1.3</td>\n",
              "      <td>0.2</td>\n",
              "      <td>Iris-setosa</td>\n",
              "    </tr>\n",
              "    <tr>\n",
              "      <th>3</th>\n",
              "      <td>4</td>\n",
              "      <td>4.6</td>\n",
              "      <td>3.1</td>\n",
              "      <td>1.5</td>\n",
              "      <td>0.2</td>\n",
              "      <td>Iris-setosa</td>\n",
              "    </tr>\n",
              "    <tr>\n",
              "      <th>4</th>\n",
              "      <td>5</td>\n",
              "      <td>5.0</td>\n",
              "      <td>3.6</td>\n",
              "      <td>1.4</td>\n",
              "      <td>0.2</td>\n",
              "      <td>Iris-setosa</td>\n",
              "    </tr>\n",
              "  </tbody>\n",
              "</table>\n",
              "</div>\n",
              "      <button class=\"colab-df-convert\" onclick=\"convertToInteractive('df-e25679b3-0693-440c-a419-4041365afe11')\"\n",
              "              title=\"Convert this dataframe to an interactive table.\"\n",
              "              style=\"display:none;\">\n",
              "        \n",
              "  <svg xmlns=\"http://www.w3.org/2000/svg\" height=\"24px\"viewBox=\"0 0 24 24\"\n",
              "       width=\"24px\">\n",
              "    <path d=\"M0 0h24v24H0V0z\" fill=\"none\"/>\n",
              "    <path d=\"M18.56 5.44l.94 2.06.94-2.06 2.06-.94-2.06-.94-.94-2.06-.94 2.06-2.06.94zm-11 1L8.5 8.5l.94-2.06 2.06-.94-2.06-.94L8.5 2.5l-.94 2.06-2.06.94zm10 10l.94 2.06.94-2.06 2.06-.94-2.06-.94-.94-2.06-.94 2.06-2.06.94z\"/><path d=\"M17.41 7.96l-1.37-1.37c-.4-.4-.92-.59-1.43-.59-.52 0-1.04.2-1.43.59L10.3 9.45l-7.72 7.72c-.78.78-.78 2.05 0 2.83L4 21.41c.39.39.9.59 1.41.59.51 0 1.02-.2 1.41-.59l7.78-7.78 2.81-2.81c.8-.78.8-2.07 0-2.86zM5.41 20L4 18.59l7.72-7.72 1.47 1.35L5.41 20z\"/>\n",
              "  </svg>\n",
              "      </button>\n",
              "      \n",
              "  <style>\n",
              "    .colab-df-container {\n",
              "      display:flex;\n",
              "      flex-wrap:wrap;\n",
              "      gap: 12px;\n",
              "    }\n",
              "\n",
              "    .colab-df-convert {\n",
              "      background-color: #E8F0FE;\n",
              "      border: none;\n",
              "      border-radius: 50%;\n",
              "      cursor: pointer;\n",
              "      display: none;\n",
              "      fill: #1967D2;\n",
              "      height: 32px;\n",
              "      padding: 0 0 0 0;\n",
              "      width: 32px;\n",
              "    }\n",
              "\n",
              "    .colab-df-convert:hover {\n",
              "      background-color: #E2EBFA;\n",
              "      box-shadow: 0px 1px 2px rgba(60, 64, 67, 0.3), 0px 1px 3px 1px rgba(60, 64, 67, 0.15);\n",
              "      fill: #174EA6;\n",
              "    }\n",
              "\n",
              "    [theme=dark] .colab-df-convert {\n",
              "      background-color: #3B4455;\n",
              "      fill: #D2E3FC;\n",
              "    }\n",
              "\n",
              "    [theme=dark] .colab-df-convert:hover {\n",
              "      background-color: #434B5C;\n",
              "      box-shadow: 0px 1px 3px 1px rgba(0, 0, 0, 0.15);\n",
              "      filter: drop-shadow(0px 1px 2px rgba(0, 0, 0, 0.3));\n",
              "      fill: #FFFFFF;\n",
              "    }\n",
              "  </style>\n",
              "\n",
              "      <script>\n",
              "        const buttonEl =\n",
              "          document.querySelector('#df-e25679b3-0693-440c-a419-4041365afe11 button.colab-df-convert');\n",
              "        buttonEl.style.display =\n",
              "          google.colab.kernel.accessAllowed ? 'block' : 'none';\n",
              "\n",
              "        async function convertToInteractive(key) {\n",
              "          const element = document.querySelector('#df-e25679b3-0693-440c-a419-4041365afe11');\n",
              "          const dataTable =\n",
              "            await google.colab.kernel.invokeFunction('convertToInteractive',\n",
              "                                                     [key], {});\n",
              "          if (!dataTable) return;\n",
              "\n",
              "          const docLinkHtml = 'Like what you see? Visit the ' +\n",
              "            '<a target=\"_blank\" href=https://colab.research.google.com/notebooks/data_table.ipynb>data table notebook</a>'\n",
              "            + ' to learn more about interactive tables.';\n",
              "          element.innerHTML = '';\n",
              "          dataTable['output_type'] = 'display_data';\n",
              "          await google.colab.output.renderOutput(dataTable, element);\n",
              "          const docLink = document.createElement('div');\n",
              "          docLink.innerHTML = docLinkHtml;\n",
              "          element.appendChild(docLink);\n",
              "        }\n",
              "      </script>\n",
              "    </div>\n",
              "  </div>\n",
              "  "
            ]
          },
          "metadata": {},
          "execution_count": 12
        }
      ]
    },
    {
      "cell_type": "code",
      "source": [
        "nndf.columns\n",
        "nndf=nndf.rename(columns={'SepalLengthCm':'Length_Sepal','SepalWidthCm':'Width_Sepal','PetalLengthCm':'Length_Petal','PetalWidthCm':'Width_Petal'})\n",
        "nndf.head()"
      ],
      "metadata": {
        "colab": {
          "base_uri": "https://localhost:8080/",
          "height": 206
        },
        "id": "B7TQGcOEHOTe",
        "outputId": "4d373b89-9559-49f6-bb85-d20667418e25"
      },
      "execution_count": 16,
      "outputs": [
        {
          "output_type": "execute_result",
          "data": {
            "text/plain": [
              "   Id  Length_Sepal  Width_Sepal  Length_Petal  Width_Petal      Species\n",
              "0   1           5.1          3.5           1.4          0.2  Iris-setosa\n",
              "1   2           4.9          3.0           1.4          0.2  Iris-setosa\n",
              "2   3           4.7          3.2           1.3          0.2  Iris-setosa\n",
              "3   4           4.6          3.1           1.5          0.2  Iris-setosa\n",
              "4   5           5.0          3.6           1.4          0.2  Iris-setosa"
            ],
            "text/html": [
              "\n",
              "  <div id=\"df-a94a39a4-e4e0-4ab8-bc0d-8071e1381aba\">\n",
              "    <div class=\"colab-df-container\">\n",
              "      <div>\n",
              "<style scoped>\n",
              "    .dataframe tbody tr th:only-of-type {\n",
              "        vertical-align: middle;\n",
              "    }\n",
              "\n",
              "    .dataframe tbody tr th {\n",
              "        vertical-align: top;\n",
              "    }\n",
              "\n",
              "    .dataframe thead th {\n",
              "        text-align: right;\n",
              "    }\n",
              "</style>\n",
              "<table border=\"1\" class=\"dataframe\">\n",
              "  <thead>\n",
              "    <tr style=\"text-align: right;\">\n",
              "      <th></th>\n",
              "      <th>Id</th>\n",
              "      <th>Length_Sepal</th>\n",
              "      <th>Width_Sepal</th>\n",
              "      <th>Length_Petal</th>\n",
              "      <th>Width_Petal</th>\n",
              "      <th>Species</th>\n",
              "    </tr>\n",
              "  </thead>\n",
              "  <tbody>\n",
              "    <tr>\n",
              "      <th>0</th>\n",
              "      <td>1</td>\n",
              "      <td>5.1</td>\n",
              "      <td>3.5</td>\n",
              "      <td>1.4</td>\n",
              "      <td>0.2</td>\n",
              "      <td>Iris-setosa</td>\n",
              "    </tr>\n",
              "    <tr>\n",
              "      <th>1</th>\n",
              "      <td>2</td>\n",
              "      <td>4.9</td>\n",
              "      <td>3.0</td>\n",
              "      <td>1.4</td>\n",
              "      <td>0.2</td>\n",
              "      <td>Iris-setosa</td>\n",
              "    </tr>\n",
              "    <tr>\n",
              "      <th>2</th>\n",
              "      <td>3</td>\n",
              "      <td>4.7</td>\n",
              "      <td>3.2</td>\n",
              "      <td>1.3</td>\n",
              "      <td>0.2</td>\n",
              "      <td>Iris-setosa</td>\n",
              "    </tr>\n",
              "    <tr>\n",
              "      <th>3</th>\n",
              "      <td>4</td>\n",
              "      <td>4.6</td>\n",
              "      <td>3.1</td>\n",
              "      <td>1.5</td>\n",
              "      <td>0.2</td>\n",
              "      <td>Iris-setosa</td>\n",
              "    </tr>\n",
              "    <tr>\n",
              "      <th>4</th>\n",
              "      <td>5</td>\n",
              "      <td>5.0</td>\n",
              "      <td>3.6</td>\n",
              "      <td>1.4</td>\n",
              "      <td>0.2</td>\n",
              "      <td>Iris-setosa</td>\n",
              "    </tr>\n",
              "  </tbody>\n",
              "</table>\n",
              "</div>\n",
              "      <button class=\"colab-df-convert\" onclick=\"convertToInteractive('df-a94a39a4-e4e0-4ab8-bc0d-8071e1381aba')\"\n",
              "              title=\"Convert this dataframe to an interactive table.\"\n",
              "              style=\"display:none;\">\n",
              "        \n",
              "  <svg xmlns=\"http://www.w3.org/2000/svg\" height=\"24px\"viewBox=\"0 0 24 24\"\n",
              "       width=\"24px\">\n",
              "    <path d=\"M0 0h24v24H0V0z\" fill=\"none\"/>\n",
              "    <path d=\"M18.56 5.44l.94 2.06.94-2.06 2.06-.94-2.06-.94-.94-2.06-.94 2.06-2.06.94zm-11 1L8.5 8.5l.94-2.06 2.06-.94-2.06-.94L8.5 2.5l-.94 2.06-2.06.94zm10 10l.94 2.06.94-2.06 2.06-.94-2.06-.94-.94-2.06-.94 2.06-2.06.94z\"/><path d=\"M17.41 7.96l-1.37-1.37c-.4-.4-.92-.59-1.43-.59-.52 0-1.04.2-1.43.59L10.3 9.45l-7.72 7.72c-.78.78-.78 2.05 0 2.83L4 21.41c.39.39.9.59 1.41.59.51 0 1.02-.2 1.41-.59l7.78-7.78 2.81-2.81c.8-.78.8-2.07 0-2.86zM5.41 20L4 18.59l7.72-7.72 1.47 1.35L5.41 20z\"/>\n",
              "  </svg>\n",
              "      </button>\n",
              "      \n",
              "  <style>\n",
              "    .colab-df-container {\n",
              "      display:flex;\n",
              "      flex-wrap:wrap;\n",
              "      gap: 12px;\n",
              "    }\n",
              "\n",
              "    .colab-df-convert {\n",
              "      background-color: #E8F0FE;\n",
              "      border: none;\n",
              "      border-radius: 50%;\n",
              "      cursor: pointer;\n",
              "      display: none;\n",
              "      fill: #1967D2;\n",
              "      height: 32px;\n",
              "      padding: 0 0 0 0;\n",
              "      width: 32px;\n",
              "    }\n",
              "\n",
              "    .colab-df-convert:hover {\n",
              "      background-color: #E2EBFA;\n",
              "      box-shadow: 0px 1px 2px rgba(60, 64, 67, 0.3), 0px 1px 3px 1px rgba(60, 64, 67, 0.15);\n",
              "      fill: #174EA6;\n",
              "    }\n",
              "\n",
              "    [theme=dark] .colab-df-convert {\n",
              "      background-color: #3B4455;\n",
              "      fill: #D2E3FC;\n",
              "    }\n",
              "\n",
              "    [theme=dark] .colab-df-convert:hover {\n",
              "      background-color: #434B5C;\n",
              "      box-shadow: 0px 1px 3px 1px rgba(0, 0, 0, 0.15);\n",
              "      filter: drop-shadow(0px 1px 2px rgba(0, 0, 0, 0.3));\n",
              "      fill: #FFFFFF;\n",
              "    }\n",
              "  </style>\n",
              "\n",
              "      <script>\n",
              "        const buttonEl =\n",
              "          document.querySelector('#df-a94a39a4-e4e0-4ab8-bc0d-8071e1381aba button.colab-df-convert');\n",
              "        buttonEl.style.display =\n",
              "          google.colab.kernel.accessAllowed ? 'block' : 'none';\n",
              "\n",
              "        async function convertToInteractive(key) {\n",
              "          const element = document.querySelector('#df-a94a39a4-e4e0-4ab8-bc0d-8071e1381aba');\n",
              "          const dataTable =\n",
              "            await google.colab.kernel.invokeFunction('convertToInteractive',\n",
              "                                                     [key], {});\n",
              "          if (!dataTable) return;\n",
              "\n",
              "          const docLinkHtml = 'Like what you see? Visit the ' +\n",
              "            '<a target=\"_blank\" href=https://colab.research.google.com/notebooks/data_table.ipynb>data table notebook</a>'\n",
              "            + ' to learn more about interactive tables.';\n",
              "          element.innerHTML = '';\n",
              "          dataTable['output_type'] = 'display_data';\n",
              "          await google.colab.output.renderOutput(dataTable, element);\n",
              "          const docLink = document.createElement('div');\n",
              "          docLink.innerHTML = docLinkHtml;\n",
              "          element.appendChild(docLink);\n",
              "        }\n",
              "      </script>\n",
              "    </div>\n",
              "  </div>\n",
              "  "
            ]
          },
          "metadata": {},
          "execution_count": 16
        }
      ]
    },
    {
      "cell_type": "code",
      "source": [
        "import matplotlib.pyplot as plt\n",
        "import pandas as pd\n",
        "import seaborn as sns\n",
        "from mpl_toolkits.mplot3d import Axes3D\n",
        "\n",
        "\n",
        "sns.set(style = \"darkgrid\")\n",
        "\n",
        "fig = plt.figure(figsize=(22.0,4.5))\n",
        "\n",
        "ax = fig.add_subplot(1,4,1, projection = '3d')\n",
        "\n",
        "x = nndf['Length_Sepal'][:150]\n",
        "y = nndf['Length_Petal'][:150]\n",
        "z = nndf['Id'][:150]\n",
        "\n",
        "ax.set_title(\"1st\")\n",
        "ax.set_xlabel(\"Length Sepal\")\n",
        "ax.set_ylabel(\"Length Petal\")\n",
        "ax.set_zlabel(\"ID\")\n",
        "\n",
        "ax.scatter(x, y, z)\n",
        "\n",
        "\n",
        "ax = fig.add_subplot(1,4,2, projection = '3d')\n",
        "x = nndf['Width_Sepal'][:150]\n",
        "y = nndf['Width_Petal'][:150]\n",
        "z = nndf['Id'][:150]\n",
        "\n",
        "ax.set_title(\"2nd\")\n",
        "ax.set_xlabel(\"Width Sepal\")\n",
        "ax.set_ylabel(\"Width Petal\")\n",
        "ax.set_zlabel(\"ID\")\n",
        "\n",
        "ax.scatter(x, y, z)\n",
        "\n",
        "\n",
        "ax = fig.add_subplot(1,4,3, projection = '3d')\n",
        "\n",
        "x = nndf['Width_Sepal'][:150]\n",
        "y = nndf['Length_Sepal'][:150]\n",
        "z = nndf['Id'][:150]\n",
        "\n",
        "ax.set_title(\"3rd\")\n",
        "ax.set_xlabel(\"Width_Sepal\")\n",
        "ax.set_ylabel(\"Length_Sepal\")\n",
        "ax.set_zlabel(\"ID\")\n",
        "\n",
        "ax.scatter(x, y, z)\n",
        "\n",
        "\n",
        "ax = fig.add_subplot(1,4,4, projection = '3d')\n",
        "x = nndf['Width_Petal'][:150]\n",
        "y = nndf['Length_Petal'][:150]\n",
        "z = nndf['Id'][:150]\n",
        "ax.set_title(\"4th\")\n",
        "ax.set_xlabel(\"Width Petal\")\n",
        "ax.set_ylabel(\"Length Petal\")\n",
        "ax.set_zlabel(\"ID\")\n",
        "\n",
        "ax.scatter(x, y, z)\n",
        "\n",
        "\n",
        "plt.show()"
      ],
      "metadata": {
        "colab": {
          "base_uri": "https://localhost:8080/",
          "height": 276
        },
        "id": "LTMb9zGjH1k6",
        "outputId": "9fb314b7-f852-4218-def8-55e70baf879c"
      },
      "execution_count": 24,
      "outputs": [
        {
          "output_type": "display_data",
          "data": {
            "text/plain": [
              "<Figure size 1584x324 with 4 Axes>"
            ],
            "image/png": "[encoded data removed]"
          },
          "metadata": {}
        }
      ]
    },
    {
      "cell_type": "markdown",
      "source": [
        "## Augmentation\n",
        "It is a technique to increase the diversity of our training set by applying random (but realistic) transformations, such as image rotation, change of color etc. When we have limited training data, we can augment our data with help of these techniques."
      ],
      "metadata": {
        "id": "UEjCCSQh1d7A"
      }
    },
    {
      "cell_type": "code",
      "source": [
        "import numpy as np\n",
        "import matplotlib.pyplot as plt\n",
        "from keras.datasets import mnist\n",
        "# set randomseed\n",
        "rng = np.random.default_rng(seed=42)\n",
        "from sklearn.utils.extmath import cartesian\n",
        "from skimage.transform import rotate, AffineTransform, warp\n",
        "import math"
      ],
      "metadata": {
        "id": "XePcTeKI1dGJ"
      },
      "execution_count": null,
      "outputs": []
    },
    {
      "cell_type": "markdown",
      "source": [
        "For this lab we will use a subset of MNIST that is very small, to better understand the effect of augmentation."
      ],
      "metadata": {
        "id": "ZP0Z3oOT2Vqo"
      }
    },
    {
      "cell_type": "code",
      "source": [
        "#loading the dataset\n",
        "(train_X, train_y), (test_X, test_y) = mnist.load_data()\n",
        "train_X = train_X/255\n",
        "test_X = test_X/255\n",
        "\n",
        "print(\"original data size:\",train_X.shape)\n"
      ],
      "metadata": {
        "colab": {
          "base_uri": "https://localhost:8080/"
        },
        "id": "7miTQ_032Rxv",
        "outputId": "035e4be7-1895-46a3-e602-70dbaec67f6b"
      },
      "execution_count": null,
      "outputs": [
        {
          "output_type": "stream",
          "name": "stdout",
          "text": [
            "original data size: (60000, 28, 28)\n"
          ]
        }
      ]
    },
    {
      "cell_type": "code",
      "source": [
        "print(train_X[0].shape,train_y[0])"
      ],
      "metadata": {
        "colab": {
          "base_uri": "https://localhost:8080/"
        },
        "id": "79iYoK4a2Y8w",
        "outputId": "8bcf050d-a6b9-4832-a0e1-c29256da772d"
      },
      "execution_count": null,
      "outputs": [
        {
          "output_type": "stream",
          "name": "stdout",
          "text": [
            "(28, 28) 5\n"
          ]
        }
      ]
    },
    {
      "cell_type": "code",
      "source": [
        "plt.imshow(train_X[0])"
      ],
      "metadata": {
        "colab": {
          "base_uri": "https://localhost:8080/",
          "height": 282
        },
        "id": "F-ne2Jrl6R3-",
        "outputId": "4ecb5a09-c05c-441d-bb7d-62b78c64d820"
      },
      "execution_count": null,
      "outputs": [
        {
          "output_type": "execute_result",
          "data": {
            "text/plain": [
              "<matplotlib.image.AxesImage at 0x7febaa90ab50>"
            ]
          },
          "metadata": {},
          "execution_count": 7
        },
        {
          "output_type": "display_data",
          "data": {
            "text/plain": [
              "<Figure size 432x288 with 1 Axes>"
            ],
            "image/png": "[encoded data removed]"
          },
          "metadata": {
            "needs_background": "light"
          }
        }
      ]
    },
    {
      "cell_type": "code",
      "source": [
        "train_X = train_X[::1200,:,:].copy() # subsample. Otherwise it will take too long!\n",
        "train_y = train_y[::1200].copy() # do the same to the labels\n",
        "\n",
        "print(\"Now it is:\", train_X.shape)"
      ],
      "metadata": {
        "colab": {
          "base_uri": "https://localhost:8080/"
        },
        "id": "g3YMYR2L6VqQ",
        "outputId": "cdc6e2c7-30c0-40a7-808c-da85f0fb28b0"
      },
      "execution_count": null,
      "outputs": [
        {
          "output_type": "stream",
          "name": "stdout",
          "text": [
            "Now it is: (50, 28, 28)\n"
          ]
        }
      ]
    },
    {
      "cell_type": "markdown",
      "source": [
        "Augmentation 1: rotation\n",
        "Let us try rotating the image a little. We will use skimage library for this."
      ],
      "metadata": {
        "id": "JgN85vRl6847"
      }
    },
    {
      "cell_type": "code",
      "source": [
        "plt.imshow(train_X[2], cmap='gray')\n",
        "plt.show()\n",
        "print(train_X[2].shape)\n",
        "plt.imshow(rotate(train_X[2],45), cmap='gray')"
      ],
      "metadata": {
        "colab": {
          "base_uri": "https://localhost:8080/",
          "height": 548
        },
        "id": "jStJv7xG6cNI",
        "outputId": "f5ce0007-6a3d-4cd5-91ae-567f30abada6"
      },
      "execution_count": null,
      "outputs": [
        {
          "output_type": "display_data",
          "data": {
            "text/plain": [
              "<Figure size 432x288 with 1 Axes>"
            ],
            "image/png": "[encoded data removed]"
          },
          "metadata": {
            "needs_background": "light"
          }
        },
        {
          "output_type": "stream",
          "name": "stdout",
          "text": [
            "(28, 28)\n"
          ]
        },
        {
          "output_type": "execute_result",
          "data": {
            "text/plain": [
              "<matplotlib.image.AxesImage at 0x7febaa30d650>"
            ]
          },
          "metadata": {},
          "execution_count": 12
        },
        {
          "output_type": "display_data",
          "data": {
            "text/plain": [
              "<Figure size 432x288 with 1 Axes>"
            ],
            "image/png": "[encoded data removed]"
          },
          "metadata": {
            "needs_background": "light"
          }
        }
      ]
    },
    {
      "cell_type": "markdown",
      "source": [
        "After rotating, the the class of the image is still the same. Let us make a function to rotate multiple images by random angles. We want a slightly different image every time we run this function. So, we generate a random number between 0 and 1 and change it so that it lies between -constraint/2 and +constraint/2"
      ],
      "metadata": {
        "id": "phr4sXEb94Q8"
      }
    },
    {
      "cell_type": "code",
      "source": [
        "def augRotate(sample, angleconstraint):\n",
        "  if angleconstraint==0:\n",
        "    return sample\n",
        "\n",
        "  print(\"shape of sample before is:\", sample.shape)\n",
        "  print(\"len(sample.shape)\", len(sample.shape))\n",
        "  if len(sample.shape)==2:\n",
        "    sample = np.expand_dims(sample, 0)  # make sure the sample is 3 dimensional\n",
        "    print(\"shape of sample is:\", sample.shape)\n",
        "  angle = rng.random(len(sample)) # generate random numbers for angles\n",
        "  print(\"angle is:\", angle)\n",
        "  angle = (angle-0.5)*angleconstraint # make the random angle constrained\n",
        "  print(\"angle with constraint is:\", angle)\n",
        "  nsample = sample.copy() # preallocate the augmented array to make it faster\n",
        "  for ii in range(len(sample)):\n",
        "    nsample[ii] = rotate(sample[ii], angle[ii])\n",
        "  return np.squeeze(nsample) # take care if the input had only one sample."
      ],
      "metadata": {
        "id": "B3ai_7aN7Csn"
      },
      "execution_count": null,
      "outputs": []
    },
    {
      "cell_type": "markdown",
      "source": [
        "This function returns a slightly different image each time we call it. So we can increase the number of images in the sample by any multiple. "
      ],
      "metadata": {
        "id": "udOWwYj2-Bsy"
      }
    },
    {
      "cell_type": "code",
      "source": [
        "sample = train_X[20]\n",
        "angleconstraint = 70\n",
        "# show the original image\n",
        "plt.imshow(sample, cmap='gray')\n",
        "plt.show()\n",
        "plt.subplot(1,3,1)\n",
        "plt.imshow(augRotate(sample, angleconstraint), cmap='gray') # show an augmented image\n",
        "plt.subplot(1,3,2)\n",
        "plt.imshow(augRotate(sample, angleconstraint), cmap='gray') # show another augmented image from the same sample\n",
        "plt.subplot(1,3,3)\n",
        "plt.imshow(augRotate(sample, angleconstraint), cmap='gray') # one more image from the same sample"
      ],
      "metadata": {
        "colab": {
          "base_uri": "https://localhost:8080/",
          "height": 675
        },
        "id": "vyO8Ap9-98LZ",
        "outputId": "a173fb2f-7453-4e4b-b4f4-4415eef2a254"
      },
      "execution_count": null,
      "outputs": [
        {
          "output_type": "display_data",
          "data": {
            "text/plain": [
              "<Figure size 432x288 with 1 Axes>"
            ],
            "image/png": "[encoded data removed]"
          },
          "metadata": {
            "needs_background": "light"
          }
        },
        {
          "output_type": "stream",
          "name": "stdout",
          "text": [
            "shape of sample before is: (28, 28)\n",
            "len(sample.shape) 2\n",
            "shape of sample is: (1, 28, 28)\n",
            "angle is: [0.77395605]\n",
            "angle with constraint is: [19.1769234]\n",
            "shape of sample before is: (28, 28)\n",
            "len(sample.shape) 2\n",
            "shape of sample is: (1, 28, 28)\n",
            "angle is: [0.43887844]\n",
            "angle with constraint is: [-4.27850922]\n",
            "shape of sample before is: (28, 28)\n",
            "len(sample.shape) 2\n",
            "shape of sample is: (1, 28, 28)\n",
            "angle is: [0.85859792]\n",
            "angle with constraint is: [25.10185439]\n"
          ]
        },
        {
          "output_type": "execute_result",
          "data": {
            "text/plain": [
              "<matplotlib.image.AxesImage at 0x7febaa1d8f10>"
            ]
          },
          "metadata": {},
          "execution_count": 14
        },
        {
          "output_type": "display_data",
          "data": {
            "text/plain": [
              "<Figure size 432x288 with 3 Axes>"
            ],
            "image/png": "[encoded data removed]"
          },
          "metadata": {
            "needs_background": "light"
          }
        }
      ]
    },
    {
      "cell_type": "markdown",
      "source": [
        "Let us try one more augmentation, Shear: A transformation in which all points along a given line remain fixed while other points are shifted parallel to by a \n",
        " distance proportional to their perpendicular distance from. Shearing a plane figure does not change its area. "
      ],
      "metadata": {
        "id": "siEhyuX0AyZP"
      }
    },
    {
      "cell_type": "code",
      "source": [
        "def shear(sample, amount):\n",
        "  tform = AffineTransform(shear = amount) # create the shear transform\n",
        "  img = warp(sample, tform) # apply the shear\n",
        "  # this makes the digit off-center. Since all the images in the test set are centralized, we will do the same here\n",
        "  col = img.sum(0).nonzero()[0]\n",
        "  row = img.sum(1).nonzero()[0]\n",
        "  if len(col)>0 and len(row)>0:\n",
        "    xshift = int(sample.shape[0]/2 - (row[0]+row[-1])/2)\n",
        "    yshift = int(sample.shape[1]/2 - (col[0]+col[-1])/2)\n",
        "    img = np.roll(img, (xshift, yshift),(0,1))\n",
        "  return img"
      ],
      "metadata": {
        "id": "46nKQ_Qj-Elg"
      },
      "execution_count": null,
      "outputs": []
    },
    {
      "cell_type": "code",
      "source": [
        "sample = train_X[2]\n",
        "plt.imshow(sample, cmap='gray')\n",
        "plt.show()\n",
        "\n",
        "# apply shear\n",
        "plt.imshow(shear(sample, 0.4), cmap='gray')"
      ],
      "metadata": {
        "colab": {
          "base_uri": "https://localhost:8080/",
          "height": 530
        },
        "id": "Zae7PZcUBDt8",
        "outputId": "931bd37b-99e1-4618-be3f-ac43daafa7da"
      },
      "execution_count": null,
      "outputs": [
        {
          "output_type": "display_data",
          "data": {
            "text/plain": [
              "<Figure size 432x288 with 1 Axes>"
            ],
            "image/png": "[encoded data removed]"
          },
          "metadata": {
            "needs_background": "light"
          }
        },
        {
          "output_type": "execute_result",
          "data": {
            "text/plain": [
              "<matplotlib.image.AxesImage at 0x7febaa0c5fd0>"
            ]
          },
          "metadata": {},
          "execution_count": 16
        },
        {
          "output_type": "display_data",
          "data": {
            "text/plain": [
              "<Figure size 432x288 with 1 Axes>"
            ],
            "image/png": "[encoded data removed]"
          },
          "metadata": {
            "needs_background": "light"
          }
        }
      ]
    },
    {
      "cell_type": "markdown",
      "source": [
        "## Let us also see skeletonization of image"
      ],
      "metadata": {
        "id": "4NglWyeSDtxr"
      }
    },
    {
      "cell_type": "code",
      "source": [
        "from skimage.morphology import skeletonize\n"
      ],
      "metadata": {
        "id": "XQMsvuD5BITy"
      },
      "execution_count": null,
      "outputs": []
    },
    {
      "cell_type": "code",
      "source": [
        "skeleton = skeletonize(train_X[2],method='lee')\n",
        "plt.imshow(skeleton, cmap='gray')"
      ],
      "metadata": {
        "colab": {
          "base_uri": "https://localhost:8080/",
          "height": 282
        },
        "id": "ze1kf_0BD0YP",
        "outputId": "ad180e21-efbc-45d7-ffdc-f26ac13a326f"
      },
      "execution_count": null,
      "outputs": [
        {
          "output_type": "execute_result",
          "data": {
            "text/plain": [
              "<matplotlib.image.AxesImage at 0x7feba4961e90>"
            ]
          },
          "metadata": {},
          "execution_count": 26
        },
        {
          "output_type": "display_data",
          "data": {
            "text/plain": [
              "<Figure size 432x288 with 1 Axes>"
            ],
            "image/png": "[encoded data removed]"
          },
          "metadata": {
            "needs_background": "light"
          }
        }
      ]
    },
    {
      "cell_type": "code",
      "source": [
        "#Structuring elements that are repeatedly used for thinning\n",
        "\n",
        "S1 = np.array([[0,0,0],[-1,1,-1],[1,1,1]]) # -1 for dont care\n",
        "S2 = np.array([[-1,0,0],[1,1,0],[-1,1,-1]])\n",
        "\n",
        "\n",
        "def CheckMatch(window,kernel):\n",
        "  for i in range(window.shape[0]):\n",
        "        for j in range(window.shape[1]):\n",
        "            if kernel[i,j]!=-1 and window[i,j]!=kernel[i,j]:\n",
        "                return False\n",
        "  return True\n",
        "\n",
        "def ApplyKernel(image,kernel): #used\n",
        "  height, width =  image.shape\n",
        "  res = np.copy(image)\n",
        "  for i in range(1,height-1):\n",
        "    for j in range (1,width-1):\n",
        "      window = image[i-1:i+2,j-1:j+2]\n",
        "      #print('window shape',window.shape)\n",
        "      Match_result = CheckMatch(window,kernel)\n",
        "      if (Match_result):\n",
        "        res[i,j]=0\n",
        "  return res\n",
        "\n",
        "\n",
        "\n",
        "def Skeletonization(image):\n",
        "  '''pass binary image'''\n",
        "  #new = np.copy(image)\n",
        "  #old = np.zeros(image.shape,dtype=np.uint8)\n",
        "  count = 1\n",
        "  change = 1000\n",
        "  while (change >0.01):\n",
        "    print('count',count)\n",
        "    new = image\n",
        "    new = ApplyKernel(new,S1)\n",
        "    new = ApplyKernel(new,S2)\n",
        "    new = ApplyKernel(new,np.rot90(S1,1)) #90 degree rotate\n",
        "    new = ApplyKernel(new,np.rot90(S2,1))\n",
        "    new = ApplyKernel(new,np.rot90(S1,2)) # 180 degree rotate\n",
        "    new = ApplyKernel(new,np.rot90(S2,2))\n",
        "    new = ApplyKernel(new,np.rot90(S1,3)) # 270 degree rotate\n",
        "    new = ApplyKernel(new,np.rot90(S2,3))\n",
        "    count+= 1\n",
        "    change = np.mean(np.abs(new-image))\n",
        "    image = new\n",
        "    plt.imshow(new,cmap='gray')\n",
        "    plt.show()\n",
        "  return new"
      ],
      "metadata": {
        "id": "ewpZG5b-D9F3"
      },
      "execution_count": null,
      "outputs": []
    },
    {
      "cell_type": "code",
      "source": [
        "binarized  =( train_X[0] > 0 ).astype(np.uint8)"
      ],
      "metadata": {
        "id": "LwgK5XObNcjD"
      },
      "execution_count": null,
      "outputs": []
    },
    {
      "cell_type": "code",
      "source": [
        "skeleton_five = Skeletonization(binarized)"
      ],
      "metadata": {
        "colab": {
          "base_uri": "https://localhost:8080/",
          "height": 1000
        },
        "id": "oyQrnHghLADQ",
        "outputId": "3c488947-757e-467a-9af9-84fb749c2ca8"
      },
      "execution_count": null,
      "outputs": [
        {
          "output_type": "stream",
          "name": "stdout",
          "text": [
            "count 1\n"
          ]
        },
        {
          "output_type": "display_data",
          "data": {
            "text/plain": [
              "<Figure size 432x288 with 1 Axes>"
            ],
            "image/png": "[encoded data removed]"
          },
          "metadata": {
            "needs_background": "light"
          }
        },
        {
          "output_type": "stream",
          "name": "stdout",
          "text": [
            "count 2\n"
          ]
        },
        {
          "output_type": "display_data",
          "data": {
            "text/plain": [
              "<Figure size 432x288 with 1 Axes>"
            ],
            "image/png": "[encoded data removed]"
          },
          "metadata": {
            "needs_background": "light"
          }
        },
        {
          "output_type": "stream",
          "name": "stdout",
          "text": [
            "count 3\n"
          ]
        },
        {
          "output_type": "display_data",
          "data": {
            "text/plain": [
              "<Figure size 432x288 with 1 Axes>"
            ],
            "image/png": "[encoded data removed]"
          },
          "metadata": {
            "needs_background": "light"
          }
        },
        {
          "output_type": "stream",
          "name": "stdout",
          "text": [
            "count 4\n"
          ]
        },
        {
          "output_type": "display_data",
          "data": {
            "text/plain": [
              "<Figure size 432x288 with 1 Axes>"
            ],
            "image/png": "[encoded data removed]"
          },
          "metadata": {
            "needs_background": "light"
          }
        },
        {
          "output_type": "stream",
          "name": "stdout",
          "text": [
            "count 5\n"
          ]
        },
        {
          "output_type": "display_data",
          "data": {
            "text/plain": [
              "<Figure size 432x288 with 1 Axes>"
            ],
            "image/png": "[encoded data removed]"
          },
          "metadata": {
            "needs_background": "light"
          }
        }
      ]
    },
    {
      "cell_type": "code",
      "source": [],
      "metadata": {
        "id": "1uZdnNdTMpfn"
      },
      "execution_count": null,
      "outputs": []
    }
  ]
}